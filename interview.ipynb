{
 "cells": [
  {
   "cell_type": "code",
   "execution_count": 1,
   "id": "7c16782d-c32f-46cb-9beb-c6d268abb9bb",
   "metadata": {},
   "outputs": [],
   "source": [
    "import numpy as np\n",
    "import pandas as pd\n",
    "import matplotlib.pyplot as plt"
   ]
  },
  {
   "cell_type": "code",
   "execution_count": 2,
   "id": "6d39b500-5f96-495a-aee0-8b6f611d03f5",
   "metadata": {},
   "outputs": [],
   "source": [
    "data = pd.read_csv('test_recsys.csv')"
   ]
  },
  {
   "cell_type": "markdown",
   "id": "529d6951-03df-4b53-bd59-d0f32ed460b2",
   "metadata": {},
   "source": [
    "# Анализ датасета"
   ]
  },
  {
   "cell_type": "code",
   "execution_count": 3,
   "id": "7016ca6e-24c5-4c81-9d9d-72ad68f8eacd",
   "metadata": {},
   "outputs": [
    {
     "data": {
      "text/html": [
       "<div>\n",
       "<style scoped>\n",
       "    .dataframe tbody tr th:only-of-type {\n",
       "        vertical-align: middle;\n",
       "    }\n",
       "\n",
       "    .dataframe tbody tr th {\n",
       "        vertical-align: top;\n",
       "    }\n",
       "\n",
       "    .dataframe thead th {\n",
       "        text-align: right;\n",
       "    }\n",
       "</style>\n",
       "<table border=\"1\" class=\"dataframe\">\n",
       "  <thead>\n",
       "    <tr style=\"text-align: right;\">\n",
       "      <th></th>\n",
       "      <th>sequence</th>\n",
       "    </tr>\n",
       "  </thead>\n",
       "  <tbody>\n",
       "    <tr>\n",
       "      <th>0</th>\n",
       "      <td>['B07HB3B78C' 'B07HB3B78C' 'B07HB3B78C' 'B089L...</td>\n",
       "    </tr>\n",
       "    <tr>\n",
       "      <th>1</th>\n",
       "      <td>['B00I3P3BRS' 'B00I3P3DXK' 'B086C24G9G' 'B00I3...</td>\n",
       "    </tr>\n",
       "    <tr>\n",
       "      <th>2</th>\n",
       "      <td>['B07VFT4D6B' 'B08CKYFLHQ' 'B076Q6P3TW']</td>\n",
       "    </tr>\n",
       "    <tr>\n",
       "      <th>3</th>\n",
       "      <td>['B07H4Q5LFH' 'B0B7S7LBMB' 'B094R3R9XH' 'B0B7S...</td>\n",
       "    </tr>\n",
       "    <tr>\n",
       "      <th>4</th>\n",
       "      <td>['B0BD5GYKXP' 'B0B7BBS7D7' 'B0B5XH75H7']</td>\n",
       "    </tr>\n",
       "    <tr>\n",
       "      <th>...</th>\n",
       "      <td>...</td>\n",
       "    </tr>\n",
       "    <tr>\n",
       "      <th>117556</th>\n",
       "      <td>['B07FX93CG2' 'B07FXP2M63' 'B07FX93CG2' 'B07FX...</td>\n",
       "    </tr>\n",
       "    <tr>\n",
       "      <th>117557</th>\n",
       "      <td>['B00B7KSU5Y' 'B00JWVCL8C' 'B00JWVCHF4' 'B00L1...</td>\n",
       "    </tr>\n",
       "    <tr>\n",
       "      <th>117558</th>\n",
       "      <td>['B0BDJ37NF5' 'B07S1CM445' 'B09JQZ5DYM']</td>\n",
       "    </tr>\n",
       "    <tr>\n",
       "      <th>117559</th>\n",
       "      <td>['B0031TFZRK' 'B0031TFZRK' 'B07DWBBW9H']</td>\n",
       "    </tr>\n",
       "    <tr>\n",
       "      <th>117560</th>\n",
       "      <td>['B0BGLCCJSN' 'B0B42Z38BQ' 'B0B38CH2K4']</td>\n",
       "    </tr>\n",
       "  </tbody>\n",
       "</table>\n",
       "<p>117561 rows × 1 columns</p>\n",
       "</div>"
      ],
      "text/plain": [
       "                                                 sequence\n",
       "0       ['B07HB3B78C' 'B07HB3B78C' 'B07HB3B78C' 'B089L...\n",
       "1       ['B00I3P3BRS' 'B00I3P3DXK' 'B086C24G9G' 'B00I3...\n",
       "2                ['B07VFT4D6B' 'B08CKYFLHQ' 'B076Q6P3TW']\n",
       "3       ['B07H4Q5LFH' 'B0B7S7LBMB' 'B094R3R9XH' 'B0B7S...\n",
       "4                ['B0BD5GYKXP' 'B0B7BBS7D7' 'B0B5XH75H7']\n",
       "...                                                   ...\n",
       "117556  ['B07FX93CG2' 'B07FXP2M63' 'B07FX93CG2' 'B07FX...\n",
       "117557  ['B00B7KSU5Y' 'B00JWVCL8C' 'B00JWVCHF4' 'B00L1...\n",
       "117558           ['B0BDJ37NF5' 'B07S1CM445' 'B09JQZ5DYM']\n",
       "117559           ['B0031TFZRK' 'B0031TFZRK' 'B07DWBBW9H']\n",
       "117560           ['B0BGLCCJSN' 'B0B42Z38BQ' 'B0B38CH2K4']\n",
       "\n",
       "[117561 rows x 1 columns]"
      ]
     },
     "execution_count": 3,
     "metadata": {},
     "output_type": "execute_result"
    }
   ],
   "source": [
    "data"
   ]
  },
  {
   "cell_type": "code",
   "execution_count": 4,
   "id": "6e87ddc4-358b-45a7-aa5e-9689e62e4343",
   "metadata": {},
   "outputs": [
    {
     "data": {
      "text/html": [
       "<div>\n",
       "<style scoped>\n",
       "    .dataframe tbody tr th:only-of-type {\n",
       "        vertical-align: middle;\n",
       "    }\n",
       "\n",
       "    .dataframe tbody tr th {\n",
       "        vertical-align: top;\n",
       "    }\n",
       "\n",
       "    .dataframe thead th {\n",
       "        text-align: right;\n",
       "    }\n",
       "</style>\n",
       "<table border=\"1\" class=\"dataframe\">\n",
       "  <thead>\n",
       "    <tr style=\"text-align: right;\">\n",
       "      <th></th>\n",
       "      <th>sequence</th>\n",
       "    </tr>\n",
       "  </thead>\n",
       "  <tbody>\n",
       "    <tr>\n",
       "      <th>count</th>\n",
       "      <td>117561</td>\n",
       "    </tr>\n",
       "    <tr>\n",
       "      <th>unique</th>\n",
       "      <td>111158</td>\n",
       "    </tr>\n",
       "    <tr>\n",
       "      <th>top</th>\n",
       "      <td>['B00I3P3DXK' 'B086C24G9G' 'B00I3P3BRS']</td>\n",
       "    </tr>\n",
       "    <tr>\n",
       "      <th>freq</th>\n",
       "      <td>22</td>\n",
       "    </tr>\n",
       "  </tbody>\n",
       "</table>\n",
       "</div>"
      ],
      "text/plain": [
       "                                        sequence\n",
       "count                                     117561\n",
       "unique                                    111158\n",
       "top     ['B00I3P3DXK' 'B086C24G9G' 'B00I3P3BRS']\n",
       "freq                                          22"
      ]
     },
     "execution_count": 4,
     "metadata": {},
     "output_type": "execute_result"
    }
   ],
   "source": [
    "data.describe()"
   ]
  },
  {
   "cell_type": "code",
   "execution_count": 5,
   "id": "c8d7250f-bb59-4f76-9e35-b3cf81b45b1e",
   "metadata": {},
   "outputs": [
    {
     "data": {
      "text/plain": [
       "sequence\n",
       "['B00I3P3DXK' 'B086C24G9G' 'B00I3P3BRS']                                           22\n",
       "['B00I3P3DXK' 'B086C24G9G' 'B07BC7TDP3']                                           21\n",
       "['B00I3P3DXK' 'B086C24G9G' 'B01M8III6O']                                           19\n",
       "['B001B4SARE' 'B001BAYDH4' 'B001B4S3BM']                                           18\n",
       "['B00I3P3DXK' 'B086C24G9G' 'B00I3P3EJ8']                                           16\n",
       "                                                                                   ..\n",
       "['B087G5R55D' 'B087G5R55D' 'B085T9Z6BB' 'B079NM9MQS']                               1\n",
       "['B073Q1R4RJ' 'B073Q27L9D' 'B078XY9BB4' 'B01NC01X35']                               1\n",
       "['B08HDJR1KV' 'B07YG61S84' 'B0852W5RR2' 'B09N38LZ9M' 'B0931YVWF4' 'B085L1XG7V']     1\n",
       "['B079ZT5P2C' 'B09686F47W' 'B081Y1VGG2' 'B010LCKBNW' 'B09FLV5F42']                  1\n",
       "['B0031TFZRK' 'B0031TFZRK' 'B07DWBBW9H']                                            1\n",
       "Name: count, Length: 111158, dtype: int64"
      ]
     },
     "execution_count": 5,
     "metadata": {},
     "output_type": "execute_result"
    }
   ],
   "source": [
    "data['sequence'].value_counts()"
   ]
  },
  {
   "cell_type": "code",
   "execution_count": 6,
   "id": "f3177179-76fe-4034-9aeb-04ba91b98853",
   "metadata": {},
   "outputs": [],
   "source": [
    "def split_sequence(sequence: str):\n",
    "    return sequence.strip('[]').replace(\"'\", \"\").split()"
   ]
  },
  {
   "cell_type": "markdown",
   "id": "726096c9-fe75-4fa0-b691-24e15ea0767c",
   "metadata": {},
   "source": [
    "## преобразование sequence в список"
   ]
  },
  {
   "cell_type": "code",
   "execution_count": 7,
   "id": "7b4f9bd6-b813-4ddc-afe2-0f7d82c87bcc",
   "metadata": {},
   "outputs": [],
   "source": [
    "data['sequence'] = data['sequence'].apply(split_sequence)"
   ]
  },
  {
   "cell_type": "code",
   "execution_count": 8,
   "id": "5a26e8f7-5f5c-4d04-9fdc-1d91d8a634f4",
   "metadata": {},
   "outputs": [],
   "source": [
    "data['seq_len'] = data['sequence'].apply(len)"
   ]
  },
  {
   "cell_type": "code",
   "execution_count": 9,
   "id": "045f51fc-cbbb-422d-9fb7-7e615ec78cf6",
   "metadata": {},
   "outputs": [
    {
     "data": {
      "text/html": [
       "<div>\n",
       "<style scoped>\n",
       "    .dataframe tbody tr th:only-of-type {\n",
       "        vertical-align: middle;\n",
       "    }\n",
       "\n",
       "    .dataframe tbody tr th {\n",
       "        vertical-align: top;\n",
       "    }\n",
       "\n",
       "    .dataframe thead th {\n",
       "        text-align: right;\n",
       "    }\n",
       "</style>\n",
       "<table border=\"1\" class=\"dataframe\">\n",
       "  <thead>\n",
       "    <tr style=\"text-align: right;\">\n",
       "      <th></th>\n",
       "      <th>sequence</th>\n",
       "      <th>seq_len</th>\n",
       "    </tr>\n",
       "  </thead>\n",
       "  <tbody>\n",
       "    <tr>\n",
       "      <th>0</th>\n",
       "      <td>[B07HB3B78C, B07HB3B78C, B07HB3B78C, B089LDLP8...</td>\n",
       "      <td>5</td>\n",
       "    </tr>\n",
       "    <tr>\n",
       "      <th>1</th>\n",
       "      <td>[B00I3P3BRS, B00I3P3DXK, B086C24G9G, B00I3P3DX...</td>\n",
       "      <td>6</td>\n",
       "    </tr>\n",
       "    <tr>\n",
       "      <th>2</th>\n",
       "      <td>[B07VFT4D6B, B08CKYFLHQ, B076Q6P3TW]</td>\n",
       "      <td>3</td>\n",
       "    </tr>\n",
       "    <tr>\n",
       "      <th>3</th>\n",
       "      <td>[B07H4Q5LFH, B0B7S7LBMB, B094R3R9XH, B0B7S7LBM...</td>\n",
       "      <td>7</td>\n",
       "    </tr>\n",
       "    <tr>\n",
       "      <th>4</th>\n",
       "      <td>[B0BD5GYKXP, B0B7BBS7D7, B0B5XH75H7]</td>\n",
       "      <td>3</td>\n",
       "    </tr>\n",
       "    <tr>\n",
       "      <th>...</th>\n",
       "      <td>...</td>\n",
       "      <td>...</td>\n",
       "    </tr>\n",
       "    <tr>\n",
       "      <th>117556</th>\n",
       "      <td>[B07FX93CG2, B07FXP2M63, B07FX93CG2, B07FXP2M6...</td>\n",
       "      <td>6</td>\n",
       "    </tr>\n",
       "    <tr>\n",
       "      <th>117557</th>\n",
       "      <td>[B00B7KSU5Y, B00JWVCL8C, B00JWVCHF4, B00L15FRWY]</td>\n",
       "      <td>4</td>\n",
       "    </tr>\n",
       "    <tr>\n",
       "      <th>117558</th>\n",
       "      <td>[B0BDJ37NF5, B07S1CM445, B09JQZ5DYM]</td>\n",
       "      <td>3</td>\n",
       "    </tr>\n",
       "    <tr>\n",
       "      <th>117559</th>\n",
       "      <td>[B0031TFZRK, B0031TFZRK, B07DWBBW9H]</td>\n",
       "      <td>3</td>\n",
       "    </tr>\n",
       "    <tr>\n",
       "      <th>117560</th>\n",
       "      <td>[B0BGLCCJSN, B0B42Z38BQ, B0B38CH2K4]</td>\n",
       "      <td>3</td>\n",
       "    </tr>\n",
       "  </tbody>\n",
       "</table>\n",
       "<p>117561 rows × 2 columns</p>\n",
       "</div>"
      ],
      "text/plain": [
       "                                                 sequence  seq_len\n",
       "0       [B07HB3B78C, B07HB3B78C, B07HB3B78C, B089LDLP8...        5\n",
       "1       [B00I3P3BRS, B00I3P3DXK, B086C24G9G, B00I3P3DX...        6\n",
       "2                    [B07VFT4D6B, B08CKYFLHQ, B076Q6P3TW]        3\n",
       "3       [B07H4Q5LFH, B0B7S7LBMB, B094R3R9XH, B0B7S7LBM...        7\n",
       "4                    [B0BD5GYKXP, B0B7BBS7D7, B0B5XH75H7]        3\n",
       "...                                                   ...      ...\n",
       "117556  [B07FX93CG2, B07FXP2M63, B07FX93CG2, B07FXP2M6...        6\n",
       "117557   [B00B7KSU5Y, B00JWVCL8C, B00JWVCHF4, B00L15FRWY]        4\n",
       "117558               [B0BDJ37NF5, B07S1CM445, B09JQZ5DYM]        3\n",
       "117559               [B0031TFZRK, B0031TFZRK, B07DWBBW9H]        3\n",
       "117560               [B0BGLCCJSN, B0B42Z38BQ, B0B38CH2K4]        3\n",
       "\n",
       "[117561 rows x 2 columns]"
      ]
     },
     "execution_count": 9,
     "metadata": {},
     "output_type": "execute_result"
    }
   ],
   "source": [
    "data"
   ]
  },
  {
   "cell_type": "code",
   "execution_count": 10,
   "id": "1dfa6b10-c773-406a-8d6e-808e93d58188",
   "metadata": {},
   "outputs": [
    {
     "data": {
      "text/plain": [
       "seq_len\n",
       "3     52535\n",
       "4     25811\n",
       "5     14712\n",
       "6      8648\n",
       "7      5260\n",
       "8      3361\n",
       "9      2173\n",
       "10     1508\n",
       "11      980\n",
       "12      647\n",
       "13      528\n",
       "14      345\n",
       "15      240\n",
       "16      197\n",
       "17      146\n",
       "18      108\n",
       "19       76\n",
       "20       56\n",
       "21       55\n",
       "23       31\n",
       "22       30\n",
       "24       24\n",
       "25       19\n",
       "26       11\n",
       "28       11\n",
       "27       10\n",
       "32        8\n",
       "29        7\n",
       "30        6\n",
       "31        4\n",
       "33        4\n",
       "34        3\n",
       "39        2\n",
       "40        1\n",
       "44        1\n",
       "43        1\n",
       "53        1\n",
       "38        1\n",
       "Name: count, dtype: int64"
      ]
     },
     "execution_count": 10,
     "metadata": {},
     "output_type": "execute_result"
    }
   ],
   "source": [
    "data['seq_len'].value_counts()"
   ]
  },
  {
   "cell_type": "code",
   "execution_count": 11,
   "id": "08c573d8-1531-4b35-a90d-683a18931323",
   "metadata": {},
   "outputs": [
    {
     "data": {
      "text/plain": [
       "4.545367936645656"
      ]
     },
     "execution_count": 11,
     "metadata": {},
     "output_type": "execute_result"
    }
   ],
   "source": [
    "data['seq_len'].mean()"
   ]
  },
  {
   "cell_type": "code",
   "execution_count": 12,
   "id": "5b52add6-c080-465a-944d-cee844fffcd0",
   "metadata": {},
   "outputs": [
    {
     "data": {
      "text/plain": [
       "<Axes: >"
      ]
     },
     "execution_count": 12,
     "metadata": {},
     "output_type": "execute_result"
    },
    {
     "data": {
      "image/png": "[encoded data removed]",
      "text/plain": [
       "<Figure size 640x480 with 1 Axes>"
      ]
     },
     "metadata": {},
     "output_type": "display_data"
    }
   ],
   "source": [
    "data['seq_len'].hist(bins=data['seq_len'].nunique())"
   ]
  },
  {
   "cell_type": "markdown",
   "id": "e1f2cf9f-9747-475d-8c95-9ba397d455bf",
   "metadata": {},
   "source": [
    "## Посмотрим на частоту товаров"
   ]
  },
  {
   "cell_type": "code",
   "execution_count": 13,
   "id": "8fad2d28-fcca-4350-8282-bcf94912d510",
   "metadata": {},
   "outputs": [],
   "source": [
    "def get_items_series(data: pd.Series):\n",
    "    items_list = data.to_numpy()\n",
    "    items_list = np.concatenate(items_list).flatten()\n",
    "    items_series = pd.Series(items_list)\n",
    "    return items_series"
   ]
  },
  {
   "cell_type": "code",
   "execution_count": 14,
   "id": "ae583a0e-d629-48cf-b819-106da12b9ec5",
   "metadata": {},
   "outputs": [
    {
     "data": {
      "text/plain": [
       "0         B07HB3B78C\n",
       "1         B07HB3B78C\n",
       "2         B07HB3B78C\n",
       "3         B089LDLP8W\n",
       "4         B0924SNP46\n",
       "             ...    \n",
       "534353    B0031TFZRK\n",
       "534354    B07DWBBW9H\n",
       "534355    B0BGLCCJSN\n",
       "534356    B0B42Z38BQ\n",
       "534357    B0B38CH2K4\n",
       "Length: 534358, dtype: object"
      ]
     },
     "execution_count": 14,
     "metadata": {},
     "output_type": "execute_result"
    }
   ],
   "source": [
    "items_series = get_items_series(data['sequence'])\n",
    "items_series"
   ]
  },
  {
   "cell_type": "code",
   "execution_count": 15,
   "id": "45cabcc7-fdf1-4573-974c-24e263687b2a",
   "metadata": {},
   "outputs": [
    {
     "data": {
      "text/plain": [
       "B092323P8M    481\n",
       "B07PMQDWVP    468\n",
       "B07PMR72ZG    447\n",
       "B07SYYQ374    443\n",
       "B00I3P3DXK    368\n",
       "             ... \n",
       "B0055GVZNK      1\n",
       "B01ARZUTK8      1\n",
       "B002LFZ692      1\n",
       "B083Y6FD6H      1\n",
       "B07DWBBW9H      1\n",
       "Name: count, Length: 43033, dtype: int64"
      ]
     },
     "execution_count": 15,
     "metadata": {},
     "output_type": "execute_result"
    }
   ],
   "source": [
    "items_series.value_counts()"
   ]
  },
  {
   "cell_type": "markdown",
   "id": "a4e3cee0-2822-41b8-81a0-b87f3b7b7bb9",
   "metadata": {},
   "source": [
    "# Теперь попробуем несколько подходов к решению задачи"
   ]
  },
  {
   "cell_type": "markdown",
   "id": "be02f21e-e814-4ae9-bfe9-324ba08af95c",
   "metadata": {},
   "source": [
    "## 1. Коллаборативная фильтрация\n",
    "### Не будем учитывать последовательность взаимодействий, а просто искать наиболее близких покупателей и рекомендовать то, что взяли они"
   ]
  },
  {
   "cell_type": "markdown",
   "id": "413df350-02ed-4b72-83da-f86de5c578f5",
   "metadata": {},
   "source": [
    "### Реализуем interaction matrix"
   ]
  },
  {
   "cell_type": "markdown",
   "id": "8947ebeb-2b4b-4572-88f6-abaf618c5db5",
   "metadata": {},
   "source": [
    "### Train-test split"
   ]
  },
  {
   "cell_type": "code",
   "execution_count": 16,
   "id": "82e98ddf",
   "metadata": {},
   "outputs": [],
   "source": [
    "def remove_last_elem(column):\n",
    "    column = column[:-1]\n",
    "    return column"
   ]
  },
  {
   "cell_type": "code",
   "execution_count": 17,
   "id": "80123040-e88a-49be-9e58-3be54fcd6379",
   "metadata": {},
   "outputs": [],
   "source": [
    "test_data = pd.DataFrame(columns=data.columns)"
   ]
  },
  {
   "cell_type": "code",
   "execution_count": 18,
   "id": "4bafe512-4aee-46f8-b22b-d886db5b40e4",
   "metadata": {},
   "outputs": [],
   "source": [
    "last_elems = [elem[-1] for elem in data['sequence'].to_list()]"
   ]
  },
  {
   "cell_type": "code",
   "execution_count": 19,
   "id": "9ec38f32-ab42-422e-b1d9-b0101cf9baca",
   "metadata": {},
   "outputs": [],
   "source": [
    "test_data['sequence'] = last_elems\n",
    "test_data['seq_len'] = 1"
   ]
  },
  {
   "cell_type": "code",
   "execution_count": 20,
   "id": "daafb9cc-2540-4cca-b5a6-e7b130c6d29a",
   "metadata": {},
   "outputs": [
    {
     "data": {
      "text/html": [
       "<div>\n",
       "<style scoped>\n",
       "    .dataframe tbody tr th:only-of-type {\n",
       "        vertical-align: middle;\n",
       "    }\n",
       "\n",
       "    .dataframe tbody tr th {\n",
       "        vertical-align: top;\n",
       "    }\n",
       "\n",
       "    .dataframe thead th {\n",
       "        text-align: right;\n",
       "    }\n",
       "</style>\n",
       "<table border=\"1\" class=\"dataframe\">\n",
       "  <thead>\n",
       "    <tr style=\"text-align: right;\">\n",
       "      <th></th>\n",
       "      <th>sequence</th>\n",
       "      <th>seq_len</th>\n",
       "    </tr>\n",
       "  </thead>\n",
       "  <tbody>\n",
       "    <tr>\n",
       "      <th>0</th>\n",
       "      <td>B0924SNP46</td>\n",
       "      <td>1</td>\n",
       "    </tr>\n",
       "    <tr>\n",
       "      <th>1</th>\n",
       "      <td>B00I3P3CQI</td>\n",
       "      <td>1</td>\n",
       "    </tr>\n",
       "    <tr>\n",
       "      <th>2</th>\n",
       "      <td>B076Q6P3TW</td>\n",
       "      <td>1</td>\n",
       "    </tr>\n",
       "    <tr>\n",
       "      <th>3</th>\n",
       "      <td>B0B5ND342Y</td>\n",
       "      <td>1</td>\n",
       "    </tr>\n",
       "    <tr>\n",
       "      <th>4</th>\n",
       "      <td>B0B5XH75H7</td>\n",
       "      <td>1</td>\n",
       "    </tr>\n",
       "    <tr>\n",
       "      <th>...</th>\n",
       "      <td>...</td>\n",
       "      <td>...</td>\n",
       "    </tr>\n",
       "    <tr>\n",
       "      <th>117556</th>\n",
       "      <td>B0B3ZYX4MN</td>\n",
       "      <td>1</td>\n",
       "    </tr>\n",
       "    <tr>\n",
       "      <th>117557</th>\n",
       "      <td>B00L15FRWY</td>\n",
       "      <td>1</td>\n",
       "    </tr>\n",
       "    <tr>\n",
       "      <th>117558</th>\n",
       "      <td>B09JQZ5DYM</td>\n",
       "      <td>1</td>\n",
       "    </tr>\n",
       "    <tr>\n",
       "      <th>117559</th>\n",
       "      <td>B07DWBBW9H</td>\n",
       "      <td>1</td>\n",
       "    </tr>\n",
       "    <tr>\n",
       "      <th>117560</th>\n",
       "      <td>B0B38CH2K4</td>\n",
       "      <td>1</td>\n",
       "    </tr>\n",
       "  </tbody>\n",
       "</table>\n",
       "<p>117561 rows × 2 columns</p>\n",
       "</div>"
      ],
      "text/plain": [
       "          sequence  seq_len\n",
       "0       B0924SNP46        1\n",
       "1       B00I3P3CQI        1\n",
       "2       B076Q6P3TW        1\n",
       "3       B0B5ND342Y        1\n",
       "4       B0B5XH75H7        1\n",
       "...            ...      ...\n",
       "117556  B0B3ZYX4MN        1\n",
       "117557  B00L15FRWY        1\n",
       "117558  B09JQZ5DYM        1\n",
       "117559  B07DWBBW9H        1\n",
       "117560  B0B38CH2K4        1\n",
       "\n",
       "[117561 rows x 2 columns]"
      ]
     },
     "execution_count": 20,
     "metadata": {},
     "output_type": "execute_result"
    }
   ],
   "source": [
    "test_data"
   ]
  },
  {
   "cell_type": "code",
   "execution_count": 21,
   "id": "06ccc32b-724f-4f0f-ba81-d50b71bc2a78",
   "metadata": {},
   "outputs": [],
   "source": [
    "train_data = data.copy()"
   ]
  },
  {
   "cell_type": "code",
   "execution_count": 22,
   "id": "89709d34-247e-4d12-886f-cefb36aa56a8",
   "metadata": {},
   "outputs": [],
   "source": [
    "train_data['sequence'] = train_data['sequence'].apply(remove_last_elem)"
   ]
  },
  {
   "cell_type": "code",
   "execution_count": 23,
   "id": "88ab8d12-b9d9-42e0-b209-398e8d8bb2ed",
   "metadata": {},
   "outputs": [
    {
     "data": {
      "text/html": [
       "<div>\n",
       "<style scoped>\n",
       "    .dataframe tbody tr th:only-of-type {\n",
       "        vertical-align: middle;\n",
       "    }\n",
       "\n",
       "    .dataframe tbody tr th {\n",
       "        vertical-align: top;\n",
       "    }\n",
       "\n",
       "    .dataframe thead th {\n",
       "        text-align: right;\n",
       "    }\n",
       "</style>\n",
       "<table border=\"1\" class=\"dataframe\">\n",
       "  <thead>\n",
       "    <tr style=\"text-align: right;\">\n",
       "      <th></th>\n",
       "      <th>sequence</th>\n",
       "      <th>seq_len</th>\n",
       "    </tr>\n",
       "  </thead>\n",
       "  <tbody>\n",
       "    <tr>\n",
       "      <th>0</th>\n",
       "      <td>[B07HB3B78C, B07HB3B78C, B07HB3B78C, B089LDLP8W]</td>\n",
       "      <td>4</td>\n",
       "    </tr>\n",
       "    <tr>\n",
       "      <th>1</th>\n",
       "      <td>[B00I3P3BRS, B00I3P3DXK, B086C24G9G, B00I3P3DX...</td>\n",
       "      <td>5</td>\n",
       "    </tr>\n",
       "    <tr>\n",
       "      <th>2</th>\n",
       "      <td>[B07VFT4D6B, B08CKYFLHQ]</td>\n",
       "      <td>2</td>\n",
       "    </tr>\n",
       "    <tr>\n",
       "      <th>3</th>\n",
       "      <td>[B07H4Q5LFH, B0B7S7LBMB, B094R3R9XH, B0B7S7LBM...</td>\n",
       "      <td>6</td>\n",
       "    </tr>\n",
       "    <tr>\n",
       "      <th>4</th>\n",
       "      <td>[B0BD5GYKXP, B0B7BBS7D7]</td>\n",
       "      <td>2</td>\n",
       "    </tr>\n",
       "    <tr>\n",
       "      <th>...</th>\n",
       "      <td>...</td>\n",
       "      <td>...</td>\n",
       "    </tr>\n",
       "    <tr>\n",
       "      <th>117556</th>\n",
       "      <td>[B07FX93CG2, B07FXP2M63, B07FX93CG2, B07FXP2M6...</td>\n",
       "      <td>5</td>\n",
       "    </tr>\n",
       "    <tr>\n",
       "      <th>117557</th>\n",
       "      <td>[B00B7KSU5Y, B00JWVCL8C, B00JWVCHF4]</td>\n",
       "      <td>3</td>\n",
       "    </tr>\n",
       "    <tr>\n",
       "      <th>117558</th>\n",
       "      <td>[B0BDJ37NF5, B07S1CM445]</td>\n",
       "      <td>2</td>\n",
       "    </tr>\n",
       "    <tr>\n",
       "      <th>117559</th>\n",
       "      <td>[B0031TFZRK, B0031TFZRK]</td>\n",
       "      <td>2</td>\n",
       "    </tr>\n",
       "    <tr>\n",
       "      <th>117560</th>\n",
       "      <td>[B0BGLCCJSN, B0B42Z38BQ]</td>\n",
       "      <td>2</td>\n",
       "    </tr>\n",
       "  </tbody>\n",
       "</table>\n",
       "<p>117561 rows × 2 columns</p>\n",
       "</div>"
      ],
      "text/plain": [
       "                                                 sequence  seq_len\n",
       "0        [B07HB3B78C, B07HB3B78C, B07HB3B78C, B089LDLP8W]        4\n",
       "1       [B00I3P3BRS, B00I3P3DXK, B086C24G9G, B00I3P3DX...        5\n",
       "2                                [B07VFT4D6B, B08CKYFLHQ]        2\n",
       "3       [B07H4Q5LFH, B0B7S7LBMB, B094R3R9XH, B0B7S7LBM...        6\n",
       "4                                [B0BD5GYKXP, B0B7BBS7D7]        2\n",
       "...                                                   ...      ...\n",
       "117556  [B07FX93CG2, B07FXP2M63, B07FX93CG2, B07FXP2M6...        5\n",
       "117557               [B00B7KSU5Y, B00JWVCL8C, B00JWVCHF4]        3\n",
       "117558                           [B0BDJ37NF5, B07S1CM445]        2\n",
       "117559                           [B0031TFZRK, B0031TFZRK]        2\n",
       "117560                           [B0BGLCCJSN, B0B42Z38BQ]        2\n",
       "\n",
       "[117561 rows x 2 columns]"
      ]
     },
     "execution_count": 23,
     "metadata": {},
     "output_type": "execute_result"
    }
   ],
   "source": [
    "train_data['seq_len'] -= 1\n",
    "train_data"
   ]
  },
  {
   "cell_type": "code",
   "execution_count": 24,
   "id": "1225906a-7138-4407-8052-4cf2235b438f",
   "metadata": {},
   "outputs": [
    {
     "data": {
      "text/html": [
       "<div>\n",
       "<style scoped>\n",
       "    .dataframe tbody tr th:only-of-type {\n",
       "        vertical-align: middle;\n",
       "    }\n",
       "\n",
       "    .dataframe tbody tr th {\n",
       "        vertical-align: top;\n",
       "    }\n",
       "\n",
       "    .dataframe thead th {\n",
       "        text-align: right;\n",
       "    }\n",
       "</style>\n",
       "<table border=\"1\" class=\"dataframe\">\n",
       "  <thead>\n",
       "    <tr style=\"text-align: right;\">\n",
       "      <th></th>\n",
       "      <th>sequence</th>\n",
       "      <th>seq_len</th>\n",
       "    </tr>\n",
       "  </thead>\n",
       "  <tbody>\n",
       "    <tr>\n",
       "      <th>0</th>\n",
       "      <td>[B07HB3B78C, B07HB3B78C, B07HB3B78C, B089LDLP8W]</td>\n",
       "      <td>4</td>\n",
       "    </tr>\n",
       "    <tr>\n",
       "      <th>1</th>\n",
       "      <td>[B00I3P3BRS, B00I3P3DXK, B086C24G9G, B00I3P3DX...</td>\n",
       "      <td>5</td>\n",
       "    </tr>\n",
       "    <tr>\n",
       "      <th>2</th>\n",
       "      <td>[B07VFT4D6B, B08CKYFLHQ]</td>\n",
       "      <td>2</td>\n",
       "    </tr>\n",
       "    <tr>\n",
       "      <th>3</th>\n",
       "      <td>[B07H4Q5LFH, B0B7S7LBMB, B094R3R9XH, B0B7S7LBM...</td>\n",
       "      <td>6</td>\n",
       "    </tr>\n",
       "    <tr>\n",
       "      <th>4</th>\n",
       "      <td>[B0BD5GYKXP, B0B7BBS7D7]</td>\n",
       "      <td>2</td>\n",
       "    </tr>\n",
       "    <tr>\n",
       "      <th>...</th>\n",
       "      <td>...</td>\n",
       "      <td>...</td>\n",
       "    </tr>\n",
       "    <tr>\n",
       "      <th>117556</th>\n",
       "      <td>[B07FX93CG2, B07FXP2M63, B07FX93CG2, B07FXP2M6...</td>\n",
       "      <td>5</td>\n",
       "    </tr>\n",
       "    <tr>\n",
       "      <th>117557</th>\n",
       "      <td>[B00B7KSU5Y, B00JWVCL8C, B00JWVCHF4]</td>\n",
       "      <td>3</td>\n",
       "    </tr>\n",
       "    <tr>\n",
       "      <th>117558</th>\n",
       "      <td>[B0BDJ37NF5, B07S1CM445]</td>\n",
       "      <td>2</td>\n",
       "    </tr>\n",
       "    <tr>\n",
       "      <th>117559</th>\n",
       "      <td>[B0031TFZRK, B0031TFZRK]</td>\n",
       "      <td>2</td>\n",
       "    </tr>\n",
       "    <tr>\n",
       "      <th>117560</th>\n",
       "      <td>[B0BGLCCJSN, B0B42Z38BQ]</td>\n",
       "      <td>2</td>\n",
       "    </tr>\n",
       "  </tbody>\n",
       "</table>\n",
       "<p>117561 rows × 2 columns</p>\n",
       "</div>"
      ],
      "text/plain": [
       "                                                 sequence  seq_len\n",
       "0        [B07HB3B78C, B07HB3B78C, B07HB3B78C, B089LDLP8W]        4\n",
       "1       [B00I3P3BRS, B00I3P3DXK, B086C24G9G, B00I3P3DX...        5\n",
       "2                                [B07VFT4D6B, B08CKYFLHQ]        2\n",
       "3       [B07H4Q5LFH, B0B7S7LBMB, B094R3R9XH, B0B7S7LBM...        6\n",
       "4                                [B0BD5GYKXP, B0B7BBS7D7]        2\n",
       "...                                                   ...      ...\n",
       "117556  [B07FX93CG2, B07FXP2M63, B07FX93CG2, B07FXP2M6...        5\n",
       "117557               [B00B7KSU5Y, B00JWVCL8C, B00JWVCHF4]        3\n",
       "117558                           [B0BDJ37NF5, B07S1CM445]        2\n",
       "117559                           [B0031TFZRK, B0031TFZRK]        2\n",
       "117560                           [B0BGLCCJSN, B0B42Z38BQ]        2\n",
       "\n",
       "[117561 rows x 2 columns]"
      ]
     },
     "execution_count": 24,
     "metadata": {},
     "output_type": "execute_result"
    }
   ],
   "source": [
    "train_data"
   ]
  },
  {
   "cell_type": "markdown",
   "id": "41fe22f1-bd23-4a80-aef1-f658911794d8",
   "metadata": {},
   "source": [
    "### Поскольку у многих пользователей и так короткая сессионная история, для валидации возьмем последние айтемы только у тех пользователей, у кого последовательность имеет длину не менее 6."
   ]
  },
  {
   "cell_type": "code",
   "execution_count": 25,
   "id": "8f438864-85b7-421e-b43d-7c706b6d214b",
   "metadata": {},
   "outputs": [],
   "source": [
    "val_data = train_data[train_data['seq_len'] >= 6].copy()\n",
    "val_data['sequence'] = [elem[-1] for elem in val_data['sequence'].to_list()]\n",
    "val_data['seq_len'] = 1\n",
    "val_data['userID'] = val_data.index"
   ]
  },
  {
   "cell_type": "code",
   "execution_count": 26,
   "id": "c9d12fd4-50bf-4fc1-b6cb-24a0c8ffcd52",
   "metadata": {},
   "outputs": [],
   "source": [
    "train_data['sequence'] = train_data['sequence'].apply(lambda x: x[:-1] if len(x) >= 6 else x)\n",
    "train_data['seq_len'] = train_data['seq_len'].apply(lambda x: x - 1 if x >= 6 else x)"
   ]
  },
  {
   "cell_type": "code",
   "execution_count": 27,
   "id": "44edd022-fe40-40ba-bea6-fd75bd3805d2",
   "metadata": {},
   "outputs": [
    {
     "data": {
      "text/html": [
       "<div>\n",
       "<style scoped>\n",
       "    .dataframe tbody tr th:only-of-type {\n",
       "        vertical-align: middle;\n",
       "    }\n",
       "\n",
       "    .dataframe tbody tr th {\n",
       "        vertical-align: top;\n",
       "    }\n",
       "\n",
       "    .dataframe thead th {\n",
       "        text-align: right;\n",
       "    }\n",
       "</style>\n",
       "<table border=\"1\" class=\"dataframe\">\n",
       "  <thead>\n",
       "    <tr style=\"text-align: right;\">\n",
       "      <th></th>\n",
       "      <th>sequence</th>\n",
       "      <th>seq_len</th>\n",
       "    </tr>\n",
       "  </thead>\n",
       "  <tbody>\n",
       "    <tr>\n",
       "      <th>0</th>\n",
       "      <td>[B07HB3B78C, B07HB3B78C, B07HB3B78C, B089LDLP8W]</td>\n",
       "      <td>4</td>\n",
       "    </tr>\n",
       "    <tr>\n",
       "      <th>1</th>\n",
       "      <td>[B00I3P3BRS, B00I3P3DXK, B086C24G9G, B00I3P3DX...</td>\n",
       "      <td>5</td>\n",
       "    </tr>\n",
       "    <tr>\n",
       "      <th>2</th>\n",
       "      <td>[B07VFT4D6B, B08CKYFLHQ]</td>\n",
       "      <td>2</td>\n",
       "    </tr>\n",
       "    <tr>\n",
       "      <th>3</th>\n",
       "      <td>[B07H4Q5LFH, B0B7S7LBMB, B094R3R9XH, B0B7S7LBM...</td>\n",
       "      <td>5</td>\n",
       "    </tr>\n",
       "    <tr>\n",
       "      <th>4</th>\n",
       "      <td>[B0BD5GYKXP, B0B7BBS7D7]</td>\n",
       "      <td>2</td>\n",
       "    </tr>\n",
       "    <tr>\n",
       "      <th>...</th>\n",
       "      <td>...</td>\n",
       "      <td>...</td>\n",
       "    </tr>\n",
       "    <tr>\n",
       "      <th>117556</th>\n",
       "      <td>[B07FX93CG2, B07FXP2M63, B07FX93CG2, B07FXP2M6...</td>\n",
       "      <td>5</td>\n",
       "    </tr>\n",
       "    <tr>\n",
       "      <th>117557</th>\n",
       "      <td>[B00B7KSU5Y, B00JWVCL8C, B00JWVCHF4]</td>\n",
       "      <td>3</td>\n",
       "    </tr>\n",
       "    <tr>\n",
       "      <th>117558</th>\n",
       "      <td>[B0BDJ37NF5, B07S1CM445]</td>\n",
       "      <td>2</td>\n",
       "    </tr>\n",
       "    <tr>\n",
       "      <th>117559</th>\n",
       "      <td>[B0031TFZRK, B0031TFZRK]</td>\n",
       "      <td>2</td>\n",
       "    </tr>\n",
       "    <tr>\n",
       "      <th>117560</th>\n",
       "      <td>[B0BGLCCJSN, B0B42Z38BQ]</td>\n",
       "      <td>2</td>\n",
       "    </tr>\n",
       "  </tbody>\n",
       "</table>\n",
       "<p>117561 rows × 2 columns</p>\n",
       "</div>"
      ],
      "text/plain": [
       "                                                 sequence  seq_len\n",
       "0        [B07HB3B78C, B07HB3B78C, B07HB3B78C, B089LDLP8W]        4\n",
       "1       [B00I3P3BRS, B00I3P3DXK, B086C24G9G, B00I3P3DX...        5\n",
       "2                                [B07VFT4D6B, B08CKYFLHQ]        2\n",
       "3       [B07H4Q5LFH, B0B7S7LBMB, B094R3R9XH, B0B7S7LBM...        5\n",
       "4                                [B0BD5GYKXP, B0B7BBS7D7]        2\n",
       "...                                                   ...      ...\n",
       "117556  [B07FX93CG2, B07FXP2M63, B07FX93CG2, B07FXP2M6...        5\n",
       "117557               [B00B7KSU5Y, B00JWVCL8C, B00JWVCHF4]        3\n",
       "117558                           [B0BDJ37NF5, B07S1CM445]        2\n",
       "117559                           [B0031TFZRK, B0031TFZRK]        2\n",
       "117560                           [B0BGLCCJSN, B0B42Z38BQ]        2\n",
       "\n",
       "[117561 rows x 2 columns]"
      ]
     },
     "execution_count": 27,
     "metadata": {},
     "output_type": "execute_result"
    }
   ],
   "source": [
    "train_data"
   ]
  },
  {
   "cell_type": "code",
   "execution_count": 28,
   "id": "1343bd26-aaab-4f82-99e9-2f781d7541f5",
   "metadata": {},
   "outputs": [],
   "source": [
    "items_series = get_items_series(data['sequence'])\n",
    "train_items_series = get_items_series(train_data['sequence'])"
   ]
  },
  {
   "cell_type": "code",
   "execution_count": 29,
   "id": "0f37e0d9-637d-480e-ac5f-92694825ff54",
   "metadata": {},
   "outputs": [],
   "source": [
    "item_to_index = {item:i for i, item in enumerate(items_series.unique())}"
   ]
  },
  {
   "cell_type": "code",
   "execution_count": 30,
   "id": "c219eda4-282c-4efd-930c-a6ec5c53e187",
   "metadata": {},
   "outputs": [
    {
     "data": {
      "text/plain": [
       "{'B07HB3B78C': 0,\n",
       " 'B089LDLP8W': 1,\n",
       " 'B0924SNP46': 2,\n",
       " 'B00I3P3BRS': 3,\n",
       " 'B00I3P3DXK': 4,\n",
       " 'B086C24G9G': 5,\n",
       " 'B00I3P3CQI': 6,\n",
       " 'B07VFT4D6B': 7,\n",
       " 'B08CKYFLHQ': 8,\n",
       " 'B076Q6P3TW': 9,\n",
       " 'B07H4Q5LFH': 10,\n",
       " 'B0B7S7LBMB': 11,\n",
       " 'B094R3R9XH': 12,\n",
       " 'B06XPL43C2': 13,\n",
       " 'B0B5NBQ387': 14,\n",
       " 'B0B5ND342Y': 15,\n",
       " 'B0BD5GYKXP': 16,\n",
       " 'B0B7BBS7D7': 17,\n",
       " 'B0B5XH75H7': 18,\n",
       " 'B07S34XKC6': 19,\n",
       " 'B07S22T3DR': 20,\n",
       " 'B07RZYTHT7': 21,\n",
       " 'B00BW4WAS8': 22,\n",
       " 'B01AS0PL46': 23,\n",
       " 'B00BW4W4ES': 24,\n",
       " 'B089GYML6S': 25,\n",
       " 'B0B76PNY4S': 26,\n",
       " 'B08SLR3HW9': 27,\n",
       " 'B0919TY3P1': 28,\n",
       " 'B083DC9J5M': 29,\n",
       " 'B08PFKRZYS': 30,\n",
       " 'B003E82NG4': 31,\n",
       " 'B00UAR1MXM': 32,\n",
       " 'B0BHM7T76K': 33,\n",
       " 'B09BY84W7H': 34,\n",
       " 'B00OQSZG6U': 35,\n",
       " 'B07DHFK73L': 36,\n",
       " 'B07WBWH12Q': 37,\n",
       " 'B09GFSKHFR': 38,\n",
       " 'B09PV3NCCL': 39,\n",
       " 'B09PFXH97W': 40,\n",
       " 'B098NL9XWJ': 41,\n",
       " 'B002BJOD2O': 42,\n",
       " 'B013ERLQDK': 43,\n",
       " 'B08H1SL55B': 44,\n",
       " 'B00EKPVT10': 45,\n",
       " 'B09XJW2XB4': 46,\n",
       " 'B09XJTS54R': 47,\n",
       " 'B0B5Y9LYKM': 48,\n",
       " 'B07KRL84G5': 49,\n",
       " 'B00TVNL5JW': 50,\n",
       " 'B007D7OVBM': 51,\n",
       " 'B00HP2LFWI': 52,\n",
       " '2047358868': 53,\n",
       " 'B01CGW2L24': 54,\n",
       " 'B09CC48YLX': 55,\n",
       " 'B09Q16HQB5': 56,\n",
       " 'B0BBSPF3TN': 57,\n",
       " 'B0B9S29DJX': 58,\n",
       " 'B09W9J7TWP': 59,\n",
       " 'B095CSP8V5': 60,\n",
       " 'B09FTMBVPZ': 61,\n",
       " 'B09GYHP2BC': 62,\n",
       " 'B09KC6DR9Q': 63,\n",
       " 'B08DF8YVWF': 64,\n",
       " 'B09BBF8J5Z': 65,\n",
       " 'B0999P78MS': 66,\n",
       " 'B093GZ6DQ6': 67,\n",
       " 'B07Z5NLHNV': 68,\n",
       " 'B06W59GMCB': 69,\n",
       " 'B07W85NMCC': 70,\n",
       " 'B0761SFN3S': 71,\n",
       " 'B00ROSVV7M': 72,\n",
       " 'B08CP29KSW': 73,\n",
       " 'B00G6PKDRI': 74,\n",
       " 'B07S5Z2NDW': 75,\n",
       " 'B09SG5FR8R': 76,\n",
       " 'B09G6Q6DX8': 77,\n",
       " 'B07TJH77GQ': 78,\n",
       " 'B01KUL1TVW': 79,\n",
       " 'B01KUL1TOE': 80,\n",
       " 'B01JGO8FR0': 81,\n",
       " 'B073ZJWT18': 82,\n",
       " 'B07L3565NS': 83,\n",
       " 'B01KUL1TWQ': 84,\n",
       " 'B091HPTZYH': 85,\n",
       " 'B0B2VS89KJ': 86,\n",
       " 'B09TW3FBQV': 87,\n",
       " 'B07TZM37MT': 88,\n",
       " 'B07V3143QB': 89,\n",
       " 'B08H23W4KF': 90,\n",
       " 'B085T9Z6BB': 91,\n",
       " 'B01AS0VBZE': 92,\n",
       " 'B00AB4638I': 93,\n",
       " 'B01AS0PFCO': 94,\n",
       " 'B06XXJCZJ3': 95,\n",
       " 'B086DRRKKH': 96,\n",
       " 'B086DTLD9Q': 97,\n",
       " 'B09L79HB2W': 98,\n",
       " 'B0822XRRX7': 99,\n",
       " 'B08NX69S5F': 100,\n",
       " 'B09KTYHPVX': 101,\n",
       " 'B07CWD5PX5': 102,\n",
       " 'B09L1H77W9': 103,\n",
       " 'B07255W62X': 104,\n",
       " 'B07NGVRYWX': 105,\n",
       " 'B08JM3NXYV': 106,\n",
       " 'B091V2X68B': 107,\n",
       " 'B08JM5YGRY': 108,\n",
       " 'B005HG5ZBQ': 109,\n",
       " 'B01E9XCO0C': 110,\n",
       " 'B0BG54YJVJ': 111,\n",
       " 'B00G5HWJIS': 112,\n",
       " 'B015NBNXLS': 113,\n",
       " 'B015NBO1H8': 114,\n",
       " 'B07235KN16': 115,\n",
       " 'B081S81BQN': 116,\n",
       " '2723492575': 117,\n",
       " 'B09X1MGSXY': 118,\n",
       " 'B07VFTVVWX': 119,\n",
       " 'B01N7RIIR2': 120,\n",
       " 'B01N5OORGV': 121,\n",
       " 'B072BZ66JL': 122,\n",
       " 'B08SR72PMM': 123,\n",
       " 'B09J8ZBGYV': 124,\n",
       " 'B07YQNPP3T': 125,\n",
       " 'B09BNXW29Q': 126,\n",
       " 'B09BNX11LQ': 127,\n",
       " 'B09QG4312T': 128,\n",
       " 'B09Y94LTFW': 129,\n",
       " 'B09BNYRF9P': 130,\n",
       " 'B09QG1SBH9': 131,\n",
       " 'B09CTC55X6': 132,\n",
       " 'B09MHL126R': 133,\n",
       " 'B09DXXJ8YH': 134,\n",
       " 'B0B7JNQX2F': 135,\n",
       " 'B0B7JSB1SB': 136,\n",
       " 'B0B7KW8M3W': 137,\n",
       " 'B07NLKZS8K': 138,\n",
       " 'B09MQGTDW4': 139,\n",
       " 'B07XS5CTRJ': 140,\n",
       " 'B07VPDT4L8': 141,\n",
       " 'B07VL5TYNZ': 142,\n",
       " 'B08LP5RZ3G': 143,\n",
       " 'B00CE2WQFY': 144,\n",
       " 'B083Q9N7MP': 145,\n",
       " 'B089CLG5G2': 146,\n",
       " 'B09GBGZC1Q': 147,\n",
       " 'B09GBJKVSM': 148,\n",
       " 'B099MS4CQW': 149,\n",
       " 'B09QHSL2D5': 150,\n",
       " 'B01M1G270P': 151,\n",
       " 'B01LXVQULA': 152,\n",
       " 'B073YF3RJH': 153,\n",
       " 'B073YF9NBV': 154,\n",
       " 'B09872HC81': 155,\n",
       " 'B09SNPHSXL': 156,\n",
       " 'B07SN4P98T': 157,\n",
       " 'B07RP8R1BC': 158,\n",
       " 'B09GB1PGY3': 159,\n",
       " 'B0B214WVVL': 160,\n",
       " 'B07DGK3PYM': 161,\n",
       " 'B09NRM1X53': 162,\n",
       " 'B09F3SRKHN': 163,\n",
       " 'B00VMADU6I': 164,\n",
       " 'B093C9FN7W': 165,\n",
       " 'B0774LQ8NG': 166,\n",
       " 'B0B8N4HQVG': 167,\n",
       " 'B08DJ9RG87': 168,\n",
       " 'B0B3XNSBQB': 169,\n",
       " 'B09BKYJD8G': 170,\n",
       " 'B081Y1M1FW': 171,\n",
       " 'B08G4CN5YD': 172,\n",
       " 'B08W8BGKH5': 173,\n",
       " 'B086NCXFBF': 174,\n",
       " 'B007QDW6DS': 175,\n",
       " 'B086NBCJYP': 176,\n",
       " 'B07QL7DDTF': 177,\n",
       " 'B01N4EGMTG': 178,\n",
       " 'B07R5JXTST': 179,\n",
       " 'B01N9IJW31': 180,\n",
       " 'B06X9NQ8GX': 181,\n",
       " 'B08135CLDG': 182,\n",
       " 'B08QRVJXGS': 183,\n",
       " 'B07JLFJKPQ': 184,\n",
       " 'B09CZGBLDT': 185,\n",
       " 'B082PGNDBV': 186,\n",
       " 'B09JSJYVHM': 187,\n",
       " 'B07NTQHW9W': 188,\n",
       " 'B07KF8QKFL': 189,\n",
       " 'B07L2QNX23': 190,\n",
       " 'B082HLQNX2': 191,\n",
       " 'B08K798GPF': 192,\n",
       " 'B09NKL2Q2F': 193,\n",
       " 'B09NKKCJXF': 194,\n",
       " 'B0B7W3RW4T': 195,\n",
       " 'B0B7W61MTV': 196,\n",
       " 'B005QKZLQC': 197,\n",
       " 'B098YRM7XX': 198,\n",
       " 'B003JY81TG': 199,\n",
       " 'B005L9EZWY': 200,\n",
       " 'B0BG2FMRJ8': 201,\n",
       " 'B09PDLF7LP': 202,\n",
       " 'B09Y88NVXG': 203,\n",
       " 'B0B7DSFSG4': 204,\n",
       " 'B0B7DPCCPQ': 205,\n",
       " 'B0B7DQDQRJ': 206,\n",
       " 'B09JWW2472': 207,\n",
       " 'B08DFLBWCP': 208,\n",
       " 'B07VXVKVNF': 209,\n",
       " 'B00X5EPR6A': 210,\n",
       " 'B07VNT5P83': 211,\n",
       " 'B077B5LDH1': 212,\n",
       " 'B077BV877P': 213,\n",
       " 'B07R4CNDRM': 214,\n",
       " 'B0B9B63NHP': 215,\n",
       " 'B09J4XDHN9': 216,\n",
       " 'B0007CXWC4': 217,\n",
       " 'B002N5MI2S': 218,\n",
       " 'B002GY7N1W': 219,\n",
       " 'B07XLDRM3H': 220,\n",
       " '2290158011': 221,\n",
       " '2401047662': 222,\n",
       " 'B07X12WPCB': 223,\n",
       " 'B0B61STFKJ': 224,\n",
       " 'B0B77Z5CST': 225,\n",
       " 'B00VAL018O': 226,\n",
       " 'B08GZHSBWZ': 227,\n",
       " 'B09CTZV4TR': 228,\n",
       " 'B07TTHJVT7': 229,\n",
       " 'B01N223WHL': 230,\n",
       " 'B092RM3K4G': 231,\n",
       " 'B07M9VQL1T': 232,\n",
       " 'B07F8D6DCZ': 233,\n",
       " 'B0B3QMBGVR': 234,\n",
       " 'B0BD8KY4DW': 235,\n",
       " 'B0BD8L34BB': 236,\n",
       " 'B084VPMWJ9': 237,\n",
       " 'B09LVGNN4V': 238,\n",
       " 'B00JKEK1O2': 239,\n",
       " 'B08FCY39D3': 240,\n",
       " 'B072KGQSTV': 241,\n",
       " 'B081N2VM4L': 242,\n",
       " 'B08CGQZ7ND': 243,\n",
       " 'B089GVNBLF': 244,\n",
       " 'B07JBGXXN6': 245,\n",
       " 'B09BC73MNS': 246,\n",
       " 'B09BC7WSHF': 247,\n",
       " 'B09C1TN64T': 248,\n",
       " 'B092QCLKHP': 249,\n",
       " 'B088FSHMQ3': 250,\n",
       " 'B09NRGJC75': 251,\n",
       " 'B092Q133M7': 252,\n",
       " 'B08PG8FSR1': 253,\n",
       " 'B01N6ZZ7UQ': 254,\n",
       " 'B07D2CRR3D': 255,\n",
       " 'B00JBA7HGU': 256,\n",
       " 'B09TB21BPF': 257,\n",
       " 'B09CYVGQ56': 258,\n",
       " 'B09CYXZCTK': 259,\n",
       " 'B09CYX29GM': 260,\n",
       " 'B09CYWCSPV': 261,\n",
       " 'B06XPFKD32': 262,\n",
       " 'B09WZ1C16H': 263,\n",
       " 'B08YQC62J1': 264,\n",
       " 'B07JMP8D53': 265,\n",
       " 'B01DYAPEXK': 266,\n",
       " 'B07Y347WQ5': 267,\n",
       " 'B00XUIWSTA': 268,\n",
       " 'B091PV6NWV': 269,\n",
       " 'B010G0FU9Y': 270,\n",
       " 'B07FDHWK76': 271,\n",
       " 'B0B75JM7GX': 272,\n",
       " 'B07XLML2YS': 273,\n",
       " 'B006YG8X9Y': 274,\n",
       " 'B019FRDKWI': 275,\n",
       " 'B01BIWKP58': 276,\n",
       " 'B08P95B5FR': 277,\n",
       " 'B09SZ2HZ3K': 278,\n",
       " 'B01M2AMPMU': 279,\n",
       " 'B08FDJ36XW': 280,\n",
       " 'B07PLSDPYN': 281,\n",
       " 'B0B73MD7H8': 282,\n",
       " 'B07512DV9Z': 283,\n",
       " 'B071DXC3NV': 284,\n",
       " 'B09MKCMZBM': 285,\n",
       " 'B08CN1VKFY': 286,\n",
       " 'B09MKCMVQF': 287,\n",
       " 'B0B8ZQG52C': 288,\n",
       " 'B09YXKQZ92': 289,\n",
       " 'B007JWWF28': 290,\n",
       " 'B082CYC1Z6': 291,\n",
       " 'B0B8P6JC3N': 292,\n",
       " 'B01M1FJCRO': 293,\n",
       " 'B07LFPJTVF': 294,\n",
       " 'B07LFRP5SS': 295,\n",
       " 'B07YQFYP8V': 296,\n",
       " 'B082VV3DHD': 297,\n",
       " 'B09NQGDDGF': 298,\n",
       " 'B09NRVP4H1': 299,\n",
       " 'B00LP414KK': 300,\n",
       " 'B016C2SHWM': 301,\n",
       " 'B00TWHJ9QI': 302,\n",
       " 'B085PY6ZRX': 303,\n",
       " 'B0B4HJSH4H': 304,\n",
       " 'B0B77ZPFDJ': 305,\n",
       " 'B08BJ1S5CP': 306,\n",
       " 'B08FSZT2J7': 307,\n",
       " 'B01KZPWQH4': 308,\n",
       " 'B01M9DXYL1': 309,\n",
       " 'B01MCWKLPR': 310,\n",
       " 'B07VD9JMPV': 311,\n",
       " 'B086R93X3S': 312,\n",
       " 'B07TKDPHVX': 313,\n",
       " 'B07TKDNYV4': 314,\n",
       " 'B07MLFBJG3': 315,\n",
       " 'B004KRI5QA': 316,\n",
       " 'B004KRGJFO': 317,\n",
       " 'B075KM1SV1': 318,\n",
       " 'B07QSPK2GQ': 319,\n",
       " 'B002WZM7VQ': 320,\n",
       " 'B07QNR8LGW': 321,\n",
       " 'B013DDMPXK': 322,\n",
       " 'B01N6L81AS': 323,\n",
       " 'B08NSZ94TP': 324,\n",
       " 'B07MMNYVTR': 325,\n",
       " 'B07MMNYJV9': 326,\n",
       " 'B07MT1SGWH': 327,\n",
       " 'B08RP4Z72P': 328,\n",
       " 'B084DJ28LQ': 329,\n",
       " 'B0888M3158': 330,\n",
       " 'B017DC9WTC': 331,\n",
       " 'B09TRFV2QZ': 332,\n",
       " 'B082T6GVKJ': 333,\n",
       " 'B07XS4XN9V': 334,\n",
       " 'B07J2R8LNL': 335,\n",
       " 'B00NBR70DO': 336,\n",
       " 'B000FTWT00': 337,\n",
       " 'B07DC4S1H3': 338,\n",
       " 'B082T6P545': 339,\n",
       " 'B082T6K8XX': 340,\n",
       " 'B082T6GXS5': 341,\n",
       " 'B08P1Z5X5M': 342,\n",
       " 'B07V7F4GGW': 343,\n",
       " 'B0B42GV13G': 344,\n",
       " 'B01N24R3WD': 345,\n",
       " 'B08T19F29G': 346,\n",
       " 'B08T1VJ2L5': 347,\n",
       " 'B08T1F4HRZ': 348,\n",
       " 'B086LLYK4S': 349,\n",
       " 'B087M14FY1': 350,\n",
       " 'B0BFFSRNGL': 351,\n",
       " 'B07994QL95': 352,\n",
       " 'B07CRG94G3': 353,\n",
       " 'B01608LKP4': 354,\n",
       " 'B0766D7R6S': 355,\n",
       " 'B079N37M6C': 356,\n",
       " 'B06WGZY234': 357,\n",
       " 'B01F8IW3QW': 358,\n",
       " 'B091PRBKYC': 359,\n",
       " 'B01LW92CYN': 360,\n",
       " 'B07147PTG3': 361,\n",
       " 'B07TLMRWQ5': 362,\n",
       " 'B0089602TQ': 363,\n",
       " 'B00B8CG5NK': 364,\n",
       " 'B08Z3328Y7': 365,\n",
       " 'B007XZIV9C': 366,\n",
       " 'B0B3SDFZXW': 367,\n",
       " 'B0B6GRMTBB': 368,\n",
       " 'B0BBWKV9DK': 369,\n",
       " 'B08KT6G7RC': 370,\n",
       " 'B08KTLZPK7': 371,\n",
       " 'B072FQV8BM': 372,\n",
       " 'B00JII8IQS': 373,\n",
       " 'B0753NXDPR': 374,\n",
       " 'B07NH2DYTN': 375,\n",
       " 'B09LD4S3BL': 376,\n",
       " 'B08YYPPRB7': 377,\n",
       " 'B07QPV9Z7X': 378,\n",
       " 'B09NYLS4LK': 379,\n",
       " 'B09T5N86FW': 380,\n",
       " 'B000YIDF5A': 381,\n",
       " 'B08872CKTL': 382,\n",
       " 'B00D7C4OLE': 383,\n",
       " 'B00CYKC3M2': 384,\n",
       " 'B082WLPFMM': 385,\n",
       " 'B08N7TJWTJ': 386,\n",
       " 'B08JCV6CXT': 387,\n",
       " 'B07W4DH9QZ': 388,\n",
       " 'B07MBP914X': 389,\n",
       " 'B015CM1Y6Y': 390,\n",
       " 'B092RV8G3N': 391,\n",
       " 'B09HPH9M4H': 392,\n",
       " 'B09FQDSTGJ': 393,\n",
       " 'B07QKC4WWD': 394,\n",
       " 'B0B5VHRX7F': 395,\n",
       " 'B07CNHJJQH': 396,\n",
       " 'B076ZHTQVL': 397,\n",
       " 'B07D5VYXTJ': 398,\n",
       " 'B09WMMFZG4': 399,\n",
       " 'B083V5GN2S': 400,\n",
       " 'B07QJ4R2Z7': 401,\n",
       " 'B09SHWCDBV': 402,\n",
       " 'B0B12Z9FNJ': 403,\n",
       " 'B0B12WH59Z': 404,\n",
       " 'B09WCHK1L2': 405,\n",
       " 'B09WCGGKX9': 406,\n",
       " 'B08TBDKQSB': 407,\n",
       " 'B08T1QPP9M': 408,\n",
       " 'B09Y1ZQLS7': 409,\n",
       " 'B082VPYS5T': 410,\n",
       " 'B01NCEC2NT': 411,\n",
       " 'B07WMR2PCT': 412,\n",
       " 'B00FZWPO5Y': 413,\n",
       " 'B004FUJIQS': 414,\n",
       " 'B0068M0TFU': 415,\n",
       " 'B00D14AAXE': 416,\n",
       " 'B0068LZYE2': 417,\n",
       " 'B08G444BQH': 418,\n",
       " 'B09JSF4N8C': 419,\n",
       " 'B0B15NCTLD': 420,\n",
       " 'B0B27N9JD4': 421,\n",
       " 'B07ZZGSBC7': 422,\n",
       " 'B07ZPF2D2F': 423,\n",
       " 'B0845ZBW49': 424,\n",
       " 'B089XW6WH8': 425,\n",
       " 'B07TRQH45S': 426,\n",
       " 'B0B62K5H9P': 427,\n",
       " 'B08H1YNK3P': 428,\n",
       " 'B00IF7RJUY': 429,\n",
       " 'B001VB4T86': 430,\n",
       " 'B082M2GM42': 431,\n",
       " '2723489906': 432,\n",
       " '2723489914': 433,\n",
       " '2723489922': 434,\n",
       " '2723489930': 435,\n",
       " 'B081CQ6D79': 436,\n",
       " 'B07QT2ZP3R': 437,\n",
       " 'B07QT2VKB5': 438,\n",
       " 'B07PMQDWVP': 439,\n",
       " 'B07PPTWKPD': 440,\n",
       " 'B07PMR72ZG': 441,\n",
       " 'B07SYYQ374': 442,\n",
       " 'B075KG7CBB': 443,\n",
       " 'B075K92CW6': 444,\n",
       " 'B07PHNT317': 445,\n",
       " 'B073P3JBZ3': 446,\n",
       " 'B073ZP5Z2X': 447,\n",
       " 'B09K5NGD2B': 448,\n",
       " 'B09BB8CDWB': 449,\n",
       " 'B0BH15MYKX': 450,\n",
       " 'B07ZY4PDM1': 451,\n",
       " 'B08PCJ1LCF': 452,\n",
       " 'B09Q6GLG2M': 453,\n",
       " 'B09F35DSJN': 454,\n",
       " 'B0B1F6HBQ8': 455,\n",
       " 'B09B7ZJQXJ': 456,\n",
       " 'B09S16Y58N': 457,\n",
       " 'B07NVTW8CH': 458,\n",
       " 'B07Q3GTBC6': 459,\n",
       " 'B0B77D141Z': 460,\n",
       " 'B09W48VC9K': 461,\n",
       " 'B09W4M46RP': 462,\n",
       " 'B08ZCB3C52': 463,\n",
       " 'B00CHOSXI8': 464,\n",
       " 'B00CHOSX2E': 465,\n",
       " 'B01B18C9QM': 466,\n",
       " 'B09DKNKC2B': 467,\n",
       " 'B01N3LKN0B': 468,\n",
       " 'B08FD64BPN': 469,\n",
       " 'B09G5L2G9H': 470,\n",
       " 'B01FDO6LKU': 471,\n",
       " 'B096M1R6H8': 472,\n",
       " 'B096LZ9KKK': 473,\n",
       " 'B0BBLHHJZ8': 474,\n",
       " 'B087DGWYNS': 475,\n",
       " 'B0BC1PJF3C': 476,\n",
       " 'B0854LLQPX': 477,\n",
       " 'B0854NFMPZ': 478,\n",
       " 'B0854M7TBD': 479,\n",
       " 'B07ZQGY54W': 480,\n",
       " 'B0B3J2PKMJ': 481,\n",
       " 'B0B3J28CXC': 482,\n",
       " '2226315241': 483,\n",
       " '2226328432': 484,\n",
       " '2492847411': 485,\n",
       " 'B01BY9RTNQ': 486,\n",
       " 'B094NW9YS2': 487,\n",
       " 'B094NYP33R': 488,\n",
       " 'B08CVP6VZK': 489,\n",
       " 'B08F5B97VT': 490,\n",
       " 'B0B6GQ4L5F': 491,\n",
       " 'B0B645XTZ6': 492,\n",
       " 'B0B643VS2M': 493,\n",
       " '3869931213': 494,\n",
       " '3869931167': 495,\n",
       " 'B07Z9CLTDL': 496,\n",
       " 'B07Z9CWYKW': 497,\n",
       " 'B0767H2W2B': 498,\n",
       " 'B07PV1863W': 499,\n",
       " 'B08C4Z69LN': 500,\n",
       " 'B08C511GQH': 501,\n",
       " 'B09F6T8CCR': 502,\n",
       " 'B09F6KS7XW': 503,\n",
       " 'B09F6L68NR': 504,\n",
       " 'B009HP8B8M': 505,\n",
       " 'B01IUO7TX8': 506,\n",
       " 'B08C88F4CB': 507,\n",
       " 'B0951H74JK': 508,\n",
       " 'B07CX756G4': 509,\n",
       " 'B0BF9PGB15': 510,\n",
       " 'B0B6P3YSWP': 511,\n",
       " 'B0797GCR6W': 512,\n",
       " 'B00MIOP7BI': 513,\n",
       " 'B06XPKCY2Y': 514,\n",
       " 'B0BCV7D2BX': 515,\n",
       " 'B09C389LBB': 516,\n",
       " 'B0995XCHJJ': 517,\n",
       " 'B09QHWSSNR': 518,\n",
       " 'B09QHYWBLT': 519,\n",
       " 'B0B9MPJQ92': 520,\n",
       " 'B09MKBDVGP': 521,\n",
       " 'B07WSQ9J48': 522,\n",
       " 'B07SS9BR3M': 523,\n",
       " 'B07N1KNKPH': 524,\n",
       " 'B0B8NPP45G': 525,\n",
       " 'B09QQH7JY9': 526,\n",
       " 'B0B8NRFH75': 527,\n",
       " 'B087DH9GT3': 528,\n",
       " 'B08K81325J': 529,\n",
       " 'B00F0B5ILK': 530,\n",
       " 'B07LGVS2TG': 531,\n",
       " 'B07LH45G51': 532,\n",
       " 'B00AFC1EDA': 533,\n",
       " 'B09QFQFY8D': 534,\n",
       " 'B09QG43GV1': 535,\n",
       " 'B08WWRJ2QJ': 536,\n",
       " 'B09JSHVK1N': 537,\n",
       " 'B09QFSG4ZB': 538,\n",
       " 'B09XHJDFZC': 539,\n",
       " 'B09ZV34YVR': 540,\n",
       " 'B08L7MNGQ6': 541,\n",
       " 'B09XB6LV84': 542,\n",
       " 'B08L5TKXW3': 543,\n",
       " 'B082TXYZR6': 544,\n",
       " 'B074KV9TT4': 545,\n",
       " 'B07FDLS3NH': 546,\n",
       " 'B0B5L81Z4G': 547,\n",
       " 'B0B18TG9N4': 548,\n",
       " 'B0050IID06': 549,\n",
       " 'B0013IUO6I': 550,\n",
       " 'B001KU7VQ0': 551,\n",
       " 'B08KTM9T74': 552,\n",
       " 'B00FJUPDNA': 553,\n",
       " 'B09CD1NN2Y': 554,\n",
       " 'B09MLM7GD1': 555,\n",
       " 'B08BG2N6D2': 556,\n",
       " 'B09XB5G5R1': 557,\n",
       " 'B09DL9VJLF': 558,\n",
       " 'B09WKC1TQC': 559,\n",
       " 'B01FDDO37E': 560,\n",
       " 'B01FXJSR02': 561,\n",
       " '2371022497': 562,\n",
       " '2266305379': 563,\n",
       " 'B07PT3KWPJ': 564,\n",
       " 'B08NF76J8L': 565,\n",
       " 'B07KFVMRK1': 566,\n",
       " 'B07B8RG4DN': 567,\n",
       " 'B07QYYZLQP': 568,\n",
       " 'B09WQRHGCB': 569,\n",
       " 'B0B9KPW1JC': 570,\n",
       " 'B01GGKYKQM': 571,\n",
       " 'B06XWNXJTY': 572,\n",
       " 'B07KFBMTJW': 573,\n",
       " 'B09SZ5SHDJ': 574,\n",
       " 'B09SZ43126': 575,\n",
       " 'B0B76N5KSR': 576,\n",
       " 'B09DGGPYT8': 577,\n",
       " 'B0B3D66RDV': 578,\n",
       " 'B000WFL8S6': 579,\n",
       " 'B000WFL8RW': 580,\n",
       " 'B000WFI8N4': 581,\n",
       " 'B08462QJLK': 582,\n",
       " 'B0BBWQ488Y': 583,\n",
       " 'B00M95G6KM': 584,\n",
       " 'B00M48WPGS': 585,\n",
       " 'B082KV7PPZ': 586,\n",
       " 'B01N5O1GL4': 587,\n",
       " 'B08NF85D2W': 588,\n",
       " 'B06XPGJYKJ': 589,\n",
       " 'B0963MX9N8': 590,\n",
       " 'B01N6NF5W7': 591,\n",
       " 'B07D5W7CHX': 592,\n",
       " 'B08PC1DMZ7': 593,\n",
       " 'B08PBZJWKJ': 594,\n",
       " 'B09YDDVSB4': 595,\n",
       " 'B09VY7MP1G': 596,\n",
       " 'B0B4SRFLTH': 597,\n",
       " 'B0B1TLH7WC': 598,\n",
       " 'B09WV1PZC2': 599,\n",
       " 'B013D5L27S': 600,\n",
       " 'B084L1Y1B7': 601,\n",
       " 'B084L1DGZD': 602,\n",
       " 'B08KW18JB1': 603,\n",
       " 'B09V7Y6FV5': 604,\n",
       " 'B08445NQYC': 605,\n",
       " 'B09V7ZWYHN': 606,\n",
       " '2820343104': 607,\n",
       " '2820342345': 608,\n",
       " 'B08GLBNB7K': 609,\n",
       " 'B09G6Q98R5': 610,\n",
       " 'B09FB123L8': 611,\n",
       " 'B0B7B8JPV3': 612,\n",
       " 'B003UNSQ14': 613,\n",
       " 'B091Y9RK1F': 614,\n",
       " 'B01I0SI1SG': 615,\n",
       " 'B09V7SR9X7': 616,\n",
       " 'B00BW4VUZM': 617,\n",
       " 'B08KWC7D78': 618,\n",
       " 'B00QV1F1C4': 619,\n",
       " 'B07PZ3Y4GH': 620,\n",
       " 'B07PWSS6W2': 621,\n",
       " 'B0B51C8ZNT': 622,\n",
       " 'B07YCZ77DY': 623,\n",
       " 'B0B8RLQV7V': 624,\n",
       " 'B0182QCU7E': 625,\n",
       " 'B08JM5TST8': 626,\n",
       " 'B092323P8M': 627,\n",
       " 'B08B62GQPQ': 628,\n",
       " 'B09G37S8G5': 629,\n",
       " 'B0999CN918': 630,\n",
       " 'B0BBKPT6C4': 631,\n",
       " 'B0B92Y6DDF': 632,\n",
       " 'B0B92DQ7KQ': 633,\n",
       " 'B09LTPLBPJ': 634,\n",
       " 'B09LTR55HN': 635,\n",
       " 'B075JF47B2': 636,\n",
       " 'B09SWRYPB2': 637,\n",
       " 'B09SWS16W6': 638,\n",
       " 'B07L5GDTYY': 639,\n",
       " 'B09TMF6742': 640,\n",
       " 'B08N2QK2TG': 641,\n",
       " 'B07QG7SQC2': 642,\n",
       " 'B07JM6YZ2K': 643,\n",
       " 'B00009X3FS': 644,\n",
       " 'B0B93PR98G': 645,\n",
       " 'B08XQ43HZT': 646,\n",
       " 'B08JTQ66K7': 647,\n",
       " 'B08K3HNWM5': 648,\n",
       " 'B08K3H62TH': 649,\n",
       " 'B08K3GDGGX': 650,\n",
       " 'B09LLCDR23': 651,\n",
       " 'B0BFB93K4L': 652,\n",
       " 'B09BJTVZJ9': 653,\n",
       " 'B00GWPAJ3A': 654,\n",
       " 'B00CA7QWB2': 655,\n",
       " 'B00BW4V6JW': 656,\n",
       " 'B09F45VD3M': 657,\n",
       " 'B082N332HB': 658,\n",
       " 'B09QFXRYYH': 659,\n",
       " 'B0B4G71GGJ': 660,\n",
       " 'B0BDKGKCPZ': 661,\n",
       " 'B0B821LNN1': 662,\n",
       " 'B08B3K4G6M': 663,\n",
       " 'B093PF413S': 664,\n",
       " 'B07QPV9WGR': 665,\n",
       " 'B08FDFP9KJ': 666,\n",
       " 'B08G846K25': 667,\n",
       " 'B08G8PGT1M': 668,\n",
       " 'B08FDGGVZ1': 669,\n",
       " 'B08G7ZVBL9': 670,\n",
       " 'B08G8DNVR6': 671,\n",
       " 'B08FDG2KTB': 672,\n",
       " 'B08FDG45NX': 673,\n",
       " 'B094J77SYG': 674,\n",
       " 'B09YRJWZSR': 675,\n",
       " 'B09VB9CB2Z': 676,\n",
       " 'B09MKCG7G4': 677,\n",
       " 'B0B9MMYKK7': 678,\n",
       " 'B0B5XMJ8Q5': 679,\n",
       " 'B07WZY1CCC': 680,\n",
       " 'B08C9XQP3P': 681,\n",
       " 'B07S3X3Q6N': 682,\n",
       " 'B002DPTLSW': 683,\n",
       " 'B08TQPKY9L': 684,\n",
       " 'B08TR2F5ND': 685,\n",
       " 'B01B8E8OP4': 686,\n",
       " 'B09Q2WGDHB': 687,\n",
       " 'B01631LWW4': 688,\n",
       " 'B00KSFQGNC': 689,\n",
       " 'B09BC2G95R': 690,\n",
       " 'B08BZ726HQ': 691,\n",
       " 'B087HJ5ZZS': 692,\n",
       " 'B005HTCUJI': 693,\n",
       " 'B003Z0HU0K': 694,\n",
       " 'B082VVYX14': 695,\n",
       " 'B09JQQDLXF': 696,\n",
       " 'B099SH3JYT': 697,\n",
       " 'B0013ET79W': 698,\n",
       " 'B0875NB89J': 699,\n",
       " 'B08W1WF6ZS': 700,\n",
       " 'B08W4TT8XH': 701,\n",
       " 'B01MDP07FA': 702,\n",
       " 'B01M7SCDDA': 703,\n",
       " 'B01MA6IUQN': 704,\n",
       " 'B09PGQ5LKW': 705,\n",
       " 'B09PGRQ3Q3': 706,\n",
       " 'B09PGQZXQ6': 707,\n",
       " 'B09PGQRDR6': 708,\n",
       " 'B09PGR81YH': 709,\n",
       " 'B073S4DFQJ': 710,\n",
       " 'B08KT1N4VB': 711,\n",
       " 'B07F38QMZK': 712,\n",
       " 'B07NJJXVHK': 713,\n",
       " 'B08LDTX5PS': 714,\n",
       " 'B08LDTRP71': 715,\n",
       " 'B01B1MI3LS': 716,\n",
       " 'B07L49WWWR': 717,\n",
       " 'B07WSS27QT': 718,\n",
       " 'B07L47TF81': 719,\n",
       " 'B07WXVSXLS': 720,\n",
       " 'B07L4JW13K': 721,\n",
       " 'B00MA20XLW': 722,\n",
       " 'B0723GF3S9': 723,\n",
       " 'B09TV5B8B7': 724,\n",
       " 'B09NYJ11NL': 725,\n",
       " 'B08D4BC8SX': 726,\n",
       " 'B0B7RQ46LD': 727,\n",
       " 'B07WL7WV52': 728,\n",
       " 'B07CG2TD9F': 729,\n",
       " 'B00BEDAVH4': 730,\n",
       " 'B06XHNCJHV': 731,\n",
       " 'B00SDTEE4S': 732,\n",
       " 'B074P8856M': 733,\n",
       " 'B074P89B26': 734,\n",
       " 'B01NA025AK': 735,\n",
       " 'B0BDJ37NF5': 736,\n",
       " 'B09JQZ5DYM': 737,\n",
       " 'B0B9MN1HK6': 738,\n",
       " 'B0BF47CZGB': 739,\n",
       " 'B0BGXDGV6C': 740,\n",
       " 'B0BF41KZ9Y': 741,\n",
       " 'B0BDM91P3R': 742,\n",
       " 'B0BDMD1KL3': 743,\n",
       " 'B0BF4C8TGY': 744,\n",
       " 'B08H99BPJN': 745,\n",
       " 'B09WVXQVV6': 746,\n",
       " 'B09WVZJPGH': 747,\n",
       " 'B094WRT8PD': 748,\n",
       " 'B07DXRY4V6': 749,\n",
       " 'B086PKCC2N': 750,\n",
       " 'B08RDFFS5K': 751,\n",
       " 'B094D4C565': 752,\n",
       " 'B094D4D3VP': 753,\n",
       " 'B07QSSQJPN': 754,\n",
       " 'B07QS4QHMZ': 755,\n",
       " 'B01KF0FJX2': 756,\n",
       " 'B08NF5T2KK': 757,\n",
       " 'B07DW9DVDL': 758,\n",
       " 'B07DWB9DXG': 759,\n",
       " 'B00453FYK4': 760,\n",
       " 'B07NQ6MD88': 761,\n",
       " 'B09YXN4RSJ': 762,\n",
       " 'B089T7RMZ3': 763,\n",
       " 'B089T7T8H3': 764,\n",
       " 'B089T9BB3C': 765,\n",
       " 'B00REB9VPS': 766,\n",
       " 'B00REAR07K': 767,\n",
       " 'B08JYZLZPP': 768,\n",
       " 'B08JZ21818': 769,\n",
       " 'B0972GDM2G': 770,\n",
       " 'B09ZJTPKJH': 771,\n",
       " 'B08HN1QWG7': 772,\n",
       " 'B088NYTN65': 773,\n",
       " 'B092QKSH2K': 774,\n",
       " 'B09NY81YJZ': 775,\n",
       " 'B09J8W2G14': 776,\n",
       " 'B08VHVXZ76': 777,\n",
       " 'B08VHW3RSZ': 778,\n",
       " 'B093BY2DFF': 779,\n",
       " 'B0B6FYPK4C': 780,\n",
       " 'B0B6FYNHZZ': 781,\n",
       " 'B09GFW6SK2': 782,\n",
       " 'B07P2XC2M6': 783,\n",
       " 'B096ZVDF6K': 784,\n",
       " 'B07WT36LPN': 785,\n",
       " 'B07XS5Y52K': 786,\n",
       " 'B07XS4XN8S': 787,\n",
       " 'B07XS4LK28': 788,\n",
       " 'B01L01ES3M': 789,\n",
       " 'B08WSPWW6C': 790,\n",
       " 'B07C79Y6JJ': 791,\n",
       " 'B06W54NMJY': 792,\n",
       " 'B01LYN9CZA': 793,\n",
       " 'B00NVMIO02': 794,\n",
       " 'B07KVNC3SW': 795,\n",
       " 'B07PNPNNRF': 796,\n",
       " 'B015RSDMWM': 797,\n",
       " 'B0B3RQWMTC': 798,\n",
       " 'B0B3RSPJFN': 799,\n",
       " 'B094XGHV89': 800,\n",
       " 'B09RCXG8TN': 801,\n",
       " 'B088GC4W6M': 802,\n",
       " 'B00AR9HX4U': 803,\n",
       " 'B00AR9HX7M': 804,\n",
       " 'B019WCXL2U': 805,\n",
       " 'B0B6BWFFKR': 806,\n",
       " 'B0B6BZ8W7J': 807,\n",
       " 'B09NQDJWTG': 808,\n",
       " 'B0B5D2Z4YS': 809,\n",
       " 'B0BD5S3N74': 810,\n",
       " 'B08TQN7Z4V': 811,\n",
       " 'B0B1QWR3J9': 812,\n",
       " 'B09Q9C9QP3': 813,\n",
       " 'B09RZYX2N6': 814,\n",
       " '2723446883': 815,\n",
       " '2723446905': 816,\n",
       " '2723446913': 817,\n",
       " 'B004L8T3R8': 818,\n",
       " 'B004L8R7NU': 819,\n",
       " 'B08Y82FZHX': 820,\n",
       " 'B0089608H2': 821,\n",
       " 'B08YR2V49P': 822,\n",
       " 'B07RP8ZH5D': 823,\n",
       " 'B01LZJH3VS': 824,\n",
       " 'B015CH1PJU': 825,\n",
       " 'B075KP7D1R': 826,\n",
       " 'B015CH1NAQ': 827,\n",
       " 'B075KKCJGB': 828,\n",
       " 'B075KPPTTW': 829,\n",
       " 'B0792Z94FF': 830,\n",
       " 'B081DY2RL2': 831,\n",
       " 'B07Z1CVWD2': 832,\n",
       " 'B08DR4899C': 833,\n",
       " 'B0BGM3Q2ZG': 834,\n",
       " 'B00BW4VUAW': 835,\n",
       " 'B07V9LD1HZ': 836,\n",
       " 'B07TQVQ3FN': 837,\n",
       " 'B098T4LQ34': 838,\n",
       " 'B09WW23HYM': 839,\n",
       " 'B09NLH8PMY': 840,\n",
       " 'B09WW4BC1D': 841,\n",
       " 'B094WLFGD3': 842,\n",
       " 'B01B1NVB66': 843,\n",
       " 'B0BFRX3WQT': 844,\n",
       " 'B01B1NVCEC': 845,\n",
       " 'B07MLHF51G': 846,\n",
       " 'B07B4LHPP7': 847,\n",
       " 'B09QQ7C6BY': 848,\n",
       " 'B085DLD4T9': 849,\n",
       " 'B085D9C7XW': 850,\n",
       " 'B09MW283FM': 851,\n",
       " 'B09MW3GJWY': 852,\n",
       " 'B083F9JBR8': 853,\n",
       " 'B091XX5X6J': 854,\n",
       " 'B08KHYBQFQ': 855,\n",
       " 'B08KH5K786': 856,\n",
       " 'B077J4W6SC': 857,\n",
       " 'B0722KYNX7': 858,\n",
       " 'B01M9JS8E6': 859,\n",
       " 'B09JSFBMR2': 860,\n",
       " 'B08G4K8Y1F': 861,\n",
       " 'B09BNXY2T3': 862,\n",
       " 'B08KVZT4WJ': 863,\n",
       " 'B081VCQYJP': 864,\n",
       " 'B09JYZW929': 865,\n",
       " 'B09L4TMHQ5': 866,\n",
       " 'B077TVQF9T': 867,\n",
       " 'B07ZBBHL89': 868,\n",
       " 'B01MSW0QQV': 869,\n",
       " 'B07NF9RP8L': 870,\n",
       " 'B019FKFPZ0': 871,\n",
       " 'B0B1BD53DS': 872,\n",
       " 'B00NOZNOGU': 873,\n",
       " 'B00TYEL11K': 874,\n",
       " 'B0B62R4CCJ': 875,\n",
       " 'B0B14CQJRY': 876,\n",
       " 'B09T5SJM3M': 877,\n",
       " 'B08C5HYHYB': 878,\n",
       " 'B08C5HFL69': 879,\n",
       " 'B09LCXCK88': 880,\n",
       " 'B09LCVHCVX': 881,\n",
       " 'B09N4V55J7': 882,\n",
       " 'B07PS12SVM': 883,\n",
       " 'B07NRNJ6TC': 884,\n",
       " 'B00N9IFCKS': 885,\n",
       " 'B000YIG5ES': 886,\n",
       " 'B002K2BIPC': 887,\n",
       " 'B08PZB2H7F': 888,\n",
       " 'B09NCZTM14': 889,\n",
       " 'B07YNZFVN3': 890,\n",
       " 'B07XBVG72R': 891,\n",
       " 'B07XF23G3N': 892,\n",
       " 'B09BJVJ928': 893,\n",
       " 'B00GWPARGY': 894,\n",
       " 'B09J4CRYPB': 895,\n",
       " 'B07R7QXJY3': 896,\n",
       " 'B09Z2QQFM7': 897,\n",
       " 'B09Z2RV4CS': 898,\n",
       " 'B0B5V19W21': 899,\n",
       " 'B07RP8TC24': 900,\n",
       " 'B09YY25Q4Z': 901,\n",
       " '2723493261': 902,\n",
       " '2723496767': 903,\n",
       " '2723499332': 904,\n",
       " 'B00X7856QU': 905,\n",
       " 'B07VVKF5DN': 906,\n",
       " 'B00F5WJFR2': 907,\n",
       " 'B095Z3ZQW7': 908,\n",
       " 'B08N5G5LPN': 909,\n",
       " 'B0087EH0S6': 910,\n",
       " 'B0B4HZTN3N': 911,\n",
       " 'B082VQ9BQT': 912,\n",
       " 'B0822HBPL9': 913,\n",
       " 'B099ZHGDHP': 914,\n",
       " 'B01DIZLPXO': 915,\n",
       " 'B01DIZLNNG': 916,\n",
       " 'B01DIZNRGW': 917,\n",
       " 'B06Y1DBSZJ': 918,\n",
       " 'B01539XG7Q': 919,\n",
       " 'B07G5XNHV6': 920,\n",
       " 'B073HGBCRS': 921,\n",
       " 'B0B31X6NKB': 922,\n",
       " 'B07VTDDHWV': 923,\n",
       " 'B08FCV5YWP': 924,\n",
       " 'B0BDJGM7JB': 925,\n",
       " 'B0BDJQ3L5R': 926,\n",
       " 'B0B7BWC4TR': 927,\n",
       " 'B08K9WQ849': 928,\n",
       " 'B09CW63H33': 929,\n",
       " 'B084MX42PM': 930,\n",
       " 'B07QH7KCLD': 931,\n",
       " 'B07QKWBQCP': 932,\n",
       " 'B07QKWCJSP': 933,\n",
       " 'B09XJSCXT7': 934,\n",
       " 'B0B7WFMTYL': 935,\n",
       " 'B08WWPZ1VJ': 936,\n",
       " 'B08WWV2LWF': 937,\n",
       " 'B085GLBDVN': 938,\n",
       " 'B07MCV8Z5D': 939,\n",
       " 'B07MLX8568': 940,\n",
       " 'B07MJBW791': 941,\n",
       " 'B08K4DDFQ8': 942,\n",
       " 'B0B38GPTY9': 943,\n",
       " 'B07ND8MYKY': 944,\n",
       " 'B08862LRWP': 945,\n",
       " 'B08ZK5FR6J': 946,\n",
       " 'B07DDH9RLK': 947,\n",
       " 'B095YNH62X': 948,\n",
       " 'B08T96LX2B': 949,\n",
       " 'B08T95TFT1': 950,\n",
       " 'B08T97LSGP': 951,\n",
       " 'B0B58RNJLP': 952,\n",
       " 'B0B5GNMK1C': 953,\n",
       " 'B07PNN6ZLD': 954,\n",
       " 'B07TC854L9': 955,\n",
       " 'B07TC67PDS': 956,\n",
       " 'B07TB8PHFQ': 957,\n",
       " 'B073Q7FVRF': 958,\n",
       " 'B09TW2CQ7X': 959,\n",
       " 'B0951BK1S6': 960,\n",
       " 'B08LLZ2CWD': 961,\n",
       " 'B09TW5N597': 962,\n",
       " 'B08C63VKM8': 963,\n",
       " 'B09TW67ZLB': 964,\n",
       " 'B01N29XSR9': 965,\n",
       " 'B00GOXMWZ8': 966,\n",
       " 'B0857SYBNT': 967,\n",
       " 'B09BG2D6SF': 968,\n",
       " 'B09JLX91HN': 969,\n",
       " 'B099X8VZYW': 970,\n",
       " 'B0763XTCFS': 971,\n",
       " 'B006MR40KG': 972,\n",
       " 'B08ZM8TC4M': 973,\n",
       " 'B09BJSTFLK': 974,\n",
       " 'B08HXRQGXM': 975,\n",
       " 'B07L49RDJH': 976,\n",
       " 'B0943ZRX7Z': 977,\n",
       " 'B09JZSXNG1': 978,\n",
       " 'B09JZSMNPB': 979,\n",
       " 'B075GZ8DX7': 980,\n",
       " 'B000KPUNB6': 981,\n",
       " 'B075RGQGZM': 982,\n",
       " 'B09B7SWJBP': 983,\n",
       " 'B07VKXFWT3': 984,\n",
       " 'B007SNGSFS': 985,\n",
       " 'B09FQ9TV4C': 986,\n",
       " 'B09FQ98HRT': 987,\n",
       " 'B083M9CBD5': 988,\n",
       " 'B082Y5XBDW': 989,\n",
       " 'B077M31K5X': 990,\n",
       " 'B072DWP8R8': 991,\n",
       " 'B06Y36QNR7': 992,\n",
       " 'B07TXT22PG': 993,\n",
       " 'B09C1SJ6XH': 994,\n",
       " 'B06XPTCCNX': 995,\n",
       " 'B01M0FOX9Q': 996,\n",
       " 'B09C8KVKDR': 997,\n",
       " 'B00D8WQOB6': 998,\n",
       " 'B00009QJVE': 999,\n",
       " ...}"
      ]
     },
     "execution_count": 30,
     "metadata": {},
     "output_type": "execute_result"
    }
   ],
   "source": [
    "item_to_index"
   ]
  },
  {
   "cell_type": "code",
   "execution_count": 31,
   "id": "7dc6d417-5219-4736-b240-a9b0e8931efe",
   "metadata": {},
   "outputs": [],
   "source": [
    "interactions = {\"userID\":  [idx for idx, cur_len in enumerate(train_data['seq_len']) for _ in range(cur_len)], \"itemID\":train_items_series}"
   ]
  },
  {
   "cell_type": "code",
   "execution_count": 32,
   "id": "3480c46d-5075-42da-a35f-f769ef23769a",
   "metadata": {},
   "outputs": [
    {
     "data": {
      "text/plain": [
       "{'userID': [0,\n",
       "  0,\n",
       "  0,\n",
       "  0,\n",
       "  1,\n",
       "  1,\n",
       "  1,\n",
       "  1,\n",
       "  1,\n",
       "  2,\n",
       "  2,\n",
       "  3,\n",
       "  3,\n",
       "  3,\n",
       "  3,\n",
       "  3,\n",
       "  4,\n",
       "  4,\n",
       "  5,\n",
       "  5,\n",
       "  6,\n",
       "  6,\n",
       "  6,\n",
       "  6,\n",
       "  7,\n",
       "  7,\n",
       "  8,\n",
       "  8,\n",
       "  8,\n",
       "  8,\n",
       "  9,\n",
       "  9,\n",
       "  9,\n",
       "  10,\n",
       "  10,\n",
       "  10,\n",
       "  11,\n",
       "  11,\n",
       "  12,\n",
       "  12,\n",
       "  13,\n",
       "  13,\n",
       "  14,\n",
       "  14,\n",
       "  14,\n",
       "  14,\n",
       "  14,\n",
       "  14,\n",
       "  14,\n",
       "  15,\n",
       "  15,\n",
       "  15,\n",
       "  15,\n",
       "  15,\n",
       "  15,\n",
       "  15,\n",
       "  15,\n",
       "  15,\n",
       "  15,\n",
       "  15,\n",
       "  15,\n",
       "  16,\n",
       "  16,\n",
       "  16,\n",
       "  17,\n",
       "  17,\n",
       "  17,\n",
       "  17,\n",
       "  18,\n",
       "  18,\n",
       "  18,\n",
       "  18,\n",
       "  18,\n",
       "  19,\n",
       "  19,\n",
       "  20,\n",
       "  20,\n",
       "  21,\n",
       "  21,\n",
       "  21,\n",
       "  22,\n",
       "  22,\n",
       "  23,\n",
       "  23,\n",
       "  23,\n",
       "  24,\n",
       "  24,\n",
       "  25,\n",
       "  25,\n",
       "  25,\n",
       "  26,\n",
       "  26,\n",
       "  26,\n",
       "  26,\n",
       "  26,\n",
       "  27,\n",
       "  27,\n",
       "  28,\n",
       "  28,\n",
       "  29,\n",
       "  29,\n",
       "  30,\n",
       "  30,\n",
       "  30,\n",
       "  30,\n",
       "  31,\n",
       "  31,\n",
       "  32,\n",
       "  32,\n",
       "  32,\n",
       "  32,\n",
       "  32,\n",
       "  33,\n",
       "  33,\n",
       "  34,\n",
       "  34,\n",
       "  34,\n",
       "  34,\n",
       "  35,\n",
       "  35,\n",
       "  36,\n",
       "  36,\n",
       "  37,\n",
       "  37,\n",
       "  37,\n",
       "  37,\n",
       "  38,\n",
       "  38,\n",
       "  38,\n",
       "  38,\n",
       "  38,\n",
       "  39,\n",
       "  39,\n",
       "  39,\n",
       "  39,\n",
       "  39,\n",
       "  40,\n",
       "  40,\n",
       "  40,\n",
       "  40,\n",
       "  40,\n",
       "  41,\n",
       "  41,\n",
       "  42,\n",
       "  42,\n",
       "  43,\n",
       "  43,\n",
       "  43,\n",
       "  43,\n",
       "  44,\n",
       "  44,\n",
       "  45,\n",
       "  45,\n",
       "  46,\n",
       "  46,\n",
       "  46,\n",
       "  47,\n",
       "  47,\n",
       "  48,\n",
       "  48,\n",
       "  48,\n",
       "  49,\n",
       "  49,\n",
       "  49,\n",
       "  49,\n",
       "  49,\n",
       "  49,\n",
       "  49,\n",
       "  49,\n",
       "  49,\n",
       "  50,\n",
       "  50,\n",
       "  50,\n",
       "  50,\n",
       "  50,\n",
       "  51,\n",
       "  51,\n",
       "  52,\n",
       "  52,\n",
       "  52,\n",
       "  52,\n",
       "  52,\n",
       "  52,\n",
       "  52,\n",
       "  52,\n",
       "  52,\n",
       "  53,\n",
       "  53,\n",
       "  53,\n",
       "  53,\n",
       "  53,\n",
       "  53,\n",
       "  53,\n",
       "  54,\n",
       "  54,\n",
       "  54,\n",
       "  54,\n",
       "  54,\n",
       "  55,\n",
       "  55,\n",
       "  56,\n",
       "  56,\n",
       "  57,\n",
       "  57,\n",
       "  57,\n",
       "  57,\n",
       "  57,\n",
       "  58,\n",
       "  58,\n",
       "  58,\n",
       "  58,\n",
       "  58,\n",
       "  58,\n",
       "  58,\n",
       "  58,\n",
       "  58,\n",
       "  59,\n",
       "  59,\n",
       "  60,\n",
       "  60,\n",
       "  60,\n",
       "  60,\n",
       "  60,\n",
       "  61,\n",
       "  61,\n",
       "  61,\n",
       "  61,\n",
       "  61,\n",
       "  62,\n",
       "  62,\n",
       "  62,\n",
       "  63,\n",
       "  63,\n",
       "  63,\n",
       "  63,\n",
       "  63,\n",
       "  64,\n",
       "  64,\n",
       "  64,\n",
       "  64,\n",
       "  65,\n",
       "  65,\n",
       "  65,\n",
       "  65,\n",
       "  66,\n",
       "  66,\n",
       "  67,\n",
       "  67,\n",
       "  67,\n",
       "  68,\n",
       "  68,\n",
       "  68,\n",
       "  68,\n",
       "  69,\n",
       "  69,\n",
       "  69,\n",
       "  69,\n",
       "  70,\n",
       "  70,\n",
       "  71,\n",
       "  71,\n",
       "  72,\n",
       "  72,\n",
       "  73,\n",
       "  73,\n",
       "  74,\n",
       "  74,\n",
       "  74,\n",
       "  74,\n",
       "  75,\n",
       "  75,\n",
       "  76,\n",
       "  76,\n",
       "  77,\n",
       "  77,\n",
       "  77,\n",
       "  77,\n",
       "  77,\n",
       "  78,\n",
       "  78,\n",
       "  78,\n",
       "  79,\n",
       "  79,\n",
       "  80,\n",
       "  80,\n",
       "  81,\n",
       "  81,\n",
       "  82,\n",
       "  82,\n",
       "  83,\n",
       "  83,\n",
       "  84,\n",
       "  84,\n",
       "  84,\n",
       "  84,\n",
       "  84,\n",
       "  85,\n",
       "  85,\n",
       "  85,\n",
       "  85,\n",
       "  86,\n",
       "  86,\n",
       "  87,\n",
       "  87,\n",
       "  87,\n",
       "  87,\n",
       "  88,\n",
       "  88,\n",
       "  89,\n",
       "  89,\n",
       "  89,\n",
       "  90,\n",
       "  90,\n",
       "  91,\n",
       "  91,\n",
       "  92,\n",
       "  92,\n",
       "  92,\n",
       "  93,\n",
       "  93,\n",
       "  94,\n",
       "  94,\n",
       "  95,\n",
       "  95,\n",
       "  95,\n",
       "  96,\n",
       "  96,\n",
       "  97,\n",
       "  97,\n",
       "  97,\n",
       "  98,\n",
       "  98,\n",
       "  98,\n",
       "  98,\n",
       "  98,\n",
       "  98,\n",
       "  98,\n",
       "  98,\n",
       "  98,\n",
       "  99,\n",
       "  99,\n",
       "  99,\n",
       "  99,\n",
       "  99,\n",
       "  99,\n",
       "  99,\n",
       "  100,\n",
       "  100,\n",
       "  100,\n",
       "  101,\n",
       "  101,\n",
       "  102,\n",
       "  102,\n",
       "  102,\n",
       "  102,\n",
       "  103,\n",
       "  103,\n",
       "  103,\n",
       "  103,\n",
       "  103,\n",
       "  103,\n",
       "  103,\n",
       "  103,\n",
       "  104,\n",
       "  104,\n",
       "  104,\n",
       "  104,\n",
       "  105,\n",
       "  105,\n",
       "  105,\n",
       "  105,\n",
       "  106,\n",
       "  106,\n",
       "  107,\n",
       "  107,\n",
       "  108,\n",
       "  108,\n",
       "  108,\n",
       "  108,\n",
       "  109,\n",
       "  109,\n",
       "  109,\n",
       "  109,\n",
       "  110,\n",
       "  110,\n",
       "  111,\n",
       "  111,\n",
       "  111,\n",
       "  111,\n",
       "  112,\n",
       "  112,\n",
       "  113,\n",
       "  113,\n",
       "  113,\n",
       "  113,\n",
       "  113,\n",
       "  114,\n",
       "  114,\n",
       "  114,\n",
       "  114,\n",
       "  115,\n",
       "  115,\n",
       "  115,\n",
       "  115,\n",
       "  115,\n",
       "  115,\n",
       "  116,\n",
       "  116,\n",
       "  116,\n",
       "  117,\n",
       "  117,\n",
       "  117,\n",
       "  118,\n",
       "  118,\n",
       "  119,\n",
       "  119,\n",
       "  119,\n",
       "  119,\n",
       "  119,\n",
       "  119,\n",
       "  120,\n",
       "  120,\n",
       "  121,\n",
       "  121,\n",
       "  121,\n",
       "  121,\n",
       "  121,\n",
       "  121,\n",
       "  121,\n",
       "  122,\n",
       "  122,\n",
       "  123,\n",
       "  123,\n",
       "  123,\n",
       "  124,\n",
       "  124,\n",
       "  125,\n",
       "  125,\n",
       "  126,\n",
       "  126,\n",
       "  126,\n",
       "  126,\n",
       "  127,\n",
       "  127,\n",
       "  127,\n",
       "  127,\n",
       "  127,\n",
       "  128,\n",
       "  128,\n",
       "  128,\n",
       "  128,\n",
       "  128,\n",
       "  129,\n",
       "  129,\n",
       "  129,\n",
       "  129,\n",
       "  130,\n",
       "  130,\n",
       "  131,\n",
       "  131,\n",
       "  131,\n",
       "  132,\n",
       "  132,\n",
       "  133,\n",
       "  133,\n",
       "  133,\n",
       "  133,\n",
       "  134,\n",
       "  134,\n",
       "  134,\n",
       "  134,\n",
       "  134,\n",
       "  134,\n",
       "  134,\n",
       "  134,\n",
       "  134,\n",
       "  134,\n",
       "  134,\n",
       "  134,\n",
       "  134,\n",
       "  135,\n",
       "  135,\n",
       "  135,\n",
       "  135,\n",
       "  135,\n",
       "  136,\n",
       "  136,\n",
       "  137,\n",
       "  137,\n",
       "  137,\n",
       "  138,\n",
       "  138,\n",
       "  138,\n",
       "  138,\n",
       "  139,\n",
       "  139,\n",
       "  140,\n",
       "  140,\n",
       "  140,\n",
       "  141,\n",
       "  141,\n",
       "  142,\n",
       "  142,\n",
       "  143,\n",
       "  143,\n",
       "  144,\n",
       "  144,\n",
       "  145,\n",
       "  145,\n",
       "  146,\n",
       "  146,\n",
       "  146,\n",
       "  146,\n",
       "  147,\n",
       "  147,\n",
       "  148,\n",
       "  148,\n",
       "  148,\n",
       "  148,\n",
       "  148,\n",
       "  148,\n",
       "  148,\n",
       "  148,\n",
       "  149,\n",
       "  149,\n",
       "  149,\n",
       "  149,\n",
       "  149,\n",
       "  149,\n",
       "  149,\n",
       "  150,\n",
       "  150,\n",
       "  151,\n",
       "  151,\n",
       "  152,\n",
       "  152,\n",
       "  152,\n",
       "  152,\n",
       "  152,\n",
       "  152,\n",
       "  153,\n",
       "  153,\n",
       "  153,\n",
       "  153,\n",
       "  153,\n",
       "  154,\n",
       "  154,\n",
       "  154,\n",
       "  155,\n",
       "  155,\n",
       "  155,\n",
       "  155,\n",
       "  156,\n",
       "  156,\n",
       "  157,\n",
       "  157,\n",
       "  158,\n",
       "  158,\n",
       "  159,\n",
       "  159,\n",
       "  160,\n",
       "  160,\n",
       "  161,\n",
       "  161,\n",
       "  161,\n",
       "  162,\n",
       "  162,\n",
       "  162,\n",
       "  163,\n",
       "  163,\n",
       "  164,\n",
       "  164,\n",
       "  165,\n",
       "  165,\n",
       "  165,\n",
       "  165,\n",
       "  165,\n",
       "  165,\n",
       "  165,\n",
       "  165,\n",
       "  165,\n",
       "  166,\n",
       "  166,\n",
       "  166,\n",
       "  166,\n",
       "  166,\n",
       "  167,\n",
       "  167,\n",
       "  168,\n",
       "  168,\n",
       "  168,\n",
       "  169,\n",
       "  169,\n",
       "  169,\n",
       "  169,\n",
       "  169,\n",
       "  170,\n",
       "  170,\n",
       "  170,\n",
       "  170,\n",
       "  170,\n",
       "  171,\n",
       "  171,\n",
       "  172,\n",
       "  172,\n",
       "  172,\n",
       "  173,\n",
       "  173,\n",
       "  173,\n",
       "  173,\n",
       "  173,\n",
       "  174,\n",
       "  174,\n",
       "  174,\n",
       "  174,\n",
       "  174,\n",
       "  174,\n",
       "  175,\n",
       "  175,\n",
       "  175,\n",
       "  175,\n",
       "  175,\n",
       "  175,\n",
       "  176,\n",
       "  176,\n",
       "  176,\n",
       "  176,\n",
       "  176,\n",
       "  177,\n",
       "  177,\n",
       "  178,\n",
       "  178,\n",
       "  179,\n",
       "  179,\n",
       "  180,\n",
       "  180,\n",
       "  181,\n",
       "  181,\n",
       "  181,\n",
       "  182,\n",
       "  182,\n",
       "  182,\n",
       "  183,\n",
       "  183,\n",
       "  183,\n",
       "  183,\n",
       "  183,\n",
       "  184,\n",
       "  184,\n",
       "  184,\n",
       "  184,\n",
       "  184,\n",
       "  185,\n",
       "  185,\n",
       "  186,\n",
       "  186,\n",
       "  186,\n",
       "  186,\n",
       "  186,\n",
       "  187,\n",
       "  187,\n",
       "  188,\n",
       "  188,\n",
       "  188,\n",
       "  189,\n",
       "  189,\n",
       "  190,\n",
       "  190,\n",
       "  191,\n",
       "  191,\n",
       "  191,\n",
       "  191,\n",
       "  191,\n",
       "  191,\n",
       "  191,\n",
       "  191,\n",
       "  191,\n",
       "  191,\n",
       "  192,\n",
       "  192,\n",
       "  192,\n",
       "  193,\n",
       "  193,\n",
       "  194,\n",
       "  194,\n",
       "  195,\n",
       "  195,\n",
       "  196,\n",
       "  196,\n",
       "  197,\n",
       "  197,\n",
       "  197,\n",
       "  198,\n",
       "  198,\n",
       "  199,\n",
       "  199,\n",
       "  199,\n",
       "  199,\n",
       "  199,\n",
       "  200,\n",
       "  200,\n",
       "  200,\n",
       "  200,\n",
       "  200,\n",
       "  200,\n",
       "  200,\n",
       "  201,\n",
       "  201,\n",
       "  201,\n",
       "  201,\n",
       "  201,\n",
       "  201,\n",
       "  201,\n",
       "  201,\n",
       "  201,\n",
       "  201,\n",
       "  201,\n",
       "  201,\n",
       "  201,\n",
       "  202,\n",
       "  202,\n",
       "  202,\n",
       "  203,\n",
       "  203,\n",
       "  204,\n",
       "  204,\n",
       "  204,\n",
       "  205,\n",
       "  205,\n",
       "  206,\n",
       "  206,\n",
       "  207,\n",
       "  207,\n",
       "  207,\n",
       "  208,\n",
       "  208,\n",
       "  209,\n",
       "  209,\n",
       "  209,\n",
       "  209,\n",
       "  209,\n",
       "  209,\n",
       "  210,\n",
       "  210,\n",
       "  211,\n",
       "  211,\n",
       "  212,\n",
       "  212,\n",
       "  212,\n",
       "  212,\n",
       "  212,\n",
       "  212,\n",
       "  212,\n",
       "  212,\n",
       "  212,\n",
       "  213,\n",
       "  213,\n",
       "  213,\n",
       "  213,\n",
       "  213,\n",
       "  214,\n",
       "  214,\n",
       "  215,\n",
       "  215,\n",
       "  216,\n",
       "  216,\n",
       "  217,\n",
       "  217,\n",
       "  217,\n",
       "  217,\n",
       "  217,\n",
       "  218,\n",
       "  218,\n",
       "  219,\n",
       "  219,\n",
       "  219,\n",
       "  219,\n",
       "  220,\n",
       "  220,\n",
       "  221,\n",
       "  221,\n",
       "  222,\n",
       "  222,\n",
       "  223,\n",
       "  223,\n",
       "  224,\n",
       "  224,\n",
       "  224,\n",
       "  225,\n",
       "  225,\n",
       "  226,\n",
       "  226,\n",
       "  227,\n",
       "  227,\n",
       "  228,\n",
       "  228,\n",
       "  228,\n",
       "  228,\n",
       "  228,\n",
       "  228,\n",
       "  229,\n",
       "  229,\n",
       "  229,\n",
       "  230,\n",
       "  230,\n",
       "  230,\n",
       "  231,\n",
       "  231,\n",
       "  232,\n",
       "  232,\n",
       "  233,\n",
       "  233,\n",
       "  233,\n",
       "  233,\n",
       "  233,\n",
       "  234,\n",
       "  234,\n",
       "  235,\n",
       "  235,\n",
       "  235,\n",
       "  235,\n",
       "  235,\n",
       "  236,\n",
       "  236,\n",
       "  236,\n",
       "  237,\n",
       "  237,\n",
       "  238,\n",
       "  238,\n",
       "  239,\n",
       "  239,\n",
       "  239,\n",
       "  239,\n",
       "  239,\n",
       "  239,\n",
       "  240,\n",
       "  240,\n",
       "  240,\n",
       "  241,\n",
       "  241,\n",
       "  241,\n",
       "  242,\n",
       "  242,\n",
       "  242,\n",
       "  242,\n",
       "  243,\n",
       "  243,\n",
       "  244,\n",
       "  244,\n",
       "  245,\n",
       "  245,\n",
       "  246,\n",
       "  246,\n",
       "  247,\n",
       "  247,\n",
       "  248,\n",
       "  248,\n",
       "  248,\n",
       "  249,\n",
       "  249,\n",
       "  250,\n",
       "  250,\n",
       "  250,\n",
       "  251,\n",
       "  251,\n",
       "  252,\n",
       "  252,\n",
       "  252,\n",
       "  253,\n",
       "  253,\n",
       "  253,\n",
       "  254,\n",
       "  254,\n",
       "  254,\n",
       "  254,\n",
       "  255,\n",
       "  255,\n",
       "  255,\n",
       "  255,\n",
       "  255,\n",
       "  255,\n",
       "  255,\n",
       "  256,\n",
       "  256,\n",
       "  256,\n",
       "  257,\n",
       "  257,\n",
       "  258,\n",
       "  258,\n",
       "  258,\n",
       "  258,\n",
       "  258,\n",
       "  258,\n",
       "  258,\n",
       "  258,\n",
       "  258,\n",
       "  259,\n",
       "  259,\n",
       "  259,\n",
       "  259,\n",
       "  259,\n",
       "  259,\n",
       "  259,\n",
       "  259,\n",
       "  260,\n",
       "  260,\n",
       "  260,\n",
       "  261,\n",
       "  261,\n",
       "  261,\n",
       "  261,\n",
       "  261,\n",
       "  262,\n",
       "  262,\n",
       "  263,\n",
       "  263,\n",
       "  264,\n",
       "  264,\n",
       "  264,\n",
       "  264,\n",
       "  264,\n",
       "  264,\n",
       "  264,\n",
       "  265,\n",
       "  265,\n",
       "  265,\n",
       "  265,\n",
       "  265,\n",
       "  266,\n",
       "  266,\n",
       "  267,\n",
       "  267,\n",
       "  268,\n",
       "  268,\n",
       "  268,\n",
       "  268,\n",
       "  268,\n",
       "  269,\n",
       "  269,\n",
       "  270,\n",
       "  270,\n",
       "  271,\n",
       "  271,\n",
       "  271,\n",
       "  272,\n",
       "  272,\n",
       "  272,\n",
       "  273,\n",
       "  273,\n",
       "  273,\n",
       "  273,\n",
       "  274,\n",
       "  274,\n",
       "  274,\n",
       "  275,\n",
       "  275,\n",
       "  275,\n",
       "  275,\n",
       "  276,\n",
       "  276,\n",
       "  277,\n",
       "  277,\n",
       "  278,\n",
       "  278,\n",
       "  279,\n",
       "  279,\n",
       "  279,\n",
       "  279,\n",
       "  279,\n",
       "  280,\n",
       "  280,\n",
       "  281,\n",
       "  281,\n",
       "  281,\n",
       "  282,\n",
       "  282,\n",
       "  283,\n",
       "  283,\n",
       "  283,\n",
       "  283,\n",
       "  284,\n",
       "  284,\n",
       "  285,\n",
       "  285,\n",
       "  285,\n",
       "  285,\n",
       "  286,\n",
       "  286,\n",
       "  287,\n",
       "  287,\n",
       "  288,\n",
       "  288,\n",
       "  288,\n",
       "  288,\n",
       "  289,\n",
       "  289,\n",
       "  289,\n",
       "  290,\n",
       "  290,\n",
       "  291,\n",
       "  ...],\n",
       " 'itemID': 0         B07HB3B78C\n",
       " 1         B07HB3B78C\n",
       " 2         B07HB3B78C\n",
       " 3         B089LDLP8W\n",
       " 4         B00I3P3BRS\n",
       "              ...    \n",
       " 400937    B07S1CM445\n",
       " 400938    B0031TFZRK\n",
       " 400939    B0031TFZRK\n",
       " 400940    B0BGLCCJSN\n",
       " 400941    B0B42Z38BQ\n",
       " Length: 400942, dtype: object}"
      ]
     },
     "execution_count": 32,
     "metadata": {},
     "output_type": "execute_result"
    }
   ],
   "source": [
    "interactions"
   ]
  },
  {
   "cell_type": "code",
   "execution_count": 33,
   "id": "e4b9e42c-abbd-4f5a-b75c-ae94bae268fe",
   "metadata": {},
   "outputs": [],
   "source": [
    "interactions = pd.DataFrame(data=interactions)"
   ]
  },
  {
   "cell_type": "code",
   "execution_count": 34,
   "id": "0b7806b7-95e7-4b3c-998b-5babf317b17f",
   "metadata": {},
   "outputs": [
    {
     "data": {
      "text/html": [
       "<div>\n",
       "<style scoped>\n",
       "    .dataframe tbody tr th:only-of-type {\n",
       "        vertical-align: middle;\n",
       "    }\n",
       "\n",
       "    .dataframe tbody tr th {\n",
       "        vertical-align: top;\n",
       "    }\n",
       "\n",
       "    .dataframe thead th {\n",
       "        text-align: right;\n",
       "    }\n",
       "</style>\n",
       "<table border=\"1\" class=\"dataframe\">\n",
       "  <thead>\n",
       "    <tr style=\"text-align: right;\">\n",
       "      <th></th>\n",
       "      <th>userID</th>\n",
       "      <th>itemID</th>\n",
       "    </tr>\n",
       "  </thead>\n",
       "  <tbody>\n",
       "    <tr>\n",
       "      <th>0</th>\n",
       "      <td>0</td>\n",
       "      <td>B07HB3B78C</td>\n",
       "    </tr>\n",
       "    <tr>\n",
       "      <th>1</th>\n",
       "      <td>0</td>\n",
       "      <td>B07HB3B78C</td>\n",
       "    </tr>\n",
       "    <tr>\n",
       "      <th>2</th>\n",
       "      <td>0</td>\n",
       "      <td>B07HB3B78C</td>\n",
       "    </tr>\n",
       "    <tr>\n",
       "      <th>3</th>\n",
       "      <td>0</td>\n",
       "      <td>B089LDLP8W</td>\n",
       "    </tr>\n",
       "    <tr>\n",
       "      <th>4</th>\n",
       "      <td>1</td>\n",
       "      <td>B00I3P3BRS</td>\n",
       "    </tr>\n",
       "    <tr>\n",
       "      <th>...</th>\n",
       "      <td>...</td>\n",
       "      <td>...</td>\n",
       "    </tr>\n",
       "    <tr>\n",
       "      <th>400937</th>\n",
       "      <td>117558</td>\n",
       "      <td>B07S1CM445</td>\n",
       "    </tr>\n",
       "    <tr>\n",
       "      <th>400938</th>\n",
       "      <td>117559</td>\n",
       "      <td>B0031TFZRK</td>\n",
       "    </tr>\n",
       "    <tr>\n",
       "      <th>400939</th>\n",
       "      <td>117559</td>\n",
       "      <td>B0031TFZRK</td>\n",
       "    </tr>\n",
       "    <tr>\n",
       "      <th>400940</th>\n",
       "      <td>117560</td>\n",
       "      <td>B0BGLCCJSN</td>\n",
       "    </tr>\n",
       "    <tr>\n",
       "      <th>400941</th>\n",
       "      <td>117560</td>\n",
       "      <td>B0B42Z38BQ</td>\n",
       "    </tr>\n",
       "  </tbody>\n",
       "</table>\n",
       "<p>400942 rows × 2 columns</p>\n",
       "</div>"
      ],
      "text/plain": [
       "        userID      itemID\n",
       "0            0  B07HB3B78C\n",
       "1            0  B07HB3B78C\n",
       "2            0  B07HB3B78C\n",
       "3            0  B089LDLP8W\n",
       "4            1  B00I3P3BRS\n",
       "...        ...         ...\n",
       "400937  117558  B07S1CM445\n",
       "400938  117559  B0031TFZRK\n",
       "400939  117559  B0031TFZRK\n",
       "400940  117560  B0BGLCCJSN\n",
       "400941  117560  B0B42Z38BQ\n",
       "\n",
       "[400942 rows x 2 columns]"
      ]
     },
     "execution_count": 34,
     "metadata": {},
     "output_type": "execute_result"
    }
   ],
   "source": [
    "interactions"
   ]
  },
  {
   "cell_type": "code",
   "execution_count": 35,
   "id": "4ea0567b-8598-407e-929a-762411f902ec",
   "metadata": {},
   "outputs": [
    {
     "data": {
      "text/plain": [
       "userID  itemID    \n",
       "0       B07HB3B78C    3\n",
       "        B089LDLP8W    1\n",
       "1       B00I3P3BRS    1\n",
       "        B00I3P3DXK    2\n",
       "        B086C24G9G    2\n",
       "                     ..\n",
       "117558  B07S1CM445    1\n",
       "        B0BDJ37NF5    1\n",
       "117559  B0031TFZRK    2\n",
       "117560  B0B42Z38BQ    1\n",
       "        B0BGLCCJSN    1\n",
       "Name: count, Length: 335751, dtype: int64"
      ]
     },
     "execution_count": 35,
     "metadata": {},
     "output_type": "execute_result"
    }
   ],
   "source": [
    "item_counts_per_user = interactions.groupby(by=[\"userID\", \"itemID\"]).value_counts()\n",
    "item_counts_per_user"
   ]
  },
  {
   "cell_type": "code",
   "execution_count": 36,
   "id": "75a36212-4173-44fb-921f-7efd5163e48c",
   "metadata": {},
   "outputs": [],
   "source": [
    "interactions.drop_duplicates(inplace=True)"
   ]
  },
  {
   "cell_type": "code",
   "execution_count": 37,
   "id": "d853985d-b23d-4aa1-b593-8121b3e30667",
   "metadata": {},
   "outputs": [],
   "source": [
    "interactions[\"item_counts_per_user\"] = item_counts_per_user.to_list()"
   ]
  },
  {
   "cell_type": "code",
   "execution_count": 38,
   "id": "f7ced671-d1ad-44b0-869e-8b44960a98b8",
   "metadata": {},
   "outputs": [
    {
     "data": {
      "text/html": [
       "<div>\n",
       "<style scoped>\n",
       "    .dataframe tbody tr th:only-of-type {\n",
       "        vertical-align: middle;\n",
       "    }\n",
       "\n",
       "    .dataframe tbody tr th {\n",
       "        vertical-align: top;\n",
       "    }\n",
       "\n",
       "    .dataframe thead th {\n",
       "        text-align: right;\n",
       "    }\n",
       "</style>\n",
       "<table border=\"1\" class=\"dataframe\">\n",
       "  <thead>\n",
       "    <tr style=\"text-align: right;\">\n",
       "      <th></th>\n",
       "      <th>userID</th>\n",
       "      <th>itemID</th>\n",
       "      <th>item_counts_per_user</th>\n",
       "    </tr>\n",
       "  </thead>\n",
       "  <tbody>\n",
       "    <tr>\n",
       "      <th>0</th>\n",
       "      <td>0</td>\n",
       "      <td>B07HB3B78C</td>\n",
       "      <td>3</td>\n",
       "    </tr>\n",
       "    <tr>\n",
       "      <th>3</th>\n",
       "      <td>0</td>\n",
       "      <td>B089LDLP8W</td>\n",
       "      <td>1</td>\n",
       "    </tr>\n",
       "    <tr>\n",
       "      <th>4</th>\n",
       "      <td>1</td>\n",
       "      <td>B00I3P3BRS</td>\n",
       "      <td>1</td>\n",
       "    </tr>\n",
       "    <tr>\n",
       "      <th>5</th>\n",
       "      <td>1</td>\n",
       "      <td>B00I3P3DXK</td>\n",
       "      <td>2</td>\n",
       "    </tr>\n",
       "    <tr>\n",
       "      <th>6</th>\n",
       "      <td>1</td>\n",
       "      <td>B086C24G9G</td>\n",
       "      <td>2</td>\n",
       "    </tr>\n",
       "    <tr>\n",
       "      <th>...</th>\n",
       "      <td>...</td>\n",
       "      <td>...</td>\n",
       "      <td>...</td>\n",
       "    </tr>\n",
       "    <tr>\n",
       "      <th>400936</th>\n",
       "      <td>117558</td>\n",
       "      <td>B0BDJ37NF5</td>\n",
       "      <td>1</td>\n",
       "    </tr>\n",
       "    <tr>\n",
       "      <th>400937</th>\n",
       "      <td>117558</td>\n",
       "      <td>B07S1CM445</td>\n",
       "      <td>1</td>\n",
       "    </tr>\n",
       "    <tr>\n",
       "      <th>400938</th>\n",
       "      <td>117559</td>\n",
       "      <td>B0031TFZRK</td>\n",
       "      <td>2</td>\n",
       "    </tr>\n",
       "    <tr>\n",
       "      <th>400940</th>\n",
       "      <td>117560</td>\n",
       "      <td>B0BGLCCJSN</td>\n",
       "      <td>1</td>\n",
       "    </tr>\n",
       "    <tr>\n",
       "      <th>400941</th>\n",
       "      <td>117560</td>\n",
       "      <td>B0B42Z38BQ</td>\n",
       "      <td>1</td>\n",
       "    </tr>\n",
       "  </tbody>\n",
       "</table>\n",
       "<p>335751 rows × 3 columns</p>\n",
       "</div>"
      ],
      "text/plain": [
       "        userID      itemID  item_counts_per_user\n",
       "0            0  B07HB3B78C                     3\n",
       "3            0  B089LDLP8W                     1\n",
       "4            1  B00I3P3BRS                     1\n",
       "5            1  B00I3P3DXK                     2\n",
       "6            1  B086C24G9G                     2\n",
       "...        ...         ...                   ...\n",
       "400936  117558  B0BDJ37NF5                     1\n",
       "400937  117558  B07S1CM445                     1\n",
       "400938  117559  B0031TFZRK                     2\n",
       "400940  117560  B0BGLCCJSN                     1\n",
       "400941  117560  B0B42Z38BQ                     1\n",
       "\n",
       "[335751 rows x 3 columns]"
      ]
     },
     "execution_count": 38,
     "metadata": {},
     "output_type": "execute_result"
    }
   ],
   "source": [
    "interactions"
   ]
  },
  {
   "cell_type": "markdown",
   "id": "e0dce0e8-10f2-4acd-a923-4830deef95a0",
   "metadata": {},
   "source": [
    "# ALS"
   ]
  },
  {
   "cell_type": "code",
   "execution_count": 39,
   "id": "cd8bc359-4973-43ea-961a-2c6a5e6700e1",
   "metadata": {},
   "outputs": [
    {
     "data": {
      "text/html": [
       "<div>\n",
       "<style scoped>\n",
       "    .dataframe tbody tr th:only-of-type {\n",
       "        vertical-align: middle;\n",
       "    }\n",
       "\n",
       "    .dataframe tbody tr th {\n",
       "        vertical-align: top;\n",
       "    }\n",
       "\n",
       "    .dataframe thead th {\n",
       "        text-align: right;\n",
       "    }\n",
       "</style>\n",
       "<table border=\"1\" class=\"dataframe\">\n",
       "  <thead>\n",
       "    <tr style=\"text-align: right;\">\n",
       "      <th></th>\n",
       "      <th>userID</th>\n",
       "      <th>itemID</th>\n",
       "      <th>item_counts_per_user</th>\n",
       "    </tr>\n",
       "  </thead>\n",
       "  <tbody>\n",
       "    <tr>\n",
       "      <th>0</th>\n",
       "      <td>0</td>\n",
       "      <td>B07HB3B78C</td>\n",
       "      <td>3</td>\n",
       "    </tr>\n",
       "    <tr>\n",
       "      <th>3</th>\n",
       "      <td>0</td>\n",
       "      <td>B089LDLP8W</td>\n",
       "      <td>1</td>\n",
       "    </tr>\n",
       "    <tr>\n",
       "      <th>4</th>\n",
       "      <td>1</td>\n",
       "      <td>B00I3P3BRS</td>\n",
       "      <td>1</td>\n",
       "    </tr>\n",
       "    <tr>\n",
       "      <th>5</th>\n",
       "      <td>1</td>\n",
       "      <td>B00I3P3DXK</td>\n",
       "      <td>2</td>\n",
       "    </tr>\n",
       "    <tr>\n",
       "      <th>6</th>\n",
       "      <td>1</td>\n",
       "      <td>B086C24G9G</td>\n",
       "      <td>2</td>\n",
       "    </tr>\n",
       "    <tr>\n",
       "      <th>...</th>\n",
       "      <td>...</td>\n",
       "      <td>...</td>\n",
       "      <td>...</td>\n",
       "    </tr>\n",
       "    <tr>\n",
       "      <th>400936</th>\n",
       "      <td>117558</td>\n",
       "      <td>B0BDJ37NF5</td>\n",
       "      <td>1</td>\n",
       "    </tr>\n",
       "    <tr>\n",
       "      <th>400937</th>\n",
       "      <td>117558</td>\n",
       "      <td>B07S1CM445</td>\n",
       "      <td>1</td>\n",
       "    </tr>\n",
       "    <tr>\n",
       "      <th>400938</th>\n",
       "      <td>117559</td>\n",
       "      <td>B0031TFZRK</td>\n",
       "      <td>2</td>\n",
       "    </tr>\n",
       "    <tr>\n",
       "      <th>400940</th>\n",
       "      <td>117560</td>\n",
       "      <td>B0BGLCCJSN</td>\n",
       "      <td>1</td>\n",
       "    </tr>\n",
       "    <tr>\n",
       "      <th>400941</th>\n",
       "      <td>117560</td>\n",
       "      <td>B0B42Z38BQ</td>\n",
       "      <td>1</td>\n",
       "    </tr>\n",
       "  </tbody>\n",
       "</table>\n",
       "<p>335751 rows × 3 columns</p>\n",
       "</div>"
      ],
      "text/plain": [
       "        userID      itemID  item_counts_per_user\n",
       "0            0  B07HB3B78C                     3\n",
       "3            0  B089LDLP8W                     1\n",
       "4            1  B00I3P3BRS                     1\n",
       "5            1  B00I3P3DXK                     2\n",
       "6            1  B086C24G9G                     2\n",
       "...        ...         ...                   ...\n",
       "400936  117558  B0BDJ37NF5                     1\n",
       "400937  117558  B07S1CM445                     1\n",
       "400938  117559  B0031TFZRK                     2\n",
       "400940  117560  B0BGLCCJSN                     1\n",
       "400941  117560  B0B42Z38BQ                     1\n",
       "\n",
       "[335751 rows x 3 columns]"
      ]
     },
     "execution_count": 39,
     "metadata": {},
     "output_type": "execute_result"
    }
   ],
   "source": [
    "interactions"
   ]
  },
  {
   "cell_type": "code",
   "execution_count": 47,
   "id": "92152929-9f52-4e5d-abd7-59f37a246ed0",
   "metadata": {},
   "outputs": [],
   "source": [
    "import scipy\n",
    "import implicit\n",
    "from implicit.als import AlternatingLeastSquares"
   ]
  },
  {
   "cell_type": "code",
   "execution_count": 51,
   "id": "83aec975-c351-4999-80e1-5f76ba117775",
   "metadata": {},
   "outputs": [],
   "source": [
    "row = interactions['userID'].to_numpy()\n",
    "col = interactions['itemID'].to_numpy()\n",
    "data = interactions['item_counts_per_user'].to_numpy()"
   ]
  },
  {
   "cell_type": "markdown",
   "id": "6d3b914a-7738-433e-9b8d-4994cadf29a9",
   "metadata": {},
   "source": [
    "### Преобразуем ID товара в индекс для создания разреженной interaction matrix"
   ]
  },
  {
   "cell_type": "code",
   "execution_count": 52,
   "id": "95ea8335-2d39-421f-bc22-da0500483a85",
   "metadata": {},
   "outputs": [],
   "source": [
    "def get_index_by_item(item):\n",
    "    return item_to_index[item]\n",
    "\n",
    "vec_func = np.vectorize(get_index_by_item)\n",
    "col = vec_func(col)"
   ]
  },
  {
   "cell_type": "code",
   "execution_count": 53,
   "id": "8edcca21-3de8-4edd-9db9-4fe90ec1f863",
   "metadata": {},
   "outputs": [
    {
     "data": {
      "text/plain": [
       "array([    0,     1,     3, ..., 10668, 21286, 31986])"
      ]
     },
     "execution_count": 53,
     "metadata": {},
     "output_type": "execute_result"
    }
   ],
   "source": [
    "col"
   ]
  },
  {
   "cell_type": "code",
   "execution_count": 54,
   "id": "c7c5f9be-5cc2-4812-b8ad-c6438e8d8c71",
   "metadata": {},
   "outputs": [],
   "source": [
    "interaction_matrix = scipy.sparse.csr_matrix((data, (row, col)))"
   ]
  },
  {
   "cell_type": "markdown",
   "id": "1f6e60a6-cd16-4eb4-bc9d-3693477ff1ed",
   "metadata": {},
   "source": [
    "### Загрузка и обучение модели"
   ]
  },
  {
   "cell_type": "code",
   "execution_count": 55,
   "id": "31fe148d-06a9-471c-8e81-e141b2ee8411",
   "metadata": {},
   "outputs": [],
   "source": [
    "from implicit.nearest_neighbours import bm25_weight\n",
    "\n",
    "interaction_matrix = bm25_weight(interaction_matrix, K1=10, B=0.8)\n",
    "interaction_matrix = interaction_matrix.tocsr()"
   ]
  },
  {
   "cell_type": "code",
   "execution_count": 56,
   "id": "f79e650f-6e55-409e-a1ca-32cc3670d27f",
   "metadata": {},
   "outputs": [
    {
     "name": "stderr",
     "output_type": "stream",
     "text": [
      "C:\\Users\\user\\anaconda3\\Lib\\site-packages\\implicit\\cpu\\als.py:95: RuntimeWarning: Intel MKL BLAS is configured to use 6 threads. It is highly recommended to disable its internal threadpool by setting the environment variable 'MKL_NUM_THREADS=1' or by callng 'threadpoolctl.threadpool_limits(1, \"blas\")'. Having MKL use a threadpool can lead to severe performance issues\n",
      "  check_blas_config()\n"
     ]
    }
   ],
   "source": [
    "model = AlternatingLeastSquares(factors=100, regularization=0.05, alpha=2.0)"
   ]
  },
  {
   "cell_type": "code",
   "execution_count": 57,
   "id": "a719384f-3e61-434d-9d16-c4b7a2227ffc",
   "metadata": {},
   "outputs": [
    {
     "data": {
      "application/vnd.jupyter.widget-view+json": {
       "model_id": "4a8e366da0214240b2790b38b849c28f",
       "version_major": 2,
       "version_minor": 0
      },
      "text/plain": [
       "  0%|          | 0/15 [00:00<?, ?it/s]"
      ]
     },
     "metadata": {},
     "output_type": "display_data"
    }
   ],
   "source": [
    "model.fit(interaction_matrix)"
   ]
  },
  {
   "cell_type": "markdown",
   "id": "9975d37f-ec01-4c2b-971a-7963295aee0f",
   "metadata": {},
   "source": [
    "### Получение предсказаний и оценка метрик"
   ]
  },
  {
   "cell_type": "code",
   "execution_count": 97,
   "id": "6642fa0f-2ddd-4a06-9452-17f21c779f86",
   "metadata": {},
   "outputs": [],
   "source": [
    "def get_recommendations(userid, model, interaction_matrix, top_k=100, filter=False):\n",
    "    ids, _ = model.recommend(userid, interaction_matrix[userid], N=top_k, filter_already_liked_items=filter)\n",
    "    return ids"
   ]
  },
  {
   "cell_type": "code",
   "execution_count": 98,
   "id": "5ca02c2f-d61d-4cff-b765-6614b07bf03b",
   "metadata": {},
   "outputs": [],
   "source": [
    "def single_mrr(item: int, recommendations: list):\n",
    "    rank = np.where(recommendations == item)[0]\n",
    "    if len(rank):\n",
    "        return 1 / (rank[0] + 1)\n",
    "    return 0\n",
    "\n",
    "\n",
    "def mrr(users: list, test_data: list, **kwargs):\n",
    "    mrr = 0\n",
    "    for i in range(len(users)):\n",
    "        recommendations = get_recommendations(users[i], **kwargs)\n",
    "        mrr += single_mrr(test_data[i], recommendations)\n",
    "    return mrr / len(users)"
   ]
  },
  {
   "cell_type": "code",
   "execution_count": 60,
   "id": "0a0611cc-e3f0-4dd7-9879-9064e82699c7",
   "metadata": {},
   "outputs": [],
   "source": [
    "index_to_item = {value: key for key, value in item_to_index.items()}\n",
    "index_to_item = pd.DataFrame.from_dict(index_to_item, orient='index')"
   ]
  },
  {
   "cell_type": "code",
   "execution_count": 61,
   "id": "81fe1f14-8254-44f8-932b-1db4b658c3af",
   "metadata": {},
   "outputs": [
    {
     "data": {
      "text/plain": [
       "3            14\n",
       "14           55\n",
       "15           69\n",
       "18           83\n",
       "39          156\n",
       "          ...  \n",
       "117521    11464\n",
       "117541    22642\n",
       "117542    35217\n",
       "117545    36286\n",
       "117551     5564\n",
       "Name: sequence, Length: 15855, dtype: int64"
      ]
     },
     "execution_count": 61,
     "metadata": {},
     "output_type": "execute_result"
    }
   ],
   "source": [
    "users = interactions['userID'].unique()\n",
    "val = val_data['sequence'].apply(get_index_by_item)\n",
    "test = test_data['sequence'].apply(get_index_by_item)\n",
    "val"
   ]
  },
  {
   "cell_type": "code",
   "execution_count": 63,
   "id": "9e8681dd-30c2-4c0d-b25b-65df2160fec0",
   "metadata": {},
   "outputs": [
    {
     "data": {
      "text/plain": [
       "0.14740189975751422"
      ]
     },
     "execution_count": 63,
     "metadata": {},
     "output_type": "execute_result"
    }
   ],
   "source": [
    "mrr(val_data['userID'].to_numpy()[:1000], val.to_numpy()[:1000], model=model, interaction_matrix=interaction_matrix)"
   ]
  },
  {
   "cell_type": "markdown",
   "id": "277b68df-3d91-4f7c-8fa9-0cf268d27fd0",
   "metadata": {},
   "source": [
    "### Кастомный grid_search (т.к. библиотека не поддерживает метод из sklearn)"
   ]
  },
  {
   "cell_type": "code",
   "execution_count": 72,
   "id": "bdec8cc0-f4ea-41ad-83c9-7e5211a621d2",
   "metadata": {},
   "outputs": [],
   "source": [
    "params = {\n",
    "    'K1': [10, 50, 100], \n",
    "    'B': [0.5, 0.75, 1.], \n",
    "    'factors': [50, 100],\n",
    "    'regularization': [0.01, 0.05, 0.1],\n",
    "    'alpha': [1.0, 2.0],\n",
    "    'iterations': [15, 25, 50]\n",
    "}"
   ]
  },
  {
   "cell_type": "code",
   "execution_count": 73,
   "id": "df520219-1c87-4988-b517-6efcca1074fd",
   "metadata": {},
   "outputs": [],
   "source": [
    "def get_params_combinations(params_dict: dict):\n",
    "    keys, values = zip(*params_dict.items())\n",
    "    combinations = [dict(zip(keys, v)) for v in itertools.product(*values)]\n",
    "    return combinations"
   ]
  },
  {
   "cell_type": "code",
   "execution_count": 74,
   "id": "38820844-e3bd-4f36-886f-714189fbb490",
   "metadata": {},
   "outputs": [
    {
     "data": {
      "text/html": [
       "<div>\n",
       "<style scoped>\n",
       "    .dataframe tbody tr th:only-of-type {\n",
       "        vertical-align: middle;\n",
       "    }\n",
       "\n",
       "    .dataframe tbody tr th {\n",
       "        vertical-align: top;\n",
       "    }\n",
       "\n",
       "    .dataframe thead th {\n",
       "        text-align: right;\n",
       "    }\n",
       "</style>\n",
       "<table border=\"1\" class=\"dataframe\">\n",
       "  <thead>\n",
       "    <tr style=\"text-align: right;\">\n",
       "      <th></th>\n",
       "      <th>sequence</th>\n",
       "      <th>seq_len</th>\n",
       "      <th>userID</th>\n",
       "    </tr>\n",
       "  </thead>\n",
       "  <tbody>\n",
       "    <tr>\n",
       "      <th>86884</th>\n",
       "      <td>B096ZJYBVF</td>\n",
       "      <td>1</td>\n",
       "      <td>86884</td>\n",
       "    </tr>\n",
       "    <tr>\n",
       "      <th>71420</th>\n",
       "      <td>B01FFOY006</td>\n",
       "      <td>1</td>\n",
       "      <td>71420</td>\n",
       "    </tr>\n",
       "    <tr>\n",
       "      <th>63594</th>\n",
       "      <td>B008X7I04A</td>\n",
       "      <td>1</td>\n",
       "      <td>63594</td>\n",
       "    </tr>\n",
       "    <tr>\n",
       "      <th>35528</th>\n",
       "      <td>B0068M0SAG</td>\n",
       "      <td>1</td>\n",
       "      <td>35528</td>\n",
       "    </tr>\n",
       "    <tr>\n",
       "      <th>77205</th>\n",
       "      <td>B08KTNQT5D</td>\n",
       "      <td>1</td>\n",
       "      <td>77205</td>\n",
       "    </tr>\n",
       "    <tr>\n",
       "      <th>...</th>\n",
       "      <td>...</td>\n",
       "      <td>...</td>\n",
       "      <td>...</td>\n",
       "    </tr>\n",
       "    <tr>\n",
       "      <th>54772</th>\n",
       "      <td>B09SHWTRFL</td>\n",
       "      <td>1</td>\n",
       "      <td>54772</td>\n",
       "    </tr>\n",
       "    <tr>\n",
       "      <th>98215</th>\n",
       "      <td>B08Q7YQ6VH</td>\n",
       "      <td>1</td>\n",
       "      <td>98215</td>\n",
       "    </tr>\n",
       "    <tr>\n",
       "      <th>110117</th>\n",
       "      <td>B0779B2ZHF</td>\n",
       "      <td>1</td>\n",
       "      <td>110117</td>\n",
       "    </tr>\n",
       "    <tr>\n",
       "      <th>957</th>\n",
       "      <td>B00D8WQOB6</td>\n",
       "      <td>1</td>\n",
       "      <td>957</td>\n",
       "    </tr>\n",
       "    <tr>\n",
       "      <th>8044</th>\n",
       "      <td>B08CC9JNDW</td>\n",
       "      <td>1</td>\n",
       "      <td>8044</td>\n",
       "    </tr>\n",
       "  </tbody>\n",
       "</table>\n",
       "<p>1000 rows × 3 columns</p>\n",
       "</div>"
      ],
      "text/plain": [
       "          sequence  seq_len  userID\n",
       "86884   B096ZJYBVF        1   86884\n",
       "71420   B01FFOY006        1   71420\n",
       "63594   B008X7I04A        1   63594\n",
       "35528   B0068M0SAG        1   35528\n",
       "77205   B08KTNQT5D        1   77205\n",
       "...            ...      ...     ...\n",
       "54772   B09SHWTRFL        1   54772\n",
       "98215   B08Q7YQ6VH        1   98215\n",
       "110117  B0779B2ZHF        1  110117\n",
       "957     B00D8WQOB6        1     957\n",
       "8044    B08CC9JNDW        1    8044\n",
       "\n",
       "[1000 rows x 3 columns]"
      ]
     },
     "execution_count": 74,
     "metadata": {},
     "output_type": "execute_result"
    }
   ],
   "source": [
    "val_sample = val_data.sample(n=1000)\n",
    "val_items = val_sample['sequence'].apply(get_index_by_item)\n",
    "val_sample"
   ]
  },
  {
   "cell_type": "code",
   "execution_count": 75,
   "id": "d2ff4a52-d4e4-413d-a294-439bcac8bd49",
   "metadata": {},
   "outputs": [
    {
     "data": {
      "application/vnd.jupyter.widget-view+json": {
       "model_id": "99c2b09ce42241d1a9ac2afe1471582c",
       "version_major": 2,
       "version_minor": 0
      },
      "text/plain": [
       "  0%|          | 0/15 [00:00<?, ?it/s]"
      ]
     },
     "metadata": {},
     "output_type": "display_data"
    },
    {
     "name": "stdout",
     "output_type": "stream",
     "text": [
      "new_best_mrr: 0.1256380863226994\n"
     ]
    },
    {
     "data": {
      "application/vnd.jupyter.widget-view+json": {
       "model_id": "af25b41b0f7d45e09d0f4bb4eda02c59",
       "version_major": 2,
       "version_minor": 0
      },
      "text/plain": [
       "  0%|          | 0/15 [00:00<?, ?it/s]"
      ]
     },
     "metadata": {},
     "output_type": "display_data"
    },
    {
     "name": "stdout",
     "output_type": "stream",
     "text": [
      "new_best_mrr: 0.1319129120175226\n"
     ]
    },
    {
     "data": {
      "application/vnd.jupyter.widget-view+json": {
       "model_id": "b0002f4e37a74da5beb5123783ed401a",
       "version_major": 2,
       "version_minor": 0
      },
      "text/plain": [
       "  0%|          | 0/15 [00:00<?, ?it/s]"
      ]
     },
     "metadata": {},
     "output_type": "display_data"
    },
    {
     "name": "stdout",
     "output_type": "stream",
     "text": [
      "new_best_mrr: 0.13258720580340042\n"
     ]
    },
    {
     "data": {
      "application/vnd.jupyter.widget-view+json": {
       "model_id": "eb5ace24cbf2440c8a07a6888bb260f4",
       "version_major": 2,
       "version_minor": 0
      },
      "text/plain": [
       "  0%|          | 0/15 [00:00<?, ?it/s]"
      ]
     },
     "metadata": {},
     "output_type": "display_data"
    },
    {
     "name": "stdout",
     "output_type": "stream",
     "text": [
      "new_best_mrr: 0.1427681346694047\n"
     ]
    },
    {
     "data": {
      "application/vnd.jupyter.widget-view+json": {
       "model_id": "841937e28b264b79ba6603e18c8cc7f4",
       "version_major": 2,
       "version_minor": 0
      },
      "text/plain": [
       "  0%|          | 0/15 [00:00<?, ?it/s]"
      ]
     },
     "metadata": {},
     "output_type": "display_data"
    },
    {
     "name": "stdout",
     "output_type": "stream",
     "text": [
      "new_best_mrr: 0.14498341304811097\n"
     ]
    },
    {
     "data": {
      "application/vnd.jupyter.widget-view+json": {
       "model_id": "eb62ea02c6f040c1ad41a735780e632a",
       "version_major": 2,
       "version_minor": 0
      },
      "text/plain": [
       "  0%|          | 0/15 [00:00<?, ?it/s]"
      ]
     },
     "metadata": {},
     "output_type": "display_data"
    },
    {
     "data": {
      "application/vnd.jupyter.widget-view+json": {
       "model_id": "3f990ffb392342deb00054d9bd87eda5",
       "version_major": 2,
       "version_minor": 0
      },
      "text/plain": [
       "  0%|          | 0/15 [00:00<?, ?it/s]"
      ]
     },
     "metadata": {},
     "output_type": "display_data"
    },
    {
     "data": {
      "application/vnd.jupyter.widget-view+json": {
       "model_id": "238055c602a747de9b8b9e8dcf8e46d4",
       "version_major": 2,
       "version_minor": 0
      },
      "text/plain": [
       "  0%|          | 0/15 [00:00<?, ?it/s]"
      ]
     },
     "metadata": {},
     "output_type": "display_data"
    },
    {
     "data": {
      "application/vnd.jupyter.widget-view+json": {
       "model_id": "e49977769d48475e9e8b8fca7aa78dba",
       "version_major": 2,
       "version_minor": 0
      },
      "text/plain": [
       "  0%|          | 0/15 [00:00<?, ?it/s]"
      ]
     },
     "metadata": {},
     "output_type": "display_data"
    },
    {
     "data": {
      "application/vnd.jupyter.widget-view+json": {
       "model_id": "7f8acbca7dfe4de393193a7bccaa94e6",
       "version_major": 2,
       "version_minor": 0
      },
      "text/plain": [
       "  0%|          | 0/15 [00:00<?, ?it/s]"
      ]
     },
     "metadata": {},
     "output_type": "display_data"
    },
    {
     "data": {
      "application/vnd.jupyter.widget-view+json": {
       "model_id": "608ceb7a15c343e2bd9f4c4d1664e5a5",
       "version_major": 2,
       "version_minor": 0
      },
      "text/plain": [
       "  0%|          | 0/15 [00:00<?, ?it/s]"
      ]
     },
     "metadata": {},
     "output_type": "display_data"
    },
    {
     "data": {
      "application/vnd.jupyter.widget-view+json": {
       "model_id": "cd0f985a98b7496fbaa2e7abe981353c",
       "version_major": 2,
       "version_minor": 0
      },
      "text/plain": [
       "  0%|          | 0/15 [00:00<?, ?it/s]"
      ]
     },
     "metadata": {},
     "output_type": "display_data"
    },
    {
     "data": {
      "application/vnd.jupyter.widget-view+json": {
       "model_id": "f806bc4877cc4643b525a9ef9c67ca24",
       "version_major": 2,
       "version_minor": 0
      },
      "text/plain": [
       "  0%|          | 0/15 [00:00<?, ?it/s]"
      ]
     },
     "metadata": {},
     "output_type": "display_data"
    },
    {
     "data": {
      "application/vnd.jupyter.widget-view+json": {
       "model_id": "6a6081f3414944518d18715ce2605215",
       "version_major": 2,
       "version_minor": 0
      },
      "text/plain": [
       "  0%|          | 0/15 [00:00<?, ?it/s]"
      ]
     },
     "metadata": {},
     "output_type": "display_data"
    },
    {
     "data": {
      "application/vnd.jupyter.widget-view+json": {
       "model_id": "0d327d11254b446cbb785fb539e0369a",
       "version_major": 2,
       "version_minor": 0
      },
      "text/plain": [
       "  0%|          | 0/15 [00:00<?, ?it/s]"
      ]
     },
     "metadata": {},
     "output_type": "display_data"
    },
    {
     "data": {
      "application/vnd.jupyter.widget-view+json": {
       "model_id": "fab52fa6eb9048b3bfff14fbc3295a0f",
       "version_major": 2,
       "version_minor": 0
      },
      "text/plain": [
       "  0%|          | 0/15 [00:00<?, ?it/s]"
      ]
     },
     "metadata": {},
     "output_type": "display_data"
    },
    {
     "data": {
      "application/vnd.jupyter.widget-view+json": {
       "model_id": "ed1af8b05e0d4a7f902a74c94e02b12e",
       "version_major": 2,
       "version_minor": 0
      },
      "text/plain": [
       "  0%|          | 0/15 [00:00<?, ?it/s]"
      ]
     },
     "metadata": {},
     "output_type": "display_data"
    },
    {
     "data": {
      "application/vnd.jupyter.widget-view+json": {
       "model_id": "6e7a4cec42bd46fca122ddd419db7483",
       "version_major": 2,
       "version_minor": 0
      },
      "text/plain": [
       "  0%|          | 0/15 [00:00<?, ?it/s]"
      ]
     },
     "metadata": {},
     "output_type": "display_data"
    },
    {
     "data": {
      "application/vnd.jupyter.widget-view+json": {
       "model_id": "c24e637405b842ea91773acf38afafa9",
       "version_major": 2,
       "version_minor": 0
      },
      "text/plain": [
       "  0%|          | 0/15 [00:00<?, ?it/s]"
      ]
     },
     "metadata": {},
     "output_type": "display_data"
    },
    {
     "name": "stdout",
     "output_type": "stream",
     "text": [
      "new_best_mrr: 0.1528229535930606\n"
     ]
    },
    {
     "data": {
      "application/vnd.jupyter.widget-view+json": {
       "model_id": "6993ec311b5640d4a2fcdcc5ea8a4dbb",
       "version_major": 2,
       "version_minor": 0
      },
      "text/plain": [
       "  0%|          | 0/15 [00:00<?, ?it/s]"
      ]
     },
     "metadata": {},
     "output_type": "display_data"
    },
    {
     "data": {
      "application/vnd.jupyter.widget-view+json": {
       "model_id": "c9bffecd1b684a11846acbbd6fca61d1",
       "version_major": 2,
       "version_minor": 0
      },
      "text/plain": [
       "  0%|          | 0/15 [00:00<?, ?it/s]"
      ]
     },
     "metadata": {},
     "output_type": "display_data"
    },
    {
     "data": {
      "application/vnd.jupyter.widget-view+json": {
       "model_id": "85778c9ce1fc4eb997d73216abf95787",
       "version_major": 2,
       "version_minor": 0
      },
      "text/plain": [
       "  0%|          | 0/15 [00:00<?, ?it/s]"
      ]
     },
     "metadata": {},
     "output_type": "display_data"
    },
    {
     "name": "stdout",
     "output_type": "stream",
     "text": [
      "new_best_mrr: 0.1626749633661317\n"
     ]
    },
    {
     "data": {
      "application/vnd.jupyter.widget-view+json": {
       "model_id": "c75f0fc8a0a648a98abf9e82c0264525",
       "version_major": 2,
       "version_minor": 0
      },
      "text/plain": [
       "  0%|          | 0/15 [00:00<?, ?it/s]"
      ]
     },
     "metadata": {},
     "output_type": "display_data"
    },
    {
     "data": {
      "application/vnd.jupyter.widget-view+json": {
       "model_id": "2c9d2972dd274c68a56e794331566d57",
       "version_major": 2,
       "version_minor": 0
      },
      "text/plain": [
       "  0%|          | 0/15 [00:00<?, ?it/s]"
      ]
     },
     "metadata": {},
     "output_type": "display_data"
    },
    {
     "name": "stdout",
     "output_type": "stream",
     "text": [
      "new_best_mrr: 0.16679951528798112\n"
     ]
    },
    {
     "data": {
      "application/vnd.jupyter.widget-view+json": {
       "model_id": "46bea840ba1442fd8e3f992ebeb05ec1",
       "version_major": 2,
       "version_minor": 0
      },
      "text/plain": [
       "  0%|          | 0/15 [00:00<?, ?it/s]"
      ]
     },
     "metadata": {},
     "output_type": "display_data"
    },
    {
     "data": {
      "application/vnd.jupyter.widget-view+json": {
       "model_id": "1d4682711e9e4c6aab85ea6497d5d3c1",
       "version_major": 2,
       "version_minor": 0
      },
      "text/plain": [
       "  0%|          | 0/15 [00:00<?, ?it/s]"
      ]
     },
     "metadata": {},
     "output_type": "display_data"
    },
    {
     "data": {
      "application/vnd.jupyter.widget-view+json": {
       "model_id": "711eb923d07d4bd1bee7ad664a74684e",
       "version_major": 2,
       "version_minor": 0
      },
      "text/plain": [
       "  0%|          | 0/15 [00:00<?, ?it/s]"
      ]
     },
     "metadata": {},
     "output_type": "display_data"
    },
    {
     "data": {
      "application/vnd.jupyter.widget-view+json": {
       "model_id": "57971018d2a048008e8f143a0cbe2f26",
       "version_major": 2,
       "version_minor": 0
      },
      "text/plain": [
       "  0%|          | 0/15 [00:00<?, ?it/s]"
      ]
     },
     "metadata": {},
     "output_type": "display_data"
    },
    {
     "data": {
      "application/vnd.jupyter.widget-view+json": {
       "model_id": "6fb88f92ce554793a73e9bd5a9b02105",
       "version_major": 2,
       "version_minor": 0
      },
      "text/plain": [
       "  0%|          | 0/15 [00:00<?, ?it/s]"
      ]
     },
     "metadata": {},
     "output_type": "display_data"
    },
    {
     "data": {
      "application/vnd.jupyter.widget-view+json": {
       "model_id": "673f751c710b41a78b6fd7e68f147b90",
       "version_major": 2,
       "version_minor": 0
      },
      "text/plain": [
       "  0%|          | 0/15 [00:00<?, ?it/s]"
      ]
     },
     "metadata": {},
     "output_type": "display_data"
    },
    {
     "data": {
      "application/vnd.jupyter.widget-view+json": {
       "model_id": "dfb94ed8b1754a3eb8df1b40fecd2786",
       "version_major": 2,
       "version_minor": 0
      },
      "text/plain": [
       "  0%|          | 0/15 [00:00<?, ?it/s]"
      ]
     },
     "metadata": {},
     "output_type": "display_data"
    },
    {
     "data": {
      "application/vnd.jupyter.widget-view+json": {
       "model_id": "cd94611d444d44e09c44182db5616e51",
       "version_major": 2,
       "version_minor": 0
      },
      "text/plain": [
       "  0%|          | 0/15 [00:00<?, ?it/s]"
      ]
     },
     "metadata": {},
     "output_type": "display_data"
    },
    {
     "data": {
      "application/vnd.jupyter.widget-view+json": {
       "model_id": "9d7d4f8b22a74f75a205d9a6adbc9cff",
       "version_major": 2,
       "version_minor": 0
      },
      "text/plain": [
       "  0%|          | 0/15 [00:00<?, ?it/s]"
      ]
     },
     "metadata": {},
     "output_type": "display_data"
    },
    {
     "data": {
      "application/vnd.jupyter.widget-view+json": {
       "model_id": "2fff950c1a7143bf8af26c4fdffc8159",
       "version_major": 2,
       "version_minor": 0
      },
      "text/plain": [
       "  0%|          | 0/15 [00:00<?, ?it/s]"
      ]
     },
     "metadata": {},
     "output_type": "display_data"
    },
    {
     "data": {
      "application/vnd.jupyter.widget-view+json": {
       "model_id": "8bbba6efb2254df9a5d7e2ec5ece9ec9",
       "version_major": 2,
       "version_minor": 0
      },
      "text/plain": [
       "  0%|          | 0/15 [00:00<?, ?it/s]"
      ]
     },
     "metadata": {},
     "output_type": "display_data"
    },
    {
     "name": "stdout",
     "output_type": "stream",
     "text": [
      "new_best_mrr: 0.16771990575991919\n"
     ]
    },
    {
     "data": {
      "application/vnd.jupyter.widget-view+json": {
       "model_id": "34d63bd4ef664a5396116bc7df804433",
       "version_major": 2,
       "version_minor": 0
      },
      "text/plain": [
       "  0%|          | 0/15 [00:00<?, ?it/s]"
      ]
     },
     "metadata": {},
     "output_type": "display_data"
    },
    {
     "data": {
      "application/vnd.jupyter.widget-view+json": {
       "model_id": "9fb405c4148e420f9d5fd5514a0f8c99",
       "version_major": 2,
       "version_minor": 0
      },
      "text/plain": [
       "  0%|          | 0/15 [00:00<?, ?it/s]"
      ]
     },
     "metadata": {},
     "output_type": "display_data"
    },
    {
     "data": {
      "application/vnd.jupyter.widget-view+json": {
       "model_id": "f5b5d581580c4a3e99f2b15fef4c8f44",
       "version_major": 2,
       "version_minor": 0
      },
      "text/plain": [
       "  0%|          | 0/15 [00:00<?, ?it/s]"
      ]
     },
     "metadata": {},
     "output_type": "display_data"
    },
    {
     "data": {
      "application/vnd.jupyter.widget-view+json": {
       "model_id": "2657f73f93d645a7ae4fe075f1b4ca41",
       "version_major": 2,
       "version_minor": 0
      },
      "text/plain": [
       "  0%|          | 0/15 [00:00<?, ?it/s]"
      ]
     },
     "metadata": {},
     "output_type": "display_data"
    },
    {
     "data": {
      "application/vnd.jupyter.widget-view+json": {
       "model_id": "77df03755d2a4bc18796db61d946af15",
       "version_major": 2,
       "version_minor": 0
      },
      "text/plain": [
       "  0%|          | 0/15 [00:00<?, ?it/s]"
      ]
     },
     "metadata": {},
     "output_type": "display_data"
    },
    {
     "data": {
      "application/vnd.jupyter.widget-view+json": {
       "model_id": "8bf1cdcb92e1440ba16211466a9f91cd",
       "version_major": 2,
       "version_minor": 0
      },
      "text/plain": [
       "  0%|          | 0/15 [00:00<?, ?it/s]"
      ]
     },
     "metadata": {},
     "output_type": "display_data"
    },
    {
     "data": {
      "application/vnd.jupyter.widget-view+json": {
       "model_id": "d59bb56b61ce42e2a5fd12824c8489e2",
       "version_major": 2,
       "version_minor": 0
      },
      "text/plain": [
       "  0%|          | 0/15 [00:00<?, ?it/s]"
      ]
     },
     "metadata": {},
     "output_type": "display_data"
    },
    {
     "data": {
      "application/vnd.jupyter.widget-view+json": {
       "model_id": "50126b2e2b6144a0b69863ed7fd25c7b",
       "version_major": 2,
       "version_minor": 0
      },
      "text/plain": [
       "  0%|          | 0/15 [00:00<?, ?it/s]"
      ]
     },
     "metadata": {},
     "output_type": "display_data"
    },
    {
     "data": {
      "application/vnd.jupyter.widget-view+json": {
       "model_id": "3730f5aaa9674e0a95e9b64ac36b3d81",
       "version_major": 2,
       "version_minor": 0
      },
      "text/plain": [
       "  0%|          | 0/15 [00:00<?, ?it/s]"
      ]
     },
     "metadata": {},
     "output_type": "display_data"
    },
    {
     "data": {
      "application/vnd.jupyter.widget-view+json": {
       "model_id": "a67c541acfd048ec9426bf51b9e2e73e",
       "version_major": 2,
       "version_minor": 0
      },
      "text/plain": [
       "  0%|          | 0/15 [00:00<?, ?it/s]"
      ]
     },
     "metadata": {},
     "output_type": "display_data"
    },
    {
     "data": {
      "application/vnd.jupyter.widget-view+json": {
       "model_id": "a9d6c26aa4c04ab98c6c98d762cd516e",
       "version_major": 2,
       "version_minor": 0
      },
      "text/plain": [
       "  0%|          | 0/15 [00:00<?, ?it/s]"
      ]
     },
     "metadata": {},
     "output_type": "display_data"
    },
    {
     "data": {
      "application/vnd.jupyter.widget-view+json": {
       "model_id": "47b91b9bbdbb4322ba266c41ea47ff02",
       "version_major": 2,
       "version_minor": 0
      },
      "text/plain": [
       "  0%|          | 0/15 [00:00<?, ?it/s]"
      ]
     },
     "metadata": {},
     "output_type": "display_data"
    },
    {
     "data": {
      "application/vnd.jupyter.widget-view+json": {
       "model_id": "b61c4192bed743598dbda8bb52239924",
       "version_major": 2,
       "version_minor": 0
      },
      "text/plain": [
       "  0%|          | 0/15 [00:00<?, ?it/s]"
      ]
     },
     "metadata": {},
     "output_type": "display_data"
    },
    {
     "data": {
      "application/vnd.jupyter.widget-view+json": {
       "model_id": "21fe0202038b4d2e98c6887ec88fb2fe",
       "version_major": 2,
       "version_minor": 0
      },
      "text/plain": [
       "  0%|          | 0/15 [00:00<?, ?it/s]"
      ]
     },
     "metadata": {},
     "output_type": "display_data"
    },
    {
     "data": {
      "application/vnd.jupyter.widget-view+json": {
       "model_id": "2971cd3c701f4fdfb6629da291ef3a64",
       "version_major": 2,
       "version_minor": 0
      },
      "text/plain": [
       "  0%|          | 0/15 [00:00<?, ?it/s]"
      ]
     },
     "metadata": {},
     "output_type": "display_data"
    },
    {
     "data": {
      "application/vnd.jupyter.widget-view+json": {
       "model_id": "3be2b285f5164d9a8e2d8fb128b57c92",
       "version_major": 2,
       "version_minor": 0
      },
      "text/plain": [
       "  0%|          | 0/15 [00:00<?, ?it/s]"
      ]
     },
     "metadata": {},
     "output_type": "display_data"
    },
    {
     "data": {
      "application/vnd.jupyter.widget-view+json": {
       "model_id": "b2607bcf694b4960af8cb327379670bb",
       "version_major": 2,
       "version_minor": 0
      },
      "text/plain": [
       "  0%|          | 0/15 [00:00<?, ?it/s]"
      ]
     },
     "metadata": {},
     "output_type": "display_data"
    },
    {
     "data": {
      "application/vnd.jupyter.widget-view+json": {
       "model_id": "fd95bc734d3442dc9c9f7d8f914e1725",
       "version_major": 2,
       "version_minor": 0
      },
      "text/plain": [
       "  0%|          | 0/15 [00:00<?, ?it/s]"
      ]
     },
     "metadata": {},
     "output_type": "display_data"
    },
    {
     "data": {
      "application/vnd.jupyter.widget-view+json": {
       "model_id": "6077413fc9ac43b48ce7d99933cc2435",
       "version_major": 2,
       "version_minor": 0
      },
      "text/plain": [
       "  0%|          | 0/15 [00:00<?, ?it/s]"
      ]
     },
     "metadata": {},
     "output_type": "display_data"
    },
    {
     "data": {
      "application/vnd.jupyter.widget-view+json": {
       "model_id": "044877b29aa74fc99d7595e6d6ae21e4",
       "version_major": 2,
       "version_minor": 0
      },
      "text/plain": [
       "  0%|          | 0/15 [00:00<?, ?it/s]"
      ]
     },
     "metadata": {},
     "output_type": "display_data"
    },
    {
     "data": {
      "application/vnd.jupyter.widget-view+json": {
       "model_id": "9839012b16cc4324bc51ce9360ce5493",
       "version_major": 2,
       "version_minor": 0
      },
      "text/plain": [
       "  0%|          | 0/15 [00:00<?, ?it/s]"
      ]
     },
     "metadata": {},
     "output_type": "display_data"
    },
    {
     "data": {
      "application/vnd.jupyter.widget-view+json": {
       "model_id": "95fbfea5ad7a458e80168cf190d9bef0",
       "version_major": 2,
       "version_minor": 0
      },
      "text/plain": [
       "  0%|          | 0/15 [00:00<?, ?it/s]"
      ]
     },
     "metadata": {},
     "output_type": "display_data"
    },
    {
     "data": {
      "application/vnd.jupyter.widget-view+json": {
       "model_id": "eb836c3e23e442a3bba43cace0ba99ce",
       "version_major": 2,
       "version_minor": 0
      },
      "text/plain": [
       "  0%|          | 0/15 [00:00<?, ?it/s]"
      ]
     },
     "metadata": {},
     "output_type": "display_data"
    },
    {
     "data": {
      "application/vnd.jupyter.widget-view+json": {
       "model_id": "6a4b75b33d164dc0bcec4fe4c9bb9b75",
       "version_major": 2,
       "version_minor": 0
      },
      "text/plain": [
       "  0%|          | 0/15 [00:00<?, ?it/s]"
      ]
     },
     "metadata": {},
     "output_type": "display_data"
    },
    {
     "data": {
      "application/vnd.jupyter.widget-view+json": {
       "model_id": "b47f6ef2209f46c288357878e8fe3b1d",
       "version_major": 2,
       "version_minor": 0
      },
      "text/plain": [
       "  0%|          | 0/15 [00:00<?, ?it/s]"
      ]
     },
     "metadata": {},
     "output_type": "display_data"
    },
    {
     "data": {
      "application/vnd.jupyter.widget-view+json": {
       "model_id": "7a93a0d2a17b48f38d5edd353648e13d",
       "version_major": 2,
       "version_minor": 0
      },
      "text/plain": [
       "  0%|          | 0/15 [00:00<?, ?it/s]"
      ]
     },
     "metadata": {},
     "output_type": "display_data"
    },
    {
     "data": {
      "application/vnd.jupyter.widget-view+json": {
       "model_id": "90bccb68ea0049498d09a7852685b9e7",
       "version_major": 2,
       "version_minor": 0
      },
      "text/plain": [
       "  0%|          | 0/15 [00:00<?, ?it/s]"
      ]
     },
     "metadata": {},
     "output_type": "display_data"
    },
    {
     "data": {
      "application/vnd.jupyter.widget-view+json": {
       "model_id": "1c7c86e403de418fb2d6882795d139be",
       "version_major": 2,
       "version_minor": 0
      },
      "text/plain": [
       "  0%|          | 0/15 [00:00<?, ?it/s]"
      ]
     },
     "metadata": {},
     "output_type": "display_data"
    },
    {
     "data": {
      "application/vnd.jupyter.widget-view+json": {
       "model_id": "c5cb1afbfa9e494ab8db5dc9a2aeae02",
       "version_major": 2,
       "version_minor": 0
      },
      "text/plain": [
       "  0%|          | 0/15 [00:00<?, ?it/s]"
      ]
     },
     "metadata": {},
     "output_type": "display_data"
    },
    {
     "data": {
      "application/vnd.jupyter.widget-view+json": {
       "model_id": "a2e3b33180b34202b32fbc1244908de5",
       "version_major": 2,
       "version_minor": 0
      },
      "text/plain": [
       "  0%|          | 0/15 [00:00<?, ?it/s]"
      ]
     },
     "metadata": {},
     "output_type": "display_data"
    },
    {
     "data": {
      "application/vnd.jupyter.widget-view+json": {
       "model_id": "be7f8950b23947358f96b8ce6a93128e",
       "version_major": 2,
       "version_minor": 0
      },
      "text/plain": [
       "  0%|          | 0/15 [00:00<?, ?it/s]"
      ]
     },
     "metadata": {},
     "output_type": "display_data"
    },
    {
     "data": {
      "application/vnd.jupyter.widget-view+json": {
       "model_id": "c90beac605904eecb750383562fb8a22",
       "version_major": 2,
       "version_minor": 0
      },
      "text/plain": [
       "  0%|          | 0/15 [00:00<?, ?it/s]"
      ]
     },
     "metadata": {},
     "output_type": "display_data"
    },
    {
     "data": {
      "application/vnd.jupyter.widget-view+json": {
       "model_id": "e984c5d0fe3648b0a6f5b712b65f81f9",
       "version_major": 2,
       "version_minor": 0
      },
      "text/plain": [
       "  0%|          | 0/15 [00:00<?, ?it/s]"
      ]
     },
     "metadata": {},
     "output_type": "display_data"
    },
    {
     "data": {
      "application/vnd.jupyter.widget-view+json": {
       "model_id": "2a5704582d2a44019bc14c8cae795b77",
       "version_major": 2,
       "version_minor": 0
      },
      "text/plain": [
       "  0%|          | 0/15 [00:00<?, ?it/s]"
      ]
     },
     "metadata": {},
     "output_type": "display_data"
    },
    {
     "data": {
      "application/vnd.jupyter.widget-view+json": {
       "model_id": "95d6fc9e47dc40ed8574d1a972d87758",
       "version_major": 2,
       "version_minor": 0
      },
      "text/plain": [
       "  0%|          | 0/15 [00:00<?, ?it/s]"
      ]
     },
     "metadata": {},
     "output_type": "display_data"
    },
    {
     "data": {
      "application/vnd.jupyter.widget-view+json": {
       "model_id": "cbfe83aa913f43e1aa908689a050f011",
       "version_major": 2,
       "version_minor": 0
      },
      "text/plain": [
       "  0%|          | 0/15 [00:00<?, ?it/s]"
      ]
     },
     "metadata": {},
     "output_type": "display_data"
    },
    {
     "data": {
      "application/vnd.jupyter.widget-view+json": {
       "model_id": "e5756c0245cb484a8c93a2398a01b27b",
       "version_major": 2,
       "version_minor": 0
      },
      "text/plain": [
       "  0%|          | 0/15 [00:00<?, ?it/s]"
      ]
     },
     "metadata": {},
     "output_type": "display_data"
    },
    {
     "data": {
      "application/vnd.jupyter.widget-view+json": {
       "model_id": "d7cae3846aa54903a1311bd26d047d4e",
       "version_major": 2,
       "version_minor": 0
      },
      "text/plain": [
       "  0%|          | 0/15 [00:00<?, ?it/s]"
      ]
     },
     "metadata": {},
     "output_type": "display_data"
    },
    {
     "data": {
      "application/vnd.jupyter.widget-view+json": {
       "model_id": "37af5102462d436c8e02bf64f0f54d2c",
       "version_major": 2,
       "version_minor": 0
      },
      "text/plain": [
       "  0%|          | 0/15 [00:00<?, ?it/s]"
      ]
     },
     "metadata": {},
     "output_type": "display_data"
    },
    {
     "data": {
      "application/vnd.jupyter.widget-view+json": {
       "model_id": "8fb366cbae91472fbfabc070967e0b75",
       "version_major": 2,
       "version_minor": 0
      },
      "text/plain": [
       "  0%|          | 0/15 [00:00<?, ?it/s]"
      ]
     },
     "metadata": {},
     "output_type": "display_data"
    },
    {
     "data": {
      "application/vnd.jupyter.widget-view+json": {
       "model_id": "3aff5b592d62487892ea6cb8112f6648",
       "version_major": 2,
       "version_minor": 0
      },
      "text/plain": [
       "  0%|          | 0/15 [00:00<?, ?it/s]"
      ]
     },
     "metadata": {},
     "output_type": "display_data"
    },
    {
     "data": {
      "application/vnd.jupyter.widget-view+json": {
       "model_id": "15ef17e79ad54490ae42584688581082",
       "version_major": 2,
       "version_minor": 0
      },
      "text/plain": [
       "  0%|          | 0/15 [00:00<?, ?it/s]"
      ]
     },
     "metadata": {},
     "output_type": "display_data"
    },
    {
     "data": {
      "application/vnd.jupyter.widget-view+json": {
       "model_id": "c9c5ed24174340469f67b3a3b6620390",
       "version_major": 2,
       "version_minor": 0
      },
      "text/plain": [
       "  0%|          | 0/15 [00:00<?, ?it/s]"
      ]
     },
     "metadata": {},
     "output_type": "display_data"
    },
    {
     "data": {
      "application/vnd.jupyter.widget-view+json": {
       "model_id": "88c1310e7e514582981dd150bb991d35",
       "version_major": 2,
       "version_minor": 0
      },
      "text/plain": [
       "  0%|          | 0/15 [00:00<?, ?it/s]"
      ]
     },
     "metadata": {},
     "output_type": "display_data"
    },
    {
     "data": {
      "application/vnd.jupyter.widget-view+json": {
       "model_id": "1fa7b2f6f05e475bbbc09829078e1f70",
       "version_major": 2,
       "version_minor": 0
      },
      "text/plain": [
       "  0%|          | 0/15 [00:00<?, ?it/s]"
      ]
     },
     "metadata": {},
     "output_type": "display_data"
    },
    {
     "data": {
      "application/vnd.jupyter.widget-view+json": {
       "model_id": "e392dda0aec247a285dc7a7c57967466",
       "version_major": 2,
       "version_minor": 0
      },
      "text/plain": [
       "  0%|          | 0/15 [00:00<?, ?it/s]"
      ]
     },
     "metadata": {},
     "output_type": "display_data"
    },
    {
     "data": {
      "application/vnd.jupyter.widget-view+json": {
       "model_id": "2360096c904f4333a179ad771911a3d4",
       "version_major": 2,
       "version_minor": 0
      },
      "text/plain": [
       "  0%|          | 0/15 [00:00<?, ?it/s]"
      ]
     },
     "metadata": {},
     "output_type": "display_data"
    },
    {
     "data": {
      "application/vnd.jupyter.widget-view+json": {
       "model_id": "5b98362788b54772bb6c5840e08d09a8",
       "version_major": 2,
       "version_minor": 0
      },
      "text/plain": [
       "  0%|          | 0/15 [00:00<?, ?it/s]"
      ]
     },
     "metadata": {},
     "output_type": "display_data"
    },
    {
     "data": {
      "application/vnd.jupyter.widget-view+json": {
       "model_id": "0c8d8f823fac4383949de514f1b0b403",
       "version_major": 2,
       "version_minor": 0
      },
      "text/plain": [
       "  0%|          | 0/15 [00:00<?, ?it/s]"
      ]
     },
     "metadata": {},
     "output_type": "display_data"
    },
    {
     "data": {
      "application/vnd.jupyter.widget-view+json": {
       "model_id": "452405dc4cb54dd39a8db0b653138f96",
       "version_major": 2,
       "version_minor": 0
      },
      "text/plain": [
       "  0%|          | 0/15 [00:00<?, ?it/s]"
      ]
     },
     "metadata": {},
     "output_type": "display_data"
    },
    {
     "data": {
      "application/vnd.jupyter.widget-view+json": {
       "model_id": "dc49478f250d471996020e412d4afe14",
       "version_major": 2,
       "version_minor": 0
      },
      "text/plain": [
       "  0%|          | 0/15 [00:00<?, ?it/s]"
      ]
     },
     "metadata": {},
     "output_type": "display_data"
    },
    {
     "data": {
      "application/vnd.jupyter.widget-view+json": {
       "model_id": "780bc15f29154f1bb373b115a8062087",
       "version_major": 2,
       "version_minor": 0
      },
      "text/plain": [
       "  0%|          | 0/15 [00:00<?, ?it/s]"
      ]
     },
     "metadata": {},
     "output_type": "display_data"
    },
    {
     "data": {
      "application/vnd.jupyter.widget-view+json": {
       "model_id": "56825f16841f41689b26e8df488527d4",
       "version_major": 2,
       "version_minor": 0
      },
      "text/plain": [
       "  0%|          | 0/15 [00:00<?, ?it/s]"
      ]
     },
     "metadata": {},
     "output_type": "display_data"
    },
    {
     "data": {
      "application/vnd.jupyter.widget-view+json": {
       "model_id": "5741315045434dcd87b855bd6f7ba15f",
       "version_major": 2,
       "version_minor": 0
      },
      "text/plain": [
       "  0%|          | 0/15 [00:00<?, ?it/s]"
      ]
     },
     "metadata": {},
     "output_type": "display_data"
    },
    {
     "data": {
      "application/vnd.jupyter.widget-view+json": {
       "model_id": "4767cf8af7ac4fcb9a2479b618de6cfd",
       "version_major": 2,
       "version_minor": 0
      },
      "text/plain": [
       "  0%|          | 0/15 [00:00<?, ?it/s]"
      ]
     },
     "metadata": {},
     "output_type": "display_data"
    },
    {
     "data": {
      "application/vnd.jupyter.widget-view+json": {
       "model_id": "5e9cb8043f8747b7a7b45cb293a792e1",
       "version_major": 2,
       "version_minor": 0
      },
      "text/plain": [
       "  0%|          | 0/15 [00:00<?, ?it/s]"
      ]
     },
     "metadata": {},
     "output_type": "display_data"
    },
    {
     "data": {
      "application/vnd.jupyter.widget-view+json": {
       "model_id": "b956d876efa44249a87eb6346cb74ee5",
       "version_major": 2,
       "version_minor": 0
      },
      "text/plain": [
       "  0%|          | 0/15 [00:00<?, ?it/s]"
      ]
     },
     "metadata": {},
     "output_type": "display_data"
    },
    {
     "data": {
      "application/vnd.jupyter.widget-view+json": {
       "model_id": "8dbb6b5a82d14def8599bf215baa2676",
       "version_major": 2,
       "version_minor": 0
      },
      "text/plain": [
       "  0%|          | 0/15 [00:00<?, ?it/s]"
      ]
     },
     "metadata": {},
     "output_type": "display_data"
    },
    {
     "data": {
      "application/vnd.jupyter.widget-view+json": {
       "model_id": "5d4bfef9cceb4a6cb0b9619273024fde",
       "version_major": 2,
       "version_minor": 0
      },
      "text/plain": [
       "  0%|          | 0/15 [00:00<?, ?it/s]"
      ]
     },
     "metadata": {},
     "output_type": "display_data"
    },
    {
     "data": {
      "application/vnd.jupyter.widget-view+json": {
       "model_id": "e784dafb69fa45ebbd2a58a86a62b666",
       "version_major": 2,
       "version_minor": 0
      },
      "text/plain": [
       "  0%|          | 0/15 [00:00<?, ?it/s]"
      ]
     },
     "metadata": {},
     "output_type": "display_data"
    },
    {
     "data": {
      "application/vnd.jupyter.widget-view+json": {
       "model_id": "a85fd9ff78fc47b5927b3208e75ef406",
       "version_major": 2,
       "version_minor": 0
      },
      "text/plain": [
       "  0%|          | 0/15 [00:00<?, ?it/s]"
      ]
     },
     "metadata": {},
     "output_type": "display_data"
    },
    {
     "data": {
      "application/vnd.jupyter.widget-view+json": {
       "model_id": "01ca5d28a690479d9fcd5c4875d641c6",
       "version_major": 2,
       "version_minor": 0
      },
      "text/plain": [
       "  0%|          | 0/15 [00:00<?, ?it/s]"
      ]
     },
     "metadata": {},
     "output_type": "display_data"
    },
    {
     "data": {
      "application/vnd.jupyter.widget-view+json": {
       "model_id": "281f099d3b144911bb3a832ed9ddfb7b",
       "version_major": 2,
       "version_minor": 0
      },
      "text/plain": [
       "  0%|          | 0/15 [00:00<?, ?it/s]"
      ]
     },
     "metadata": {},
     "output_type": "display_data"
    },
    {
     "data": {
      "application/vnd.jupyter.widget-view+json": {
       "model_id": "04d52d8968e8418497f69352ea1f7bfa",
       "version_major": 2,
       "version_minor": 0
      },
      "text/plain": [
       "  0%|          | 0/15 [00:00<?, ?it/s]"
      ]
     },
     "metadata": {},
     "output_type": "display_data"
    },
    {
     "data": {
      "application/vnd.jupyter.widget-view+json": {
       "model_id": "36df67ce2c624107a3e8ab3ab13ea98f",
       "version_major": 2,
       "version_minor": 0
      },
      "text/plain": [
       "  0%|          | 0/15 [00:00<?, ?it/s]"
      ]
     },
     "metadata": {},
     "output_type": "display_data"
    },
    {
     "data": {
      "application/vnd.jupyter.widget-view+json": {
       "model_id": "5ada2133629f4a278d56a6de9cb75fd1",
       "version_major": 2,
       "version_minor": 0
      },
      "text/plain": [
       "  0%|          | 0/15 [00:00<?, ?it/s]"
      ]
     },
     "metadata": {},
     "output_type": "display_data"
    },
    {
     "data": {
      "application/vnd.jupyter.widget-view+json": {
       "model_id": "c7c9b31d0b724ac4bfaac6ee9584f80d",
       "version_major": 2,
       "version_minor": 0
      },
      "text/plain": [
       "  0%|          | 0/15 [00:00<?, ?it/s]"
      ]
     },
     "metadata": {},
     "output_type": "display_data"
    },
    {
     "data": {
      "application/vnd.jupyter.widget-view+json": {
       "model_id": "539f694791dd4592825f0b1d7be631b9",
       "version_major": 2,
       "version_minor": 0
      },
      "text/plain": [
       "  0%|          | 0/15 [00:00<?, ?it/s]"
      ]
     },
     "metadata": {},
     "output_type": "display_data"
    },
    {
     "data": {
      "application/vnd.jupyter.widget-view+json": {
       "model_id": "6df270289e294f6faa38869a687a1c27",
       "version_major": 2,
       "version_minor": 0
      },
      "text/plain": [
       "  0%|          | 0/15 [00:00<?, ?it/s]"
      ]
     },
     "metadata": {},
     "output_type": "display_data"
    },
    {
     "data": {
      "application/vnd.jupyter.widget-view+json": {
       "model_id": "80148ece78664d53b13a10c55009a835",
       "version_major": 2,
       "version_minor": 0
      },
      "text/plain": [
       "  0%|          | 0/15 [00:00<?, ?it/s]"
      ]
     },
     "metadata": {},
     "output_type": "display_data"
    },
    {
     "data": {
      "application/vnd.jupyter.widget-view+json": {
       "model_id": "a1682d46519b453cabe45315eebdd77d",
       "version_major": 2,
       "version_minor": 0
      },
      "text/plain": [
       "  0%|          | 0/15 [00:00<?, ?it/s]"
      ]
     },
     "metadata": {},
     "output_type": "display_data"
    },
    {
     "data": {
      "application/vnd.jupyter.widget-view+json": {
       "model_id": "468ae1e11dd347048156726b44f8ffa0",
       "version_major": 2,
       "version_minor": 0
      },
      "text/plain": [
       "  0%|          | 0/15 [00:00<?, ?it/s]"
      ]
     },
     "metadata": {},
     "output_type": "display_data"
    },
    {
     "data": {
      "application/vnd.jupyter.widget-view+json": {
       "model_id": "4c671c0554b64e5492ef2c6d9906d897",
       "version_major": 2,
       "version_minor": 0
      },
      "text/plain": [
       "  0%|          | 0/15 [00:00<?, ?it/s]"
      ]
     },
     "metadata": {},
     "output_type": "display_data"
    },
    {
     "data": {
      "application/vnd.jupyter.widget-view+json": {
       "model_id": "cb669adee37841efb14f4b6a5555733c",
       "version_major": 2,
       "version_minor": 0
      },
      "text/plain": [
       "  0%|          | 0/15 [00:00<?, ?it/s]"
      ]
     },
     "metadata": {},
     "output_type": "display_data"
    },
    {
     "data": {
      "application/vnd.jupyter.widget-view+json": {
       "model_id": "cc95782e1fa046ea8d351545328a280b",
       "version_major": 2,
       "version_minor": 0
      },
      "text/plain": [
       "  0%|          | 0/15 [00:00<?, ?it/s]"
      ]
     },
     "metadata": {},
     "output_type": "display_data"
    },
    {
     "data": {
      "application/vnd.jupyter.widget-view+json": {
       "model_id": "37dd0018a1294e6ab2339878d1bd3d6d",
       "version_major": 2,
       "version_minor": 0
      },
      "text/plain": [
       "  0%|          | 0/15 [00:00<?, ?it/s]"
      ]
     },
     "metadata": {},
     "output_type": "display_data"
    },
    {
     "data": {
      "application/vnd.jupyter.widget-view+json": {
       "model_id": "5a48f02d882346b984266db07fd93ff1",
       "version_major": 2,
       "version_minor": 0
      },
      "text/plain": [
       "  0%|          | 0/15 [00:00<?, ?it/s]"
      ]
     },
     "metadata": {},
     "output_type": "display_data"
    },
    {
     "name": "stdout",
     "output_type": "stream",
     "text": [
      "new_best_mrr: 0.17391175680251078\n"
     ]
    },
    {
     "data": {
      "application/vnd.jupyter.widget-view+json": {
       "model_id": "ff26512824d74c029fbad0fc279ac8ce",
       "version_major": 2,
       "version_minor": 0
      },
      "text/plain": [
       "  0%|          | 0/15 [00:00<?, ?it/s]"
      ]
     },
     "metadata": {},
     "output_type": "display_data"
    },
    {
     "data": {
      "application/vnd.jupyter.widget-view+json": {
       "model_id": "8251dc1b43eb4cf9af280e3ba254699c",
       "version_major": 2,
       "version_minor": 0
      },
      "text/plain": [
       "  0%|          | 0/15 [00:00<?, ?it/s]"
      ]
     },
     "metadata": {},
     "output_type": "display_data"
    },
    {
     "data": {
      "application/vnd.jupyter.widget-view+json": {
       "model_id": "61e86d413661499a954c736ad10f2b80",
       "version_major": 2,
       "version_minor": 0
      },
      "text/plain": [
       "  0%|          | 0/15 [00:00<?, ?it/s]"
      ]
     },
     "metadata": {},
     "output_type": "display_data"
    },
    {
     "data": {
      "application/vnd.jupyter.widget-view+json": {
       "model_id": "8dea38d9b9ed4f3683be893ea081ad59",
       "version_major": 2,
       "version_minor": 0
      },
      "text/plain": [
       "  0%|          | 0/15 [00:00<?, ?it/s]"
      ]
     },
     "metadata": {},
     "output_type": "display_data"
    },
    {
     "data": {
      "application/vnd.jupyter.widget-view+json": {
       "model_id": "c986d051c9334f93b06c87a7a065ecde",
       "version_major": 2,
       "version_minor": 0
      },
      "text/plain": [
       "  0%|          | 0/15 [00:00<?, ?it/s]"
      ]
     },
     "metadata": {},
     "output_type": "display_data"
    },
    {
     "data": {
      "application/vnd.jupyter.widget-view+json": {
       "model_id": "809baa885e0f4a8bb973684310854efd",
       "version_major": 2,
       "version_minor": 0
      },
      "text/plain": [
       "  0%|          | 0/15 [00:00<?, ?it/s]"
      ]
     },
     "metadata": {},
     "output_type": "display_data"
    },
    {
     "name": "stdout",
     "output_type": "stream",
     "text": [
      "new_best_mrr: 0.17737744207788197\n"
     ]
    },
    {
     "data": {
      "application/vnd.jupyter.widget-view+json": {
       "model_id": "33add53af1514382b582bdde8b7016fb",
       "version_major": 2,
       "version_minor": 0
      },
      "text/plain": [
       "  0%|          | 0/15 [00:00<?, ?it/s]"
      ]
     },
     "metadata": {},
     "output_type": "display_data"
    },
    {
     "data": {
      "application/vnd.jupyter.widget-view+json": {
       "model_id": "6160b373accb4888a3bb44a1c888d7fa",
       "version_major": 2,
       "version_minor": 0
      },
      "text/plain": [
       "  0%|          | 0/15 [00:00<?, ?it/s]"
      ]
     },
     "metadata": {},
     "output_type": "display_data"
    },
    {
     "data": {
      "application/vnd.jupyter.widget-view+json": {
       "model_id": "5bd50fe5c85d43f6a7f7e6814bb8484c",
       "version_major": 2,
       "version_minor": 0
      },
      "text/plain": [
       "  0%|          | 0/15 [00:00<?, ?it/s]"
      ]
     },
     "metadata": {},
     "output_type": "display_data"
    },
    {
     "data": {
      "application/vnd.jupyter.widget-view+json": {
       "model_id": "bf8ab737e1244ad3beb25fe1d7e987ba",
       "version_major": 2,
       "version_minor": 0
      },
      "text/plain": [
       "  0%|          | 0/15 [00:00<?, ?it/s]"
      ]
     },
     "metadata": {},
     "output_type": "display_data"
    },
    {
     "data": {
      "application/vnd.jupyter.widget-view+json": {
       "model_id": "75402fa8a10d48e9aa9ee607787dc66b",
       "version_major": 2,
       "version_minor": 0
      },
      "text/plain": [
       "  0%|          | 0/15 [00:00<?, ?it/s]"
      ]
     },
     "metadata": {},
     "output_type": "display_data"
    },
    {
     "data": {
      "application/vnd.jupyter.widget-view+json": {
       "model_id": "82bfe268afed4cbd93afcaa7f91effca",
       "version_major": 2,
       "version_minor": 0
      },
      "text/plain": [
       "  0%|          | 0/15 [00:00<?, ?it/s]"
      ]
     },
     "metadata": {},
     "output_type": "display_data"
    },
    {
     "name": "stdout",
     "output_type": "stream",
     "text": [
      "new_best_mrr: 0.1782458400251086\n"
     ]
    },
    {
     "data": {
      "application/vnd.jupyter.widget-view+json": {
       "model_id": "5596079c17e2414d930db637536440cf",
       "version_major": 2,
       "version_minor": 0
      },
      "text/plain": [
       "  0%|          | 0/15 [00:00<?, ?it/s]"
      ]
     },
     "metadata": {},
     "output_type": "display_data"
    },
    {
     "data": {
      "application/vnd.jupyter.widget-view+json": {
       "model_id": "e4fe94a32db4434c93c77e7dc0db592c",
       "version_major": 2,
       "version_minor": 0
      },
      "text/plain": [
       "  0%|          | 0/15 [00:00<?, ?it/s]"
      ]
     },
     "metadata": {},
     "output_type": "display_data"
    },
    {
     "data": {
      "application/vnd.jupyter.widget-view+json": {
       "model_id": "7f2458959a8d42b59309b84ff013b555",
       "version_major": 2,
       "version_minor": 0
      },
      "text/plain": [
       "  0%|          | 0/15 [00:00<?, ?it/s]"
      ]
     },
     "metadata": {},
     "output_type": "display_data"
    },
    {
     "name": "stdout",
     "output_type": "stream",
     "text": [
      "new_best_mrr: 0.1805963771541946\n"
     ]
    },
    {
     "data": {
      "application/vnd.jupyter.widget-view+json": {
       "model_id": "d20cac1a1b734c16801b1f51b1ce126e",
       "version_major": 2,
       "version_minor": 0
      },
      "text/plain": [
       "  0%|          | 0/15 [00:00<?, ?it/s]"
      ]
     },
     "metadata": {},
     "output_type": "display_data"
    },
    {
     "data": {
      "application/vnd.jupyter.widget-view+json": {
       "model_id": "98eb3856f940436a92029a65e5ea1ad8",
       "version_major": 2,
       "version_minor": 0
      },
      "text/plain": [
       "  0%|          | 0/15 [00:00<?, ?it/s]"
      ]
     },
     "metadata": {},
     "output_type": "display_data"
    },
    {
     "name": "stdout",
     "output_type": "stream",
     "text": [
      "new_best_mrr: 0.1820518850542374\n"
     ]
    },
    {
     "data": {
      "application/vnd.jupyter.widget-view+json": {
       "model_id": "80a53fa5b53b4fefa2a2c871b5267198",
       "version_major": 2,
       "version_minor": 0
      },
      "text/plain": [
       "  0%|          | 0/15 [00:00<?, ?it/s]"
      ]
     },
     "metadata": {},
     "output_type": "display_data"
    },
    {
     "name": "stdout",
     "output_type": "stream",
     "text": [
      "new_best_mrr: 0.1984763621130441\n"
     ]
    },
    {
     "data": {
      "application/vnd.jupyter.widget-view+json": {
       "model_id": "1cd4cc2e3ecc45cb85dfec13d9bf4c58",
       "version_major": 2,
       "version_minor": 0
      },
      "text/plain": [
       "  0%|          | 0/15 [00:00<?, ?it/s]"
      ]
     },
     "metadata": {},
     "output_type": "display_data"
    },
    {
     "data": {
      "application/vnd.jupyter.widget-view+json": {
       "model_id": "6042b6b9944f49418acb4370c62dd720",
       "version_major": 2,
       "version_minor": 0
      },
      "text/plain": [
       "  0%|          | 0/15 [00:00<?, ?it/s]"
      ]
     },
     "metadata": {},
     "output_type": "display_data"
    },
    {
     "data": {
      "application/vnd.jupyter.widget-view+json": {
       "model_id": "75e2efcd927c46e5904566d2325280dc",
       "version_major": 2,
       "version_minor": 0
      },
      "text/plain": [
       "  0%|          | 0/15 [00:00<?, ?it/s]"
      ]
     },
     "metadata": {},
     "output_type": "display_data"
    },
    {
     "data": {
      "application/vnd.jupyter.widget-view+json": {
       "model_id": "76245be52fe342e1aa4bd66465c66131",
       "version_major": 2,
       "version_minor": 0
      },
      "text/plain": [
       "  0%|          | 0/15 [00:00<?, ?it/s]"
      ]
     },
     "metadata": {},
     "output_type": "display_data"
    },
    {
     "data": {
      "application/vnd.jupyter.widget-view+json": {
       "model_id": "4c35bf6f866740c1a6da0921f2cf7c9c",
       "version_major": 2,
       "version_minor": 0
      },
      "text/plain": [
       "  0%|          | 0/15 [00:00<?, ?it/s]"
      ]
     },
     "metadata": {},
     "output_type": "display_data"
    },
    {
     "data": {
      "application/vnd.jupyter.widget-view+json": {
       "model_id": "1a0caba41c324a3e8e12187465f044d1",
       "version_major": 2,
       "version_minor": 0
      },
      "text/plain": [
       "  0%|          | 0/15 [00:00<?, ?it/s]"
      ]
     },
     "metadata": {},
     "output_type": "display_data"
    },
    {
     "data": {
      "application/vnd.jupyter.widget-view+json": {
       "model_id": "539c7d9c00aa436ca63f530c6ed9ef39",
       "version_major": 2,
       "version_minor": 0
      },
      "text/plain": [
       "  0%|          | 0/15 [00:00<?, ?it/s]"
      ]
     },
     "metadata": {},
     "output_type": "display_data"
    },
    {
     "name": "stdout",
     "output_type": "stream",
     "text": [
      "new_best_mrr: 0.20055665121076388\n"
     ]
    },
    {
     "data": {
      "application/vnd.jupyter.widget-view+json": {
       "model_id": "5c9b5495e8064c649d40335d24d102c9",
       "version_major": 2,
       "version_minor": 0
      },
      "text/plain": [
       "  0%|          | 0/15 [00:00<?, ?it/s]"
      ]
     },
     "metadata": {},
     "output_type": "display_data"
    },
    {
     "data": {
      "application/vnd.jupyter.widget-view+json": {
       "model_id": "50cf6132afb34dfca891e7f17143747c",
       "version_major": 2,
       "version_minor": 0
      },
      "text/plain": [
       "  0%|          | 0/15 [00:00<?, ?it/s]"
      ]
     },
     "metadata": {},
     "output_type": "display_data"
    },
    {
     "data": {
      "application/vnd.jupyter.widget-view+json": {
       "model_id": "2fbf2243c57240f889b758f04767f9ec",
       "version_major": 2,
       "version_minor": 0
      },
      "text/plain": [
       "  0%|          | 0/15 [00:00<?, ?it/s]"
      ]
     },
     "metadata": {},
     "output_type": "display_data"
    },
    {
     "data": {
      "application/vnd.jupyter.widget-view+json": {
       "model_id": "9fd594b087334c59be9806c0b3401dd3",
       "version_major": 2,
       "version_minor": 0
      },
      "text/plain": [
       "  0%|          | 0/15 [00:00<?, ?it/s]"
      ]
     },
     "metadata": {},
     "output_type": "display_data"
    },
    {
     "data": {
      "application/vnd.jupyter.widget-view+json": {
       "model_id": "6a766cb5f77c4849a1ee7afe27455750",
       "version_major": 2,
       "version_minor": 0
      },
      "text/plain": [
       "  0%|          | 0/15 [00:00<?, ?it/s]"
      ]
     },
     "metadata": {},
     "output_type": "display_data"
    },
    {
     "data": {
      "application/vnd.jupyter.widget-view+json": {
       "model_id": "631319b3fae645bdba8c9bfe1826ab9d",
       "version_major": 2,
       "version_minor": 0
      },
      "text/plain": [
       "  0%|          | 0/15 [00:00<?, ?it/s]"
      ]
     },
     "metadata": {},
     "output_type": "display_data"
    },
    {
     "name": "stdout",
     "output_type": "stream",
     "text": [
      "new_best_mrr: 0.20493925218948641\n"
     ]
    },
    {
     "data": {
      "application/vnd.jupyter.widget-view+json": {
       "model_id": "5f725192e0c24e1c845792706bd19de2",
       "version_major": 2,
       "version_minor": 0
      },
      "text/plain": [
       "  0%|          | 0/15 [00:00<?, ?it/s]"
      ]
     },
     "metadata": {},
     "output_type": "display_data"
    },
    {
     "data": {
      "application/vnd.jupyter.widget-view+json": {
       "model_id": "3c5adae63be04a9aa78dd7f1dd1a4cfd",
       "version_major": 2,
       "version_minor": 0
      },
      "text/plain": [
       "  0%|          | 0/15 [00:00<?, ?it/s]"
      ]
     },
     "metadata": {},
     "output_type": "display_data"
    },
    {
     "data": {
      "application/vnd.jupyter.widget-view+json": {
       "model_id": "90a233515e314aac920e93f7c378f70e",
       "version_major": 2,
       "version_minor": 0
      },
      "text/plain": [
       "  0%|          | 0/15 [00:00<?, ?it/s]"
      ]
     },
     "metadata": {},
     "output_type": "display_data"
    },
    {
     "data": {
      "application/vnd.jupyter.widget-view+json": {
       "model_id": "35dae2c27cbf413d819d118d834e00c0",
       "version_major": 2,
       "version_minor": 0
      },
      "text/plain": [
       "  0%|          | 0/15 [00:00<?, ?it/s]"
      ]
     },
     "metadata": {},
     "output_type": "display_data"
    },
    {
     "data": {
      "application/vnd.jupyter.widget-view+json": {
       "model_id": "0158d5b167094867a3a1b0b57cfd3b9a",
       "version_major": 2,
       "version_minor": 0
      },
      "text/plain": [
       "  0%|          | 0/15 [00:00<?, ?it/s]"
      ]
     },
     "metadata": {},
     "output_type": "display_data"
    },
    {
     "data": {
      "application/vnd.jupyter.widget-view+json": {
       "model_id": "388d6341340c4643b9df3b22393f6622",
       "version_major": 2,
       "version_minor": 0
      },
      "text/plain": [
       "  0%|          | 0/15 [00:00<?, ?it/s]"
      ]
     },
     "metadata": {},
     "output_type": "display_data"
    },
    {
     "data": {
      "application/vnd.jupyter.widget-view+json": {
       "model_id": "5ebfdccccdc54042aa41c09779098849",
       "version_major": 2,
       "version_minor": 0
      },
      "text/plain": [
       "  0%|          | 0/15 [00:00<?, ?it/s]"
      ]
     },
     "metadata": {},
     "output_type": "display_data"
    },
    {
     "data": {
      "application/vnd.jupyter.widget-view+json": {
       "model_id": "084f2e31fef747bb8801bdb1264df7f7",
       "version_major": 2,
       "version_minor": 0
      },
      "text/plain": [
       "  0%|          | 0/15 [00:00<?, ?it/s]"
      ]
     },
     "metadata": {},
     "output_type": "display_data"
    },
    {
     "data": {
      "application/vnd.jupyter.widget-view+json": {
       "model_id": "84751b2e44204824ac0a387b5ef5c209",
       "version_major": 2,
       "version_minor": 0
      },
      "text/plain": [
       "  0%|          | 0/15 [00:00<?, ?it/s]"
      ]
     },
     "metadata": {},
     "output_type": "display_data"
    },
    {
     "data": {
      "application/vnd.jupyter.widget-view+json": {
       "model_id": "83690f750c884cef87570762b98aab54",
       "version_major": 2,
       "version_minor": 0
      },
      "text/plain": [
       "  0%|          | 0/15 [00:00<?, ?it/s]"
      ]
     },
     "metadata": {},
     "output_type": "display_data"
    },
    {
     "data": {
      "application/vnd.jupyter.widget-view+json": {
       "model_id": "96a7d4dc693947c6a85dfb43b9719958",
       "version_major": 2,
       "version_minor": 0
      },
      "text/plain": [
       "  0%|          | 0/15 [00:00<?, ?it/s]"
      ]
     },
     "metadata": {},
     "output_type": "display_data"
    },
    {
     "data": {
      "application/vnd.jupyter.widget-view+json": {
       "model_id": "101a4874a9c84831a0f3b81bf5fe49fd",
       "version_major": 2,
       "version_minor": 0
      },
      "text/plain": [
       "  0%|          | 0/15 [00:00<?, ?it/s]"
      ]
     },
     "metadata": {},
     "output_type": "display_data"
    },
    {
     "data": {
      "application/vnd.jupyter.widget-view+json": {
       "model_id": "2315d0ea13a446aeb94ddc1349073f79",
       "version_major": 2,
       "version_minor": 0
      },
      "text/plain": [
       "  0%|          | 0/15 [00:00<?, ?it/s]"
      ]
     },
     "metadata": {},
     "output_type": "display_data"
    },
    {
     "data": {
      "application/vnd.jupyter.widget-view+json": {
       "model_id": "ffb04c50fd05421c81b04e26852949c0",
       "version_major": 2,
       "version_minor": 0
      },
      "text/plain": [
       "  0%|          | 0/15 [00:00<?, ?it/s]"
      ]
     },
     "metadata": {},
     "output_type": "display_data"
    },
    {
     "data": {
      "application/vnd.jupyter.widget-view+json": {
       "model_id": "dd77c7cafe1f4c78b52debc8abf0ef7f",
       "version_major": 2,
       "version_minor": 0
      },
      "text/plain": [
       "  0%|          | 0/15 [00:00<?, ?it/s]"
      ]
     },
     "metadata": {},
     "output_type": "display_data"
    },
    {
     "data": {
      "application/vnd.jupyter.widget-view+json": {
       "model_id": "683fb55a1a764379ae13bc31a68dfe94",
       "version_major": 2,
       "version_minor": 0
      },
      "text/plain": [
       "  0%|          | 0/15 [00:00<?, ?it/s]"
      ]
     },
     "metadata": {},
     "output_type": "display_data"
    },
    {
     "data": {
      "application/vnd.jupyter.widget-view+json": {
       "model_id": "115804c4ceda4237a2b13789d477a70b",
       "version_major": 2,
       "version_minor": 0
      },
      "text/plain": [
       "  0%|          | 0/15 [00:00<?, ?it/s]"
      ]
     },
     "metadata": {},
     "output_type": "display_data"
    },
    {
     "data": {
      "application/vnd.jupyter.widget-view+json": {
       "model_id": "b6621f73f6ca4b6086ad3d44806d4275",
       "version_major": 2,
       "version_minor": 0
      },
      "text/plain": [
       "  0%|          | 0/15 [00:00<?, ?it/s]"
      ]
     },
     "metadata": {},
     "output_type": "display_data"
    },
    {
     "data": {
      "application/vnd.jupyter.widget-view+json": {
       "model_id": "b14e0b5754564b22a85d3c43abfb6805",
       "version_major": 2,
       "version_minor": 0
      },
      "text/plain": [
       "  0%|          | 0/15 [00:00<?, ?it/s]"
      ]
     },
     "metadata": {},
     "output_type": "display_data"
    },
    {
     "data": {
      "application/vnd.jupyter.widget-view+json": {
       "model_id": "d0b1f016e09848af8ffc2a5ae91cf7b8",
       "version_major": 2,
       "version_minor": 0
      },
      "text/plain": [
       "  0%|          | 0/15 [00:00<?, ?it/s]"
      ]
     },
     "metadata": {},
     "output_type": "display_data"
    },
    {
     "data": {
      "application/vnd.jupyter.widget-view+json": {
       "model_id": "abc3c481ca294064a3746a90895d8af8",
       "version_major": 2,
       "version_minor": 0
      },
      "text/plain": [
       "  0%|          | 0/15 [00:00<?, ?it/s]"
      ]
     },
     "metadata": {},
     "output_type": "display_data"
    },
    {
     "data": {
      "application/vnd.jupyter.widget-view+json": {
       "model_id": "ccd722086f924d6899acacc70d9549a0",
       "version_major": 2,
       "version_minor": 0
      },
      "text/plain": [
       "  0%|          | 0/15 [00:00<?, ?it/s]"
      ]
     },
     "metadata": {},
     "output_type": "display_data"
    },
    {
     "data": {
      "application/vnd.jupyter.widget-view+json": {
       "model_id": "eae08279962943de998b416ec7cfcd5f",
       "version_major": 2,
       "version_minor": 0
      },
      "text/plain": [
       "  0%|          | 0/15 [00:00<?, ?it/s]"
      ]
     },
     "metadata": {},
     "output_type": "display_data"
    },
    {
     "data": {
      "application/vnd.jupyter.widget-view+json": {
       "model_id": "b6573b9b21f8459495407526496c25f2",
       "version_major": 2,
       "version_minor": 0
      },
      "text/plain": [
       "  0%|          | 0/15 [00:00<?, ?it/s]"
      ]
     },
     "metadata": {},
     "output_type": "display_data"
    },
    {
     "data": {
      "application/vnd.jupyter.widget-view+json": {
       "model_id": "fa9b956b07d04720864ebcd2eb1831d8",
       "version_major": 2,
       "version_minor": 0
      },
      "text/plain": [
       "  0%|          | 0/15 [00:00<?, ?it/s]"
      ]
     },
     "metadata": {},
     "output_type": "display_data"
    },
    {
     "data": {
      "application/vnd.jupyter.widget-view+json": {
       "model_id": "a55883e475b747f8a0f9ee87b3c643c2",
       "version_major": 2,
       "version_minor": 0
      },
      "text/plain": [
       "  0%|          | 0/15 [00:00<?, ?it/s]"
      ]
     },
     "metadata": {},
     "output_type": "display_data"
    },
    {
     "data": {
      "application/vnd.jupyter.widget-view+json": {
       "model_id": "c7ece308ce9840399947cb7a1ef11403",
       "version_major": 2,
       "version_minor": 0
      },
      "text/plain": [
       "  0%|          | 0/15 [00:00<?, ?it/s]"
      ]
     },
     "metadata": {},
     "output_type": "display_data"
    },
    {
     "data": {
      "application/vnd.jupyter.widget-view+json": {
       "model_id": "cce8a631a99045a79a33ec5f1abe8868",
       "version_major": 2,
       "version_minor": 0
      },
      "text/plain": [
       "  0%|          | 0/15 [00:00<?, ?it/s]"
      ]
     },
     "metadata": {},
     "output_type": "display_data"
    },
    {
     "data": {
      "application/vnd.jupyter.widget-view+json": {
       "model_id": "c8f96cff4f5a4a6690955ba23edb1f14",
       "version_major": 2,
       "version_minor": 0
      },
      "text/plain": [
       "  0%|          | 0/15 [00:00<?, ?it/s]"
      ]
     },
     "metadata": {},
     "output_type": "display_data"
    },
    {
     "data": {
      "application/vnd.jupyter.widget-view+json": {
       "model_id": "ba02fb498ebf4a73a3f4f04940d5bac0",
       "version_major": 2,
       "version_minor": 0
      },
      "text/plain": [
       "  0%|          | 0/15 [00:00<?, ?it/s]"
      ]
     },
     "metadata": {},
     "output_type": "display_data"
    },
    {
     "data": {
      "application/vnd.jupyter.widget-view+json": {
       "model_id": "631ac7fb7c7a44099b9c5fa04416f346",
       "version_major": 2,
       "version_minor": 0
      },
      "text/plain": [
       "  0%|          | 0/15 [00:00<?, ?it/s]"
      ]
     },
     "metadata": {},
     "output_type": "display_data"
    },
    {
     "data": {
      "application/vnd.jupyter.widget-view+json": {
       "model_id": "f3061bb93df447f490ebe24ca41b80d1",
       "version_major": 2,
       "version_minor": 0
      },
      "text/plain": [
       "  0%|          | 0/15 [00:00<?, ?it/s]"
      ]
     },
     "metadata": {},
     "output_type": "display_data"
    },
    {
     "data": {
      "application/vnd.jupyter.widget-view+json": {
       "model_id": "bb398c95de864180a1c750a54bcaebd7",
       "version_major": 2,
       "version_minor": 0
      },
      "text/plain": [
       "  0%|          | 0/15 [00:00<?, ?it/s]"
      ]
     },
     "metadata": {},
     "output_type": "display_data"
    },
    {
     "data": {
      "application/vnd.jupyter.widget-view+json": {
       "model_id": "da778e182c9b459c9f54347cbf317cb7",
       "version_major": 2,
       "version_minor": 0
      },
      "text/plain": [
       "  0%|          | 0/15 [00:00<?, ?it/s]"
      ]
     },
     "metadata": {},
     "output_type": "display_data"
    },
    {
     "data": {
      "application/vnd.jupyter.widget-view+json": {
       "model_id": "2d1aa1ecb3e24b30981a7580b25febd6",
       "version_major": 2,
       "version_minor": 0
      },
      "text/plain": [
       "  0%|          | 0/15 [00:00<?, ?it/s]"
      ]
     },
     "metadata": {},
     "output_type": "display_data"
    },
    {
     "data": {
      "application/vnd.jupyter.widget-view+json": {
       "model_id": "2649c1056d3940fea08a15a4c8d318f6",
       "version_major": 2,
       "version_minor": 0
      },
      "text/plain": [
       "  0%|          | 0/15 [00:00<?, ?it/s]"
      ]
     },
     "metadata": {},
     "output_type": "display_data"
    },
    {
     "data": {
      "application/vnd.jupyter.widget-view+json": {
       "model_id": "162d5bc6dd1f44e4a7561f09e850763e",
       "version_major": 2,
       "version_minor": 0
      },
      "text/plain": [
       "  0%|          | 0/15 [00:00<?, ?it/s]"
      ]
     },
     "metadata": {},
     "output_type": "display_data"
    },
    {
     "data": {
      "application/vnd.jupyter.widget-view+json": {
       "model_id": "0b808ce981124d468383191f7c076642",
       "version_major": 2,
       "version_minor": 0
      },
      "text/plain": [
       "  0%|          | 0/15 [00:00<?, ?it/s]"
      ]
     },
     "metadata": {},
     "output_type": "display_data"
    },
    {
     "data": {
      "application/vnd.jupyter.widget-view+json": {
       "model_id": "7e39e2e868d9446db4e3b6ceb8121126",
       "version_major": 2,
       "version_minor": 0
      },
      "text/plain": [
       "  0%|          | 0/15 [00:00<?, ?it/s]"
      ]
     },
     "metadata": {},
     "output_type": "display_data"
    },
    {
     "data": {
      "application/vnd.jupyter.widget-view+json": {
       "model_id": "b13676439d764a9fa34bf32268002642",
       "version_major": 2,
       "version_minor": 0
      },
      "text/plain": [
       "  0%|          | 0/15 [00:00<?, ?it/s]"
      ]
     },
     "metadata": {},
     "output_type": "display_data"
    },
    {
     "data": {
      "application/vnd.jupyter.widget-view+json": {
       "model_id": "3c2a1650af2643209c1fbbe4480435d4",
       "version_major": 2,
       "version_minor": 0
      },
      "text/plain": [
       "  0%|          | 0/15 [00:00<?, ?it/s]"
      ]
     },
     "metadata": {},
     "output_type": "display_data"
    },
    {
     "data": {
      "application/vnd.jupyter.widget-view+json": {
       "model_id": "2551d935048e4ecda5c83de6f4e77af3",
       "version_major": 2,
       "version_minor": 0
      },
      "text/plain": [
       "  0%|          | 0/15 [00:00<?, ?it/s]"
      ]
     },
     "metadata": {},
     "output_type": "display_data"
    },
    {
     "data": {
      "application/vnd.jupyter.widget-view+json": {
       "model_id": "cca02dcc23664331b2b389c23a5c61d0",
       "version_major": 2,
       "version_minor": 0
      },
      "text/plain": [
       "  0%|          | 0/15 [00:00<?, ?it/s]"
      ]
     },
     "metadata": {},
     "output_type": "display_data"
    },
    {
     "data": {
      "application/vnd.jupyter.widget-view+json": {
       "model_id": "50433dab39d64906a3d1fdab575ce9d3",
       "version_major": 2,
       "version_minor": 0
      },
      "text/plain": [
       "  0%|          | 0/15 [00:00<?, ?it/s]"
      ]
     },
     "metadata": {},
     "output_type": "display_data"
    },
    {
     "data": {
      "application/vnd.jupyter.widget-view+json": {
       "model_id": "4da56ad8dc7c44f681b57abb9b383fcf",
       "version_major": 2,
       "version_minor": 0
      },
      "text/plain": [
       "  0%|          | 0/15 [00:00<?, ?it/s]"
      ]
     },
     "metadata": {},
     "output_type": "display_data"
    },
    {
     "data": {
      "application/vnd.jupyter.widget-view+json": {
       "model_id": "5b5cde69065e46f686d55ff7f3b5b828",
       "version_major": 2,
       "version_minor": 0
      },
      "text/plain": [
       "  0%|          | 0/15 [00:00<?, ?it/s]"
      ]
     },
     "metadata": {},
     "output_type": "display_data"
    },
    {
     "data": {
      "application/vnd.jupyter.widget-view+json": {
       "model_id": "553128f45c054ae19b580610d0d29d29",
       "version_major": 2,
       "version_minor": 0
      },
      "text/plain": [
       "  0%|          | 0/15 [00:00<?, ?it/s]"
      ]
     },
     "metadata": {},
     "output_type": "display_data"
    },
    {
     "data": {
      "application/vnd.jupyter.widget-view+json": {
       "model_id": "d04ad276f24b4a8c903d1187bfc2f047",
       "version_major": 2,
       "version_minor": 0
      },
      "text/plain": [
       "  0%|          | 0/15 [00:00<?, ?it/s]"
      ]
     },
     "metadata": {},
     "output_type": "display_data"
    },
    {
     "data": {
      "application/vnd.jupyter.widget-view+json": {
       "model_id": "b846704a3a9f4f97b7f8165869658746",
       "version_major": 2,
       "version_minor": 0
      },
      "text/plain": [
       "  0%|          | 0/15 [00:00<?, ?it/s]"
      ]
     },
     "metadata": {},
     "output_type": "display_data"
    },
    {
     "data": {
      "application/vnd.jupyter.widget-view+json": {
       "model_id": "5923b6289a6d4250bf47fd5897777b16",
       "version_major": 2,
       "version_minor": 0
      },
      "text/plain": [
       "  0%|          | 0/15 [00:00<?, ?it/s]"
      ]
     },
     "metadata": {},
     "output_type": "display_data"
    },
    {
     "data": {
      "application/vnd.jupyter.widget-view+json": {
       "model_id": "8dc5140c22804e8995ce258c3d1d1199",
       "version_major": 2,
       "version_minor": 0
      },
      "text/plain": [
       "  0%|          | 0/15 [00:00<?, ?it/s]"
      ]
     },
     "metadata": {},
     "output_type": "display_data"
    },
    {
     "data": {
      "application/vnd.jupyter.widget-view+json": {
       "model_id": "4a9438579bea40059372b1efdae5f129",
       "version_major": 2,
       "version_minor": 0
      },
      "text/plain": [
       "  0%|          | 0/15 [00:00<?, ?it/s]"
      ]
     },
     "metadata": {},
     "output_type": "display_data"
    },
    {
     "data": {
      "application/vnd.jupyter.widget-view+json": {
       "model_id": "5e2911f8083045c289e6945b6bdd3dea",
       "version_major": 2,
       "version_minor": 0
      },
      "text/plain": [
       "  0%|          | 0/15 [00:00<?, ?it/s]"
      ]
     },
     "metadata": {},
     "output_type": "display_data"
    },
    {
     "data": {
      "application/vnd.jupyter.widget-view+json": {
       "model_id": "2008825b0887469b9b217bdd30c5303d",
       "version_major": 2,
       "version_minor": 0
      },
      "text/plain": [
       "  0%|          | 0/15 [00:00<?, ?it/s]"
      ]
     },
     "metadata": {},
     "output_type": "display_data"
    },
    {
     "data": {
      "application/vnd.jupyter.widget-view+json": {
       "model_id": "bdfbe2ee3860417aa8604ae04fe0ff4a",
       "version_major": 2,
       "version_minor": 0
      },
      "text/plain": [
       "  0%|          | 0/15 [00:00<?, ?it/s]"
      ]
     },
     "metadata": {},
     "output_type": "display_data"
    },
    {
     "data": {
      "application/vnd.jupyter.widget-view+json": {
       "model_id": "1f4ac3c8473d452a98f4ff4e39a8859d",
       "version_major": 2,
       "version_minor": 0
      },
      "text/plain": [
       "  0%|          | 0/15 [00:00<?, ?it/s]"
      ]
     },
     "metadata": {},
     "output_type": "display_data"
    },
    {
     "data": {
      "application/vnd.jupyter.widget-view+json": {
       "model_id": "8078a6b15a914ed8b862f875a0a2cee9",
       "version_major": 2,
       "version_minor": 0
      },
      "text/plain": [
       "  0%|          | 0/15 [00:00<?, ?it/s]"
      ]
     },
     "metadata": {},
     "output_type": "display_data"
    },
    {
     "data": {
      "application/vnd.jupyter.widget-view+json": {
       "model_id": "993b3466e0b447f4a2e0c23f444dd081",
       "version_major": 2,
       "version_minor": 0
      },
      "text/plain": [
       "  0%|          | 0/15 [00:00<?, ?it/s]"
      ]
     },
     "metadata": {},
     "output_type": "display_data"
    },
    {
     "data": {
      "application/vnd.jupyter.widget-view+json": {
       "model_id": "48eb8ac1784b4c76b8a88a010a734808",
       "version_major": 2,
       "version_minor": 0
      },
      "text/plain": [
       "  0%|          | 0/15 [00:00<?, ?it/s]"
      ]
     },
     "metadata": {},
     "output_type": "display_data"
    },
    {
     "data": {
      "application/vnd.jupyter.widget-view+json": {
       "model_id": "d5364910bf464c3cb7e94e4f790bfc43",
       "version_major": 2,
       "version_minor": 0
      },
      "text/plain": [
       "  0%|          | 0/15 [00:00<?, ?it/s]"
      ]
     },
     "metadata": {},
     "output_type": "display_data"
    },
    {
     "data": {
      "application/vnd.jupyter.widget-view+json": {
       "model_id": "7d93e8c446024ebf99a7cb2905062c24",
       "version_major": 2,
       "version_minor": 0
      },
      "text/plain": [
       "  0%|          | 0/15 [00:00<?, ?it/s]"
      ]
     },
     "metadata": {},
     "output_type": "display_data"
    },
    {
     "data": {
      "application/vnd.jupyter.widget-view+json": {
       "model_id": "5623a6dc04824cc1b837c9fea860bf68",
       "version_major": 2,
       "version_minor": 0
      },
      "text/plain": [
       "  0%|          | 0/15 [00:00<?, ?it/s]"
      ]
     },
     "metadata": {},
     "output_type": "display_data"
    },
    {
     "data": {
      "application/vnd.jupyter.widget-view+json": {
       "model_id": "6cb60539344e4b6e9431090ae964d735",
       "version_major": 2,
       "version_minor": 0
      },
      "text/plain": [
       "  0%|          | 0/15 [00:00<?, ?it/s]"
      ]
     },
     "metadata": {},
     "output_type": "display_data"
    },
    {
     "data": {
      "application/vnd.jupyter.widget-view+json": {
       "model_id": "0b55ef4392bf42ff98b1d2b13ba1939b",
       "version_major": 2,
       "version_minor": 0
      },
      "text/plain": [
       "  0%|          | 0/15 [00:00<?, ?it/s]"
      ]
     },
     "metadata": {},
     "output_type": "display_data"
    },
    {
     "data": {
      "application/vnd.jupyter.widget-view+json": {
       "model_id": "a7045300f01c43fd868234fdbd307054",
       "version_major": 2,
       "version_minor": 0
      },
      "text/plain": [
       "  0%|          | 0/15 [00:00<?, ?it/s]"
      ]
     },
     "metadata": {},
     "output_type": "display_data"
    },
    {
     "data": {
      "application/vnd.jupyter.widget-view+json": {
       "model_id": "95e792355a3d4d2f9b37ce2388d04301",
       "version_major": 2,
       "version_minor": 0
      },
      "text/plain": [
       "  0%|          | 0/15 [00:00<?, ?it/s]"
      ]
     },
     "metadata": {},
     "output_type": "display_data"
    },
    {
     "data": {
      "application/vnd.jupyter.widget-view+json": {
       "model_id": "8b4fa7dfed6d45409f0880c4037abf20",
       "version_major": 2,
       "version_minor": 0
      },
      "text/plain": [
       "  0%|          | 0/15 [00:00<?, ?it/s]"
      ]
     },
     "metadata": {},
     "output_type": "display_data"
    },
    {
     "data": {
      "application/vnd.jupyter.widget-view+json": {
       "model_id": "fc8a3a81d1c148b0995ef28a7e7081d1",
       "version_major": 2,
       "version_minor": 0
      },
      "text/plain": [
       "  0%|          | 0/15 [00:00<?, ?it/s]"
      ]
     },
     "metadata": {},
     "output_type": "display_data"
    },
    {
     "data": {
      "application/vnd.jupyter.widget-view+json": {
       "model_id": "6e1b3076924c4cddbc199f3cf8bf6452",
       "version_major": 2,
       "version_minor": 0
      },
      "text/plain": [
       "  0%|          | 0/15 [00:00<?, ?it/s]"
      ]
     },
     "metadata": {},
     "output_type": "display_data"
    },
    {
     "data": {
      "application/vnd.jupyter.widget-view+json": {
       "model_id": "6091623672534e878a7b2245b86cb534",
       "version_major": 2,
       "version_minor": 0
      },
      "text/plain": [
       "  0%|          | 0/15 [00:00<?, ?it/s]"
      ]
     },
     "metadata": {},
     "output_type": "display_data"
    },
    {
     "data": {
      "application/vnd.jupyter.widget-view+json": {
       "model_id": "452ad9cbebe44f9d91e77184dd04bd77",
       "version_major": 2,
       "version_minor": 0
      },
      "text/plain": [
       "  0%|          | 0/15 [00:00<?, ?it/s]"
      ]
     },
     "metadata": {},
     "output_type": "display_data"
    },
    {
     "data": {
      "application/vnd.jupyter.widget-view+json": {
       "model_id": "1c1fa54893a74d1bb6bc320a792b0de1",
       "version_major": 2,
       "version_minor": 0
      },
      "text/plain": [
       "  0%|          | 0/15 [00:00<?, ?it/s]"
      ]
     },
     "metadata": {},
     "output_type": "display_data"
    },
    {
     "data": {
      "application/vnd.jupyter.widget-view+json": {
       "model_id": "2e726c7e74124e878c16a52d1f5082f7",
       "version_major": 2,
       "version_minor": 0
      },
      "text/plain": [
       "  0%|          | 0/15 [00:00<?, ?it/s]"
      ]
     },
     "metadata": {},
     "output_type": "display_data"
    },
    {
     "data": {
      "application/vnd.jupyter.widget-view+json": {
       "model_id": "db3f21948bad45ffac8b04e8fbf3adca",
       "version_major": 2,
       "version_minor": 0
      },
      "text/plain": [
       "  0%|          | 0/15 [00:00<?, ?it/s]"
      ]
     },
     "metadata": {},
     "output_type": "display_data"
    },
    {
     "data": {
      "application/vnd.jupyter.widget-view+json": {
       "model_id": "b25790da8c6f46b6af9da54a5698dc0e",
       "version_major": 2,
       "version_minor": 0
      },
      "text/plain": [
       "  0%|          | 0/15 [00:00<?, ?it/s]"
      ]
     },
     "metadata": {},
     "output_type": "display_data"
    },
    {
     "data": {
      "application/vnd.jupyter.widget-view+json": {
       "model_id": "b5c8a8bfd1eb4cb584ab986bba49f092",
       "version_major": 2,
       "version_minor": 0
      },
      "text/plain": [
       "  0%|          | 0/15 [00:00<?, ?it/s]"
      ]
     },
     "metadata": {},
     "output_type": "display_data"
    },
    {
     "data": {
      "application/vnd.jupyter.widget-view+json": {
       "model_id": "ac169e30fae343b691b9acf2c968864e",
       "version_major": 2,
       "version_minor": 0
      },
      "text/plain": [
       "  0%|          | 0/15 [00:00<?, ?it/s]"
      ]
     },
     "metadata": {},
     "output_type": "display_data"
    },
    {
     "data": {
      "application/vnd.jupyter.widget-view+json": {
       "model_id": "5f216f1ca9674382a3aa6e8b367918fb",
       "version_major": 2,
       "version_minor": 0
      },
      "text/plain": [
       "  0%|          | 0/15 [00:00<?, ?it/s]"
      ]
     },
     "metadata": {},
     "output_type": "display_data"
    },
    {
     "data": {
      "application/vnd.jupyter.widget-view+json": {
       "model_id": "10079f8f8bc84ad08ba64f4064e71908",
       "version_major": 2,
       "version_minor": 0
      },
      "text/plain": [
       "  0%|          | 0/15 [00:00<?, ?it/s]"
      ]
     },
     "metadata": {},
     "output_type": "display_data"
    },
    {
     "data": {
      "application/vnd.jupyter.widget-view+json": {
       "model_id": "0941c88bf83d4a14b567edcbf9c20152",
       "version_major": 2,
       "version_minor": 0
      },
      "text/plain": [
       "  0%|          | 0/15 [00:00<?, ?it/s]"
      ]
     },
     "metadata": {},
     "output_type": "display_data"
    },
    {
     "data": {
      "application/vnd.jupyter.widget-view+json": {
       "model_id": "24b4850136d240d59178c41aa1f65e3b",
       "version_major": 2,
       "version_minor": 0
      },
      "text/plain": [
       "  0%|          | 0/15 [00:00<?, ?it/s]"
      ]
     },
     "metadata": {},
     "output_type": "display_data"
    },
    {
     "data": {
      "application/vnd.jupyter.widget-view+json": {
       "model_id": "e5187af69e1f4388b858c7133635feb9",
       "version_major": 2,
       "version_minor": 0
      },
      "text/plain": [
       "  0%|          | 0/15 [00:00<?, ?it/s]"
      ]
     },
     "metadata": {},
     "output_type": "display_data"
    },
    {
     "data": {
      "application/vnd.jupyter.widget-view+json": {
       "model_id": "e2657aded818468d9125fd9bc147fb03",
       "version_major": 2,
       "version_minor": 0
      },
      "text/plain": [
       "  0%|          | 0/15 [00:00<?, ?it/s]"
      ]
     },
     "metadata": {},
     "output_type": "display_data"
    },
    {
     "data": {
      "application/vnd.jupyter.widget-view+json": {
       "model_id": "b8c8963934d248818cbdc64f4fc69825",
       "version_major": 2,
       "version_minor": 0
      },
      "text/plain": [
       "  0%|          | 0/15 [00:00<?, ?it/s]"
      ]
     },
     "metadata": {},
     "output_type": "display_data"
    },
    {
     "data": {
      "application/vnd.jupyter.widget-view+json": {
       "model_id": "d7a0ea05656b46fa984fde63c453b9eb",
       "version_major": 2,
       "version_minor": 0
      },
      "text/plain": [
       "  0%|          | 0/15 [00:00<?, ?it/s]"
      ]
     },
     "metadata": {},
     "output_type": "display_data"
    },
    {
     "data": {
      "application/vnd.jupyter.widget-view+json": {
       "model_id": "7bd51acf6d8248d887d820595fd21468",
       "version_major": 2,
       "version_minor": 0
      },
      "text/plain": [
       "  0%|          | 0/15 [00:00<?, ?it/s]"
      ]
     },
     "metadata": {},
     "output_type": "display_data"
    },
    {
     "data": {
      "application/vnd.jupyter.widget-view+json": {
       "model_id": "4631054485114d1cb30e94c92face713",
       "version_major": 2,
       "version_minor": 0
      },
      "text/plain": [
       "  0%|          | 0/15 [00:00<?, ?it/s]"
      ]
     },
     "metadata": {},
     "output_type": "display_data"
    },
    {
     "data": {
      "application/vnd.jupyter.widget-view+json": {
       "model_id": "496a2408a32e422b9c6790857be03f14",
       "version_major": 2,
       "version_minor": 0
      },
      "text/plain": [
       "  0%|          | 0/15 [00:00<?, ?it/s]"
      ]
     },
     "metadata": {},
     "output_type": "display_data"
    },
    {
     "data": {
      "application/vnd.jupyter.widget-view+json": {
       "model_id": "0b486c72ff6c449b83f7898b3cb9650b",
       "version_major": 2,
       "version_minor": 0
      },
      "text/plain": [
       "  0%|          | 0/15 [00:00<?, ?it/s]"
      ]
     },
     "metadata": {},
     "output_type": "display_data"
    },
    {
     "data": {
      "application/vnd.jupyter.widget-view+json": {
       "model_id": "4253a29f902b46b1bc308d3dbfb0dd90",
       "version_major": 2,
       "version_minor": 0
      },
      "text/plain": [
       "  0%|          | 0/15 [00:00<?, ?it/s]"
      ]
     },
     "metadata": {},
     "output_type": "display_data"
    },
    {
     "data": {
      "application/vnd.jupyter.widget-view+json": {
       "model_id": "83296fd17e63421daa3069fdec72c1ed",
       "version_major": 2,
       "version_minor": 0
      },
      "text/plain": [
       "  0%|          | 0/15 [00:00<?, ?it/s]"
      ]
     },
     "metadata": {},
     "output_type": "display_data"
    },
    {
     "data": {
      "application/vnd.jupyter.widget-view+json": {
       "model_id": "b5564708258e48e3bc8d104a09d957fd",
       "version_major": 2,
       "version_minor": 0
      },
      "text/plain": [
       "  0%|          | 0/15 [00:00<?, ?it/s]"
      ]
     },
     "metadata": {},
     "output_type": "display_data"
    },
    {
     "data": {
      "application/vnd.jupyter.widget-view+json": {
       "model_id": "eaaf7674d60140c4811ac60889631b2c",
       "version_major": 2,
       "version_minor": 0
      },
      "text/plain": [
       "  0%|          | 0/15 [00:00<?, ?it/s]"
      ]
     },
     "metadata": {},
     "output_type": "display_data"
    },
    {
     "data": {
      "application/vnd.jupyter.widget-view+json": {
       "model_id": "940d78b71aa04cf68abb92aa773873cb",
       "version_major": 2,
       "version_minor": 0
      },
      "text/plain": [
       "  0%|          | 0/15 [00:00<?, ?it/s]"
      ]
     },
     "metadata": {},
     "output_type": "display_data"
    },
    {
     "data": {
      "application/vnd.jupyter.widget-view+json": {
       "model_id": "69598e7b3e684b55b001a0a18e13acb0",
       "version_major": 2,
       "version_minor": 0
      },
      "text/plain": [
       "  0%|          | 0/15 [00:00<?, ?it/s]"
      ]
     },
     "metadata": {},
     "output_type": "display_data"
    },
    {
     "name": "stdout",
     "output_type": "stream",
     "text": [
      "new_best_mrr: 0.21272674884283116\n"
     ]
    },
    {
     "data": {
      "application/vnd.jupyter.widget-view+json": {
       "model_id": "2503751d766b4091ad566b98c1bf7240",
       "version_major": 2,
       "version_minor": 0
      },
      "text/plain": [
       "  0%|          | 0/15 [00:00<?, ?it/s]"
      ]
     },
     "metadata": {},
     "output_type": "display_data"
    },
    {
     "data": {
      "application/vnd.jupyter.widget-view+json": {
       "model_id": "e3eba4c63ced4091be93702c257f5523",
       "version_major": 2,
       "version_minor": 0
      },
      "text/plain": [
       "  0%|          | 0/15 [00:00<?, ?it/s]"
      ]
     },
     "metadata": {},
     "output_type": "display_data"
    },
    {
     "data": {
      "application/vnd.jupyter.widget-view+json": {
       "model_id": "79323b0891db4337a98f2426a57da0b3",
       "version_major": 2,
       "version_minor": 0
      },
      "text/plain": [
       "  0%|          | 0/15 [00:00<?, ?it/s]"
      ]
     },
     "metadata": {},
     "output_type": "display_data"
    },
    {
     "data": {
      "application/vnd.jupyter.widget-view+json": {
       "model_id": "f2e2ff150f8d4199a8fb55b34ca71c98",
       "version_major": 2,
       "version_minor": 0
      },
      "text/plain": [
       "  0%|          | 0/15 [00:00<?, ?it/s]"
      ]
     },
     "metadata": {},
     "output_type": "display_data"
    },
    {
     "data": {
      "application/vnd.jupyter.widget-view+json": {
       "model_id": "acc7cae4d3b84a2fbe0e4dbfb17d8d5e",
       "version_major": 2,
       "version_minor": 0
      },
      "text/plain": [
       "  0%|          | 0/15 [00:00<?, ?it/s]"
      ]
     },
     "metadata": {},
     "output_type": "display_data"
    },
    {
     "data": {
      "application/vnd.jupyter.widget-view+json": {
       "model_id": "07224dbf8d98442a8c7c63aa8cc31adc",
       "version_major": 2,
       "version_minor": 0
      },
      "text/plain": [
       "  0%|          | 0/15 [00:00<?, ?it/s]"
      ]
     },
     "metadata": {},
     "output_type": "display_data"
    },
    {
     "data": {
      "application/vnd.jupyter.widget-view+json": {
       "model_id": "918a5f8267964d3cb13ced076aee1d95",
       "version_major": 2,
       "version_minor": 0
      },
      "text/plain": [
       "  0%|          | 0/15 [00:00<?, ?it/s]"
      ]
     },
     "metadata": {},
     "output_type": "display_data"
    },
    {
     "data": {
      "application/vnd.jupyter.widget-view+json": {
       "model_id": "505b7f23e6b34843ab5ceb0b8b3eb854",
       "version_major": 2,
       "version_minor": 0
      },
      "text/plain": [
       "  0%|          | 0/15 [00:00<?, ?it/s]"
      ]
     },
     "metadata": {},
     "output_type": "display_data"
    },
    {
     "data": {
      "application/vnd.jupyter.widget-view+json": {
       "model_id": "64674a32bf3c4f629a6924ca76fd298d",
       "version_major": 2,
       "version_minor": 0
      },
      "text/plain": [
       "  0%|          | 0/15 [00:00<?, ?it/s]"
      ]
     },
     "metadata": {},
     "output_type": "display_data"
    },
    {
     "data": {
      "application/vnd.jupyter.widget-view+json": {
       "model_id": "cf55766c52ca4c0da82fd51244909caf",
       "version_major": 2,
       "version_minor": 0
      },
      "text/plain": [
       "  0%|          | 0/15 [00:00<?, ?it/s]"
      ]
     },
     "metadata": {},
     "output_type": "display_data"
    },
    {
     "data": {
      "application/vnd.jupyter.widget-view+json": {
       "model_id": "7011aefa47344b12a6167641b54054cb",
       "version_major": 2,
       "version_minor": 0
      },
      "text/plain": [
       "  0%|          | 0/15 [00:00<?, ?it/s]"
      ]
     },
     "metadata": {},
     "output_type": "display_data"
    },
    {
     "data": {
      "application/vnd.jupyter.widget-view+json": {
       "model_id": "7889591acdd14672a3358b5d614f134f",
       "version_major": 2,
       "version_minor": 0
      },
      "text/plain": [
       "  0%|          | 0/15 [00:00<?, ?it/s]"
      ]
     },
     "metadata": {},
     "output_type": "display_data"
    },
    {
     "data": {
      "application/vnd.jupyter.widget-view+json": {
       "model_id": "a38c2caa56d24dd692f6876b88bd1596",
       "version_major": 2,
       "version_minor": 0
      },
      "text/plain": [
       "  0%|          | 0/15 [00:00<?, ?it/s]"
      ]
     },
     "metadata": {},
     "output_type": "display_data"
    },
    {
     "data": {
      "application/vnd.jupyter.widget-view+json": {
       "model_id": "4773b5971503405db1b0607a328f8bbc",
       "version_major": 2,
       "version_minor": 0
      },
      "text/plain": [
       "  0%|          | 0/15 [00:00<?, ?it/s]"
      ]
     },
     "metadata": {},
     "output_type": "display_data"
    },
    {
     "data": {
      "application/vnd.jupyter.widget-view+json": {
       "model_id": "1f6a1ea9390b42438805bc87c5919c7a",
       "version_major": 2,
       "version_minor": 0
      },
      "text/plain": [
       "  0%|          | 0/15 [00:00<?, ?it/s]"
      ]
     },
     "metadata": {},
     "output_type": "display_data"
    },
    {
     "data": {
      "application/vnd.jupyter.widget-view+json": {
       "model_id": "3a1b44d9717344c1b7624c534b0915a5",
       "version_major": 2,
       "version_minor": 0
      },
      "text/plain": [
       "  0%|          | 0/15 [00:00<?, ?it/s]"
      ]
     },
     "metadata": {},
     "output_type": "display_data"
    },
    {
     "data": {
      "application/vnd.jupyter.widget-view+json": {
       "model_id": "06b6530ac3a54cbb8c6c22051fdf57c4",
       "version_major": 2,
       "version_minor": 0
      },
      "text/plain": [
       "  0%|          | 0/15 [00:00<?, ?it/s]"
      ]
     },
     "metadata": {},
     "output_type": "display_data"
    },
    {
     "data": {
      "application/vnd.jupyter.widget-view+json": {
       "model_id": "cd3ea6cdb87047e399a290a6155f5329",
       "version_major": 2,
       "version_minor": 0
      },
      "text/plain": [
       "  0%|          | 0/15 [00:00<?, ?it/s]"
      ]
     },
     "metadata": {},
     "output_type": "display_data"
    },
    {
     "data": {
      "application/vnd.jupyter.widget-view+json": {
       "model_id": "c2256175bb4c4b23b4095ec23c83d3df",
       "version_major": 2,
       "version_minor": 0
      },
      "text/plain": [
       "  0%|          | 0/15 [00:00<?, ?it/s]"
      ]
     },
     "metadata": {},
     "output_type": "display_data"
    },
    {
     "data": {
      "application/vnd.jupyter.widget-view+json": {
       "model_id": "b35022bf679f42afb9d6f7a685928bed",
       "version_major": 2,
       "version_minor": 0
      },
      "text/plain": [
       "  0%|          | 0/15 [00:00<?, ?it/s]"
      ]
     },
     "metadata": {},
     "output_type": "display_data"
    },
    {
     "data": {
      "application/vnd.jupyter.widget-view+json": {
       "model_id": "7bee2375b7dd457ebfb87b514f64eb0c",
       "version_major": 2,
       "version_minor": 0
      },
      "text/plain": [
       "  0%|          | 0/15 [00:00<?, ?it/s]"
      ]
     },
     "metadata": {},
     "output_type": "display_data"
    },
    {
     "data": {
      "application/vnd.jupyter.widget-view+json": {
       "model_id": "815fab86e9b940348ba6636e65fbb733",
       "version_major": 2,
       "version_minor": 0
      },
      "text/plain": [
       "  0%|          | 0/15 [00:00<?, ?it/s]"
      ]
     },
     "metadata": {},
     "output_type": "display_data"
    },
    {
     "data": {
      "application/vnd.jupyter.widget-view+json": {
       "model_id": "492b814770464786913a00bf51fe8b68",
       "version_major": 2,
       "version_minor": 0
      },
      "text/plain": [
       "  0%|          | 0/15 [00:00<?, ?it/s]"
      ]
     },
     "metadata": {},
     "output_type": "display_data"
    },
    {
     "data": {
      "application/vnd.jupyter.widget-view+json": {
       "model_id": "933960b09995417d97ba116c85c82dff",
       "version_major": 2,
       "version_minor": 0
      },
      "text/plain": [
       "  0%|          | 0/15 [00:00<?, ?it/s]"
      ]
     },
     "metadata": {},
     "output_type": "display_data"
    },
    {
     "data": {
      "application/vnd.jupyter.widget-view+json": {
       "model_id": "1ff0e17074c94909ae2cb6a2a1bac81e",
       "version_major": 2,
       "version_minor": 0
      },
      "text/plain": [
       "  0%|          | 0/15 [00:00<?, ?it/s]"
      ]
     },
     "metadata": {},
     "output_type": "display_data"
    },
    {
     "data": {
      "application/vnd.jupyter.widget-view+json": {
       "model_id": "da98c956ce254f039b373ec175b1210a",
       "version_major": 2,
       "version_minor": 0
      },
      "text/plain": [
       "  0%|          | 0/15 [00:00<?, ?it/s]"
      ]
     },
     "metadata": {},
     "output_type": "display_data"
    },
    {
     "data": {
      "application/vnd.jupyter.widget-view+json": {
       "model_id": "96f1ade0577b4a0bb2eafc9195163087",
       "version_major": 2,
       "version_minor": 0
      },
      "text/plain": [
       "  0%|          | 0/15 [00:00<?, ?it/s]"
      ]
     },
     "metadata": {},
     "output_type": "display_data"
    },
    {
     "data": {
      "application/vnd.jupyter.widget-view+json": {
       "model_id": "9c64821c69d6434e9d79b4970e05dc6b",
       "version_major": 2,
       "version_minor": 0
      },
      "text/plain": [
       "  0%|          | 0/15 [00:00<?, ?it/s]"
      ]
     },
     "metadata": {},
     "output_type": "display_data"
    },
    {
     "data": {
      "application/vnd.jupyter.widget-view+json": {
       "model_id": "d9e24bf649354a26b6d64438a0029180",
       "version_major": 2,
       "version_minor": 0
      },
      "text/plain": [
       "  0%|          | 0/15 [00:00<?, ?it/s]"
      ]
     },
     "metadata": {},
     "output_type": "display_data"
    },
    {
     "data": {
      "application/vnd.jupyter.widget-view+json": {
       "model_id": "8f824d61b36b48bd953ae834a2ca3330",
       "version_major": 2,
       "version_minor": 0
      },
      "text/plain": [
       "  0%|          | 0/15 [00:00<?, ?it/s]"
      ]
     },
     "metadata": {},
     "output_type": "display_data"
    },
    {
     "data": {
      "application/vnd.jupyter.widget-view+json": {
       "model_id": "eb18c5fc3fac40eebf0b84e2b070db83",
       "version_major": 2,
       "version_minor": 0
      },
      "text/plain": [
       "  0%|          | 0/15 [00:00<?, ?it/s]"
      ]
     },
     "metadata": {},
     "output_type": "display_data"
    },
    {
     "data": {
      "application/vnd.jupyter.widget-view+json": {
       "model_id": "791478b846cd4e499f1e49e3e73fabcf",
       "version_major": 2,
       "version_minor": 0
      },
      "text/plain": [
       "  0%|          | 0/15 [00:00<?, ?it/s]"
      ]
     },
     "metadata": {},
     "output_type": "display_data"
    },
    {
     "data": {
      "application/vnd.jupyter.widget-view+json": {
       "model_id": "f2ee70b93a114693b528373684ae5432",
       "version_major": 2,
       "version_minor": 0
      },
      "text/plain": [
       "  0%|          | 0/15 [00:00<?, ?it/s]"
      ]
     },
     "metadata": {},
     "output_type": "display_data"
    },
    {
     "data": {
      "application/vnd.jupyter.widget-view+json": {
       "model_id": "189c06657d7446c0bbffb0a90c971d74",
       "version_major": 2,
       "version_minor": 0
      },
      "text/plain": [
       "  0%|          | 0/15 [00:00<?, ?it/s]"
      ]
     },
     "metadata": {},
     "output_type": "display_data"
    },
    {
     "data": {
      "application/vnd.jupyter.widget-view+json": {
       "model_id": "6a0337f1b1b4415e86c75ad839f80921",
       "version_major": 2,
       "version_minor": 0
      },
      "text/plain": [
       "  0%|          | 0/15 [00:00<?, ?it/s]"
      ]
     },
     "metadata": {},
     "output_type": "display_data"
    },
    {
     "data": {
      "application/vnd.jupyter.widget-view+json": {
       "model_id": "82f3197b280b402f97e1d17eb0eeef37",
       "version_major": 2,
       "version_minor": 0
      },
      "text/plain": [
       "  0%|          | 0/15 [00:00<?, ?it/s]"
      ]
     },
     "metadata": {},
     "output_type": "display_data"
    },
    {
     "data": {
      "application/vnd.jupyter.widget-view+json": {
       "model_id": "27d261a6c9cd44eba1351f068c189968",
       "version_major": 2,
       "version_minor": 0
      },
      "text/plain": [
       "  0%|          | 0/15 [00:00<?, ?it/s]"
      ]
     },
     "metadata": {},
     "output_type": "display_data"
    },
    {
     "data": {
      "application/vnd.jupyter.widget-view+json": {
       "model_id": "c6608292c11847e7a9b968d98b185a0e",
       "version_major": 2,
       "version_minor": 0
      },
      "text/plain": [
       "  0%|          | 0/15 [00:00<?, ?it/s]"
      ]
     },
     "metadata": {},
     "output_type": "display_data"
    },
    {
     "data": {
      "application/vnd.jupyter.widget-view+json": {
       "model_id": "ab76a1a2266f414dbd69a3a8235ad3e8",
       "version_major": 2,
       "version_minor": 0
      },
      "text/plain": [
       "  0%|          | 0/15 [00:00<?, ?it/s]"
      ]
     },
     "metadata": {},
     "output_type": "display_data"
    },
    {
     "data": {
      "application/vnd.jupyter.widget-view+json": {
       "model_id": "cc78869720754d559faa40b88e8ca7f0",
       "version_major": 2,
       "version_minor": 0
      },
      "text/plain": [
       "  0%|          | 0/15 [00:00<?, ?it/s]"
      ]
     },
     "metadata": {},
     "output_type": "display_data"
    },
    {
     "data": {
      "application/vnd.jupyter.widget-view+json": {
       "model_id": "37a8bf7f274c46a2952cc4fff09150ce",
       "version_major": 2,
       "version_minor": 0
      },
      "text/plain": [
       "  0%|          | 0/15 [00:00<?, ?it/s]"
      ]
     },
     "metadata": {},
     "output_type": "display_data"
    },
    {
     "data": {
      "application/vnd.jupyter.widget-view+json": {
       "model_id": "75c4b01458e646758c7e75b13a074502",
       "version_major": 2,
       "version_minor": 0
      },
      "text/plain": [
       "  0%|          | 0/15 [00:00<?, ?it/s]"
      ]
     },
     "metadata": {},
     "output_type": "display_data"
    },
    {
     "data": {
      "application/vnd.jupyter.widget-view+json": {
       "model_id": "2956d5d265fd46108717f9da1db0430d",
       "version_major": 2,
       "version_minor": 0
      },
      "text/plain": [
       "  0%|          | 0/15 [00:00<?, ?it/s]"
      ]
     },
     "metadata": {},
     "output_type": "display_data"
    },
    {
     "data": {
      "application/vnd.jupyter.widget-view+json": {
       "model_id": "c8e1f6d7aa864bc79b859b7687da7054",
       "version_major": 2,
       "version_minor": 0
      },
      "text/plain": [
       "  0%|          | 0/15 [00:00<?, ?it/s]"
      ]
     },
     "metadata": {},
     "output_type": "display_data"
    },
    {
     "data": {
      "application/vnd.jupyter.widget-view+json": {
       "model_id": "2c328aed59be41efabd5927b37666141",
       "version_major": 2,
       "version_minor": 0
      },
      "text/plain": [
       "  0%|          | 0/15 [00:00<?, ?it/s]"
      ]
     },
     "metadata": {},
     "output_type": "display_data"
    },
    {
     "data": {
      "application/vnd.jupyter.widget-view+json": {
       "model_id": "f8d07c434e9f4bd2b8f9a326e4083011",
       "version_major": 2,
       "version_minor": 0
      },
      "text/plain": [
       "  0%|          | 0/15 [00:00<?, ?it/s]"
      ]
     },
     "metadata": {},
     "output_type": "display_data"
    },
    {
     "data": {
      "application/vnd.jupyter.widget-view+json": {
       "model_id": "73d62743f4e2471cb2be3aef96ea8a79",
       "version_major": 2,
       "version_minor": 0
      },
      "text/plain": [
       "  0%|          | 0/15 [00:00<?, ?it/s]"
      ]
     },
     "metadata": {},
     "output_type": "display_data"
    },
    {
     "data": {
      "application/vnd.jupyter.widget-view+json": {
       "model_id": "6dc4f73acae444d882561b5479a9895a",
       "version_major": 2,
       "version_minor": 0
      },
      "text/plain": [
       "  0%|          | 0/15 [00:00<?, ?it/s]"
      ]
     },
     "metadata": {},
     "output_type": "display_data"
    },
    {
     "data": {
      "application/vnd.jupyter.widget-view+json": {
       "model_id": "61394f07989b4da78dc017c699cee0e5",
       "version_major": 2,
       "version_minor": 0
      },
      "text/plain": [
       "  0%|          | 0/15 [00:00<?, ?it/s]"
      ]
     },
     "metadata": {},
     "output_type": "display_data"
    },
    {
     "data": {
      "application/vnd.jupyter.widget-view+json": {
       "model_id": "109fc453f26e44b09e4d185e34f23281",
       "version_major": 2,
       "version_minor": 0
      },
      "text/plain": [
       "  0%|          | 0/15 [00:00<?, ?it/s]"
      ]
     },
     "metadata": {},
     "output_type": "display_data"
    },
    {
     "data": {
      "application/vnd.jupyter.widget-view+json": {
       "model_id": "b5bb05e903474b8d8ff86fc3919620e4",
       "version_major": 2,
       "version_minor": 0
      },
      "text/plain": [
       "  0%|          | 0/15 [00:00<?, ?it/s]"
      ]
     },
     "metadata": {},
     "output_type": "display_data"
    },
    {
     "data": {
      "application/vnd.jupyter.widget-view+json": {
       "model_id": "bfdcf5d39ef34a4e91e344807d0ddee2",
       "version_major": 2,
       "version_minor": 0
      },
      "text/plain": [
       "  0%|          | 0/15 [00:00<?, ?it/s]"
      ]
     },
     "metadata": {},
     "output_type": "display_data"
    },
    {
     "data": {
      "application/vnd.jupyter.widget-view+json": {
       "model_id": "6b629e81bfc74dbd9a1762ed7e9e26eb",
       "version_major": 2,
       "version_minor": 0
      },
      "text/plain": [
       "  0%|          | 0/15 [00:00<?, ?it/s]"
      ]
     },
     "metadata": {},
     "output_type": "display_data"
    },
    {
     "data": {
      "application/vnd.jupyter.widget-view+json": {
       "model_id": "b72d9669effc47cb8606dcaae9f2f3ea",
       "version_major": 2,
       "version_minor": 0
      },
      "text/plain": [
       "  0%|          | 0/15 [00:00<?, ?it/s]"
      ]
     },
     "metadata": {},
     "output_type": "display_data"
    },
    {
     "data": {
      "application/vnd.jupyter.widget-view+json": {
       "model_id": "3b72cf20e90b414bb9bc6fa0bba26708",
       "version_major": 2,
       "version_minor": 0
      },
      "text/plain": [
       "  0%|          | 0/15 [00:00<?, ?it/s]"
      ]
     },
     "metadata": {},
     "output_type": "display_data"
    },
    {
     "data": {
      "application/vnd.jupyter.widget-view+json": {
       "model_id": "510c7428c7b54b829be9f9eb281158eb",
       "version_major": 2,
       "version_minor": 0
      },
      "text/plain": [
       "  0%|          | 0/15 [00:00<?, ?it/s]"
      ]
     },
     "metadata": {},
     "output_type": "display_data"
    },
    {
     "data": {
      "application/vnd.jupyter.widget-view+json": {
       "model_id": "871066aa176f400eaa5198c941248e71",
       "version_major": 2,
       "version_minor": 0
      },
      "text/plain": [
       "  0%|          | 0/15 [00:00<?, ?it/s]"
      ]
     },
     "metadata": {},
     "output_type": "display_data"
    },
    {
     "data": {
      "application/vnd.jupyter.widget-view+json": {
       "model_id": "97654b11100c416ba790b668d933f0ca",
       "version_major": 2,
       "version_minor": 0
      },
      "text/plain": [
       "  0%|          | 0/15 [00:00<?, ?it/s]"
      ]
     },
     "metadata": {},
     "output_type": "display_data"
    },
    {
     "data": {
      "application/vnd.jupyter.widget-view+json": {
       "model_id": "f3cbf0ba37ae46ca829103510d6d582a",
       "version_major": 2,
       "version_minor": 0
      },
      "text/plain": [
       "  0%|          | 0/15 [00:00<?, ?it/s]"
      ]
     },
     "metadata": {},
     "output_type": "display_data"
    },
    {
     "data": {
      "application/vnd.jupyter.widget-view+json": {
       "model_id": "ab8e84cc2fad435fbea198b66dbd41ab",
       "version_major": 2,
       "version_minor": 0
      },
      "text/plain": [
       "  0%|          | 0/15 [00:00<?, ?it/s]"
      ]
     },
     "metadata": {},
     "output_type": "display_data"
    },
    {
     "data": {
      "application/vnd.jupyter.widget-view+json": {
       "model_id": "9fe1fb4b94b54000bcdddd569c3c0d79",
       "version_major": 2,
       "version_minor": 0
      },
      "text/plain": [
       "  0%|          | 0/15 [00:00<?, ?it/s]"
      ]
     },
     "metadata": {},
     "output_type": "display_data"
    },
    {
     "data": {
      "application/vnd.jupyter.widget-view+json": {
       "model_id": "a81055f69a6648d793f36c8db0775a8e",
       "version_major": 2,
       "version_minor": 0
      },
      "text/plain": [
       "  0%|          | 0/15 [00:00<?, ?it/s]"
      ]
     },
     "metadata": {},
     "output_type": "display_data"
    },
    {
     "data": {
      "application/vnd.jupyter.widget-view+json": {
       "model_id": "54498efde30b4f0882db988d0973508d",
       "version_major": 2,
       "version_minor": 0
      },
      "text/plain": [
       "  0%|          | 0/15 [00:00<?, ?it/s]"
      ]
     },
     "metadata": {},
     "output_type": "display_data"
    },
    {
     "data": {
      "application/vnd.jupyter.widget-view+json": {
       "model_id": "53d2522bfd2a4138aecdeda9e728631f",
       "version_major": 2,
       "version_minor": 0
      },
      "text/plain": [
       "  0%|          | 0/15 [00:00<?, ?it/s]"
      ]
     },
     "metadata": {},
     "output_type": "display_data"
    },
    {
     "data": {
      "application/vnd.jupyter.widget-view+json": {
       "model_id": "2803820954f647eea0dd376980ddc9fa",
       "version_major": 2,
       "version_minor": 0
      },
      "text/plain": [
       "  0%|          | 0/15 [00:00<?, ?it/s]"
      ]
     },
     "metadata": {},
     "output_type": "display_data"
    },
    {
     "data": {
      "application/vnd.jupyter.widget-view+json": {
       "model_id": "9274b691ae294a95ace107c3b20cdeb3",
       "version_major": 2,
       "version_minor": 0
      },
      "text/plain": [
       "  0%|          | 0/15 [00:00<?, ?it/s]"
      ]
     },
     "metadata": {},
     "output_type": "display_data"
    },
    {
     "data": {
      "application/vnd.jupyter.widget-view+json": {
       "model_id": "25e94c50c7be4253af248f8c2bab42c9",
       "version_major": 2,
       "version_minor": 0
      },
      "text/plain": [
       "  0%|          | 0/15 [00:00<?, ?it/s]"
      ]
     },
     "metadata": {},
     "output_type": "display_data"
    },
    {
     "data": {
      "application/vnd.jupyter.widget-view+json": {
       "model_id": "986813727d464e9ca4f36002bf19f71d",
       "version_major": 2,
       "version_minor": 0
      },
      "text/plain": [
       "  0%|          | 0/15 [00:00<?, ?it/s]"
      ]
     },
     "metadata": {},
     "output_type": "display_data"
    },
    {
     "data": {
      "application/vnd.jupyter.widget-view+json": {
       "model_id": "0e4843ea40e34326a794afd0319c41f8",
       "version_major": 2,
       "version_minor": 0
      },
      "text/plain": [
       "  0%|          | 0/15 [00:00<?, ?it/s]"
      ]
     },
     "metadata": {},
     "output_type": "display_data"
    },
    {
     "data": {
      "application/vnd.jupyter.widget-view+json": {
       "model_id": "89b1ef245cf24265a1f31f91b73e3602",
       "version_major": 2,
       "version_minor": 0
      },
      "text/plain": [
       "  0%|          | 0/15 [00:00<?, ?it/s]"
      ]
     },
     "metadata": {},
     "output_type": "display_data"
    },
    {
     "data": {
      "application/vnd.jupyter.widget-view+json": {
       "model_id": "7cbbc0aea2b0430b9ce2d60cebc3cdfc",
       "version_major": 2,
       "version_minor": 0
      },
      "text/plain": [
       "  0%|          | 0/15 [00:00<?, ?it/s]"
      ]
     },
     "metadata": {},
     "output_type": "display_data"
    },
    {
     "data": {
      "application/vnd.jupyter.widget-view+json": {
       "model_id": "2d7e254437034a859c61b1a486a95597",
       "version_major": 2,
       "version_minor": 0
      },
      "text/plain": [
       "  0%|          | 0/15 [00:00<?, ?it/s]"
      ]
     },
     "metadata": {},
     "output_type": "display_data"
    },
    {
     "data": {
      "application/vnd.jupyter.widget-view+json": {
       "model_id": "bc6444ffb0474a2abe36e94aae9578c3",
       "version_major": 2,
       "version_minor": 0
      },
      "text/plain": [
       "  0%|          | 0/15 [00:00<?, ?it/s]"
      ]
     },
     "metadata": {},
     "output_type": "display_data"
    },
    {
     "data": {
      "application/vnd.jupyter.widget-view+json": {
       "model_id": "91e5d1e43a054c99b118d6eb026ab6be",
       "version_major": 2,
       "version_minor": 0
      },
      "text/plain": [
       "  0%|          | 0/15 [00:00<?, ?it/s]"
      ]
     },
     "metadata": {},
     "output_type": "display_data"
    },
    {
     "data": {
      "application/vnd.jupyter.widget-view+json": {
       "model_id": "59c8bcd1518949cca2530938124da224",
       "version_major": 2,
       "version_minor": 0
      },
      "text/plain": [
       "  0%|          | 0/15 [00:00<?, ?it/s]"
      ]
     },
     "metadata": {},
     "output_type": "display_data"
    },
    {
     "data": {
      "application/vnd.jupyter.widget-view+json": {
       "model_id": "75e722eaa91043a68e783f4793891b55",
       "version_major": 2,
       "version_minor": 0
      },
      "text/plain": [
       "  0%|          | 0/15 [00:00<?, ?it/s]"
      ]
     },
     "metadata": {},
     "output_type": "display_data"
    },
    {
     "data": {
      "application/vnd.jupyter.widget-view+json": {
       "model_id": "f33e7eed150a4a29b42f8ea3a45252c0",
       "version_major": 2,
       "version_minor": 0
      },
      "text/plain": [
       "  0%|          | 0/15 [00:00<?, ?it/s]"
      ]
     },
     "metadata": {},
     "output_type": "display_data"
    },
    {
     "data": {
      "application/vnd.jupyter.widget-view+json": {
       "model_id": "24dd96c31f704017b69693b714b4f7e3",
       "version_major": 2,
       "version_minor": 0
      },
      "text/plain": [
       "  0%|          | 0/15 [00:00<?, ?it/s]"
      ]
     },
     "metadata": {},
     "output_type": "display_data"
    },
    {
     "data": {
      "application/vnd.jupyter.widget-view+json": {
       "model_id": "1bde1c6434fc489083d573c608020602",
       "version_major": 2,
       "version_minor": 0
      },
      "text/plain": [
       "  0%|          | 0/15 [00:00<?, ?it/s]"
      ]
     },
     "metadata": {},
     "output_type": "display_data"
    },
    {
     "data": {
      "application/vnd.jupyter.widget-view+json": {
       "model_id": "3873a57129694a5b8ca1f35f97b94b4d",
       "version_major": 2,
       "version_minor": 0
      },
      "text/plain": [
       "  0%|          | 0/15 [00:00<?, ?it/s]"
      ]
     },
     "metadata": {},
     "output_type": "display_data"
    },
    {
     "data": {
      "application/vnd.jupyter.widget-view+json": {
       "model_id": "69e6e273dac543be82c041d45d3f301b",
       "version_major": 2,
       "version_minor": 0
      },
      "text/plain": [
       "  0%|          | 0/15 [00:00<?, ?it/s]"
      ]
     },
     "metadata": {},
     "output_type": "display_data"
    },
    {
     "data": {
      "application/vnd.jupyter.widget-view+json": {
       "model_id": "407a7fe3d1c342d794dff788b8a37cad",
       "version_major": 2,
       "version_minor": 0
      },
      "text/plain": [
       "  0%|          | 0/15 [00:00<?, ?it/s]"
      ]
     },
     "metadata": {},
     "output_type": "display_data"
    },
    {
     "data": {
      "application/vnd.jupyter.widget-view+json": {
       "model_id": "eb1af182f8af43dcad013c83780446f7",
       "version_major": 2,
       "version_minor": 0
      },
      "text/plain": [
       "  0%|          | 0/15 [00:00<?, ?it/s]"
      ]
     },
     "metadata": {},
     "output_type": "display_data"
    },
    {
     "data": {
      "application/vnd.jupyter.widget-view+json": {
       "model_id": "8a1dff49f1a44811ab3c6c5c1600bdd3",
       "version_major": 2,
       "version_minor": 0
      },
      "text/plain": [
       "  0%|          | 0/15 [00:00<?, ?it/s]"
      ]
     },
     "metadata": {},
     "output_type": "display_data"
    },
    {
     "data": {
      "application/vnd.jupyter.widget-view+json": {
       "model_id": "c4980e02eb1f4a6384b1ad6c9c03587b",
       "version_major": 2,
       "version_minor": 0
      },
      "text/plain": [
       "  0%|          | 0/15 [00:00<?, ?it/s]"
      ]
     },
     "metadata": {},
     "output_type": "display_data"
    },
    {
     "name": "stdout",
     "output_type": "stream",
     "text": [
      "new_best_mrr: 0.2129120374028744\n"
     ]
    },
    {
     "data": {
      "application/vnd.jupyter.widget-view+json": {
       "model_id": "3d41726b7e424790b43daa2b47d91982",
       "version_major": 2,
       "version_minor": 0
      },
      "text/plain": [
       "  0%|          | 0/15 [00:00<?, ?it/s]"
      ]
     },
     "metadata": {},
     "output_type": "display_data"
    }
   ],
   "source": [
    "import itertools\n",
    "\n",
    "best_mrr = 0\n",
    "best_params = {}\n",
    "\n",
    "for param_set in get_params_combinations(params):\n",
    "    current_mrr = 0\n",
    "    interaction_matrix = bm25_weight(interaction_matrix, K1=param_set['K1'], B=param_set['B'])\n",
    "    interaction_matrix = interaction_matrix.tocsr()\n",
    "    model = AlternatingLeastSquares(factors=param_set['factors'], regularization=param_set['regularization'], alpha=param_set['alpha'])\n",
    "    model.fit(interaction_matrix)\n",
    "    current_mrr = mrr(val_sample['userID'].to_numpy(), val_items.to_numpy(), \n",
    "                      model=model, interaction_matrix=interaction_matrix)\n",
    "    if current_mrr > best_mrr:\n",
    "        print('new_best_mrr:', current_mrr)\n",
    "        best_mrr = current_mrr\n",
    "        best_params = param_set"
   ]
  },
  {
   "cell_type": "markdown",
   "id": "575cd234-4449-44e2-868d-953959cbef5a",
   "metadata": {},
   "source": [
    "### Проверка на тестовой выборке"
   ]
  },
  {
   "cell_type": "code",
   "execution_count": 81,
   "id": "205e8591-6c66-4317-a679-c37083b989ff",
   "metadata": {},
   "outputs": [
    {
     "data": {
      "text/plain": [
       "{'K1': 100,\n",
       " 'B': 1.0,\n",
       " 'factors': 100,\n",
       " 'regularization': 0.1,\n",
       " 'alpha': 2.0,\n",
       " 'iterations': 25}"
      ]
     },
     "execution_count": 81,
     "metadata": {},
     "output_type": "execute_result"
    }
   ],
   "source": [
    "best_params"
   ]
  },
  {
   "cell_type": "markdown",
   "id": "57ecd828-3497-407c-a2fb-e16deb836649",
   "metadata": {},
   "source": [
    "# MRR"
   ]
  },
  {
   "cell_type": "code",
   "execution_count": 87,
   "id": "7b46aebf-7294-4cec-9e1d-806fbc446182",
   "metadata": {},
   "outputs": [
    {
     "data": {
      "application/vnd.jupyter.widget-view+json": {
       "model_id": "254706dbe6b146b3b64b1797569e8ae0",
       "version_major": 2,
       "version_minor": 0
      },
      "text/plain": [
       "  0%|          | 0/15 [00:00<?, ?it/s]"
      ]
     },
     "metadata": {},
     "output_type": "display_data"
    },
    {
     "name": "stdout",
     "output_type": "stream",
     "text": [
      "mrr@100: 0.136\n"
     ]
    }
   ],
   "source": [
    "param_set = best_params\n",
    "model = AlternatingLeastSquares(factors=param_set['factors'], regularization=param_set['regularization'], alpha=param_set['alpha'])\n",
    "model.fit(interaction_matrix)\n",
    "current_mrr = mrr(test_data.index.to_numpy(), test.to_numpy(), \n",
    "                  model=model, interaction_matrix=interaction_matrix)\n",
    "print(f'mrr@100: {current_mrr:.3}')"
   ]
  },
  {
   "cell_type": "markdown",
   "id": "7e6539d1-6234-4e47-9712-787f98a2b470",
   "metadata": {},
   "source": [
    "#### Метрика значительно меньше, чем на валидации, но это можно объяснить тем, что в валидационной выборке были пользователи с достаточно большой историей, в то время как в полном датасете около половины имеют только 3 предмета, и для них сложнее строить рекомендации. Тем не менее, таргет в среднем попадает в топ-8 предметов"
   ]
  },
  {
   "cell_type": "markdown",
   "id": "91a5c272-48c6-4d40-ae26-564b5bb7a0b2",
   "metadata": {},
   "source": [
    "# NDCG и HitRate"
   ]
  },
  {
   "cell_type": "code",
   "execution_count": 88,
   "id": "d720298b-833c-41ef-acf1-a4ffa66178cc",
   "metadata": {},
   "outputs": [],
   "source": [
    "from implicit.evaluation import ndcg_at_k"
   ]
  },
  {
   "cell_type": "code",
   "execution_count": 89,
   "id": "7781d581-7845-4035-ae9e-3987d4943cb3",
   "metadata": {},
   "outputs": [
    {
     "data": {
      "text/html": [
       "<div>\n",
       "<style scoped>\n",
       "    .dataframe tbody tr th:only-of-type {\n",
       "        vertical-align: middle;\n",
       "    }\n",
       "\n",
       "    .dataframe tbody tr th {\n",
       "        vertical-align: top;\n",
       "    }\n",
       "\n",
       "    .dataframe thead th {\n",
       "        text-align: right;\n",
       "    }\n",
       "</style>\n",
       "<table border=\"1\" class=\"dataframe\">\n",
       "  <thead>\n",
       "    <tr style=\"text-align: right;\">\n",
       "      <th></th>\n",
       "      <th>sequence</th>\n",
       "      <th>seq_len</th>\n",
       "    </tr>\n",
       "  </thead>\n",
       "  <tbody>\n",
       "    <tr>\n",
       "      <th>0</th>\n",
       "      <td>B0924SNP46</td>\n",
       "      <td>1</td>\n",
       "    </tr>\n",
       "    <tr>\n",
       "      <th>1</th>\n",
       "      <td>B00I3P3CQI</td>\n",
       "      <td>1</td>\n",
       "    </tr>\n",
       "    <tr>\n",
       "      <th>2</th>\n",
       "      <td>B076Q6P3TW</td>\n",
       "      <td>1</td>\n",
       "    </tr>\n",
       "    <tr>\n",
       "      <th>3</th>\n",
       "      <td>B0B5ND342Y</td>\n",
       "      <td>1</td>\n",
       "    </tr>\n",
       "    <tr>\n",
       "      <th>4</th>\n",
       "      <td>B0B5XH75H7</td>\n",
       "      <td>1</td>\n",
       "    </tr>\n",
       "    <tr>\n",
       "      <th>...</th>\n",
       "      <td>...</td>\n",
       "      <td>...</td>\n",
       "    </tr>\n",
       "    <tr>\n",
       "      <th>117556</th>\n",
       "      <td>B0B3ZYX4MN</td>\n",
       "      <td>1</td>\n",
       "    </tr>\n",
       "    <tr>\n",
       "      <th>117557</th>\n",
       "      <td>B00L15FRWY</td>\n",
       "      <td>1</td>\n",
       "    </tr>\n",
       "    <tr>\n",
       "      <th>117558</th>\n",
       "      <td>B09JQZ5DYM</td>\n",
       "      <td>1</td>\n",
       "    </tr>\n",
       "    <tr>\n",
       "      <th>117559</th>\n",
       "      <td>B07DWBBW9H</td>\n",
       "      <td>1</td>\n",
       "    </tr>\n",
       "    <tr>\n",
       "      <th>117560</th>\n",
       "      <td>B0B38CH2K4</td>\n",
       "      <td>1</td>\n",
       "    </tr>\n",
       "  </tbody>\n",
       "</table>\n",
       "<p>117561 rows × 2 columns</p>\n",
       "</div>"
      ],
      "text/plain": [
       "          sequence  seq_len\n",
       "0       B0924SNP46        1\n",
       "1       B00I3P3CQI        1\n",
       "2       B076Q6P3TW        1\n",
       "3       B0B5ND342Y        1\n",
       "4       B0B5XH75H7        1\n",
       "...            ...      ...\n",
       "117556  B0B3ZYX4MN        1\n",
       "117557  B00L15FRWY        1\n",
       "117558  B09JQZ5DYM        1\n",
       "117559  B07DWBBW9H        1\n",
       "117560  B0B38CH2K4        1\n",
       "\n",
       "[117561 rows x 2 columns]"
      ]
     },
     "execution_count": 89,
     "metadata": {},
     "output_type": "execute_result"
    }
   ],
   "source": [
    "test_data"
   ]
  },
  {
   "cell_type": "code",
   "execution_count": 91,
   "id": "5cae210b-cf60-4880-9190-c3a5b71876cf",
   "metadata": {},
   "outputs": [],
   "source": [
    "test_row = test_data.index.to_numpy()\n",
    "test_col = test_data['sequence'].to_numpy()\n",
    "test_col = vec_func(test_col)\n",
    "test_data = np.ones(len(test_row))"
   ]
  },
  {
   "cell_type": "code",
   "execution_count": 95,
   "id": "7c0f34ed-8911-45a9-8f0d-341f8d75e5a9",
   "metadata": {},
   "outputs": [],
   "source": [
    "test_matrix = scipy.sparse.csr_matrix((test_data, (test_row, test_col)))"
   ]
  },
  {
   "cell_type": "markdown",
   "id": "d160d2fe-7fc2-4148-b9e2-bdfadd742ce2",
   "metadata": {},
   "source": [
    "# NDCG"
   ]
  },
  {
   "cell_type": "code",
   "execution_count": 96,
   "id": "985d801e-8816-4d36-9d51-521f860c5061",
   "metadata": {},
   "outputs": [
    {
     "data": {
      "application/vnd.jupyter.widget-view+json": {
       "model_id": "8e55146656f54d6680698afe35a615b2",
       "version_major": 2,
       "version_minor": 0
      },
      "text/plain": [
       "  0%|          | 0/117561 [00:00<?, ?it/s]"
      ]
     },
     "metadata": {},
     "output_type": "display_data"
    },
    {
     "data": {
      "text/plain": [
       "0.3431832071987708"
      ]
     },
     "execution_count": 96,
     "metadata": {},
     "output_type": "execute_result"
    }
   ],
   "source": [
    "ndcg_at_k(model, interaction_matrix, test_matrix, K=100)"
   ]
  },
  {
   "cell_type": "markdown",
   "id": "e12f8a75-a38a-428f-a2f7-e83a38e0f416",
   "metadata": {},
   "source": [
    "# HitRate"
   ]
  },
  {
   "cell_type": "code",
   "execution_count": 193,
   "id": "b1e7b7d4-1b52-4fb3-b448-bf4688cd9d87",
   "metadata": {},
   "outputs": [],
   "source": [
    "def single_hit_rate(recommended: np.ndarray, target: int):\n",
    "    flags = np.isin(recommended, target)\n",
    "    hit_rate = int(flags.sum() > 0)\n",
    "    return hit_rate\n",
    "\n",
    "def hit_rate_by_k(users: list, test_data: list, **kwargs):\n",
    "    hit_rate = 0\n",
    "    for i in range(len(users)):\n",
    "        recommendations = get_recommendations(users[i], **kwargs)\n",
    "        hit_rate += single_hit_rate(recommendations, test_data[i])\n",
    "    return hit_rate / len(users)"
   ]
  },
  {
   "cell_type": "code",
   "execution_count": 111,
   "id": "b816bf28-7a8e-4f17-a233-adf5d264b7e0",
   "metadata": {},
   "outputs": [
    {
     "data": {
      "text/plain": [
       "0.7317647859409158"
      ]
     },
     "execution_count": 111,
     "metadata": {},
     "output_type": "execute_result"
    }
   ],
   "source": [
    "hit_rate_by_k(test_row, test_col, model=model, interaction_matrix=interaction_matrix, top_k=100)"
   ]
  },
  {
   "cell_type": "markdown",
   "id": "c3f455b4-a44e-4057-857c-a7e82ae518c4",
   "metadata": {},
   "source": [
    "#### Не для всех, но для большинства пользователей рекомендуются релевантные товары. Если соотнести это с относительно большим показателем mrr, то можно сделать вывод, что рекомендация для конкретного пользователя может работать либо хорошо (таргет в среднем входит в топ-8), либо совсем плохо."
   ]
  },
  {
   "cell_type": "markdown",
   "id": "20a034b5-7f55-4b20-b43f-f9a708fe8cfc",
   "metadata": {},
   "source": [
    "# Байесовский подход"
   ]
  },
  {
   "cell_type": "code",
   "execution_count": 137,
   "id": "ef812516-087d-4bea-b9be-033ab5f071ec",
   "metadata": {},
   "outputs": [],
   "source": [
    "from implicit.cpu.bpr import BayesianPersonalizedRanking"
   ]
  },
  {
   "cell_type": "code",
   "execution_count": 178,
   "id": "2cb969ab-ace8-4d8c-a401-4696eb472312",
   "metadata": {},
   "outputs": [],
   "source": [
    "params = {\n",
    "    'factors': [50, 100, 150],\n",
    "    'learning_rate': [0.05, 0.1, 0.15], \n",
    "    'regularization': [0.01, 0.05, 0.1],\n",
    "    'iterations': [75, 100, 150]\n",
    "}"
   ]
  },
  {
   "cell_type": "code",
   "execution_count": 182,
   "id": "f14b3abd-bba2-4a95-a8d2-a1ddd088394e",
   "metadata": {},
   "outputs": [
    {
     "data": {
      "application/vnd.jupyter.widget-view+json": {
       "model_id": "39717c89c4ad4f21b9264bff573afc07",
       "version_major": 2,
       "version_minor": 0
      },
      "text/plain": [
       "  0%|          | 0/75 [00:00<?, ?it/s]"
      ]
     },
     "metadata": {},
     "output_type": "display_data"
    },
    {
     "name": "stdout",
     "output_type": "stream",
     "text": [
      "new_best_mrr: 0.1779994858196939\n"
     ]
    },
    {
     "data": {
      "application/vnd.jupyter.widget-view+json": {
       "model_id": "d57f02cc699c498e93a02d055abbf2e6",
       "version_major": 2,
       "version_minor": 0
      },
      "text/plain": [
       "  0%|          | 0/100 [00:00<?, ?it/s]"
      ]
     },
     "metadata": {},
     "output_type": "display_data"
    },
    {
     "data": {
      "application/vnd.jupyter.widget-view+json": {
       "model_id": "f1b5bf162be04eab83da75139abfca98",
       "version_major": 2,
       "version_minor": 0
      },
      "text/plain": [
       "  0%|          | 0/150 [00:00<?, ?it/s]"
      ]
     },
     "metadata": {},
     "output_type": "display_data"
    },
    {
     "data": {
      "application/vnd.jupyter.widget-view+json": {
       "model_id": "108eb146bc8a4f4991ebd826c37cf7b6",
       "version_major": 2,
       "version_minor": 0
      },
      "text/plain": [
       "  0%|          | 0/75 [00:00<?, ?it/s]"
      ]
     },
     "metadata": {},
     "output_type": "display_data"
    },
    {
     "data": {
      "application/vnd.jupyter.widget-view+json": {
       "model_id": "3fb063aa4c0b4de19750c92686287c76",
       "version_major": 2,
       "version_minor": 0
      },
      "text/plain": [
       "  0%|          | 0/100 [00:00<?, ?it/s]"
      ]
     },
     "metadata": {},
     "output_type": "display_data"
    },
    {
     "data": {
      "application/vnd.jupyter.widget-view+json": {
       "model_id": "784e372890b14892bdc888a17337eb4a",
       "version_major": 2,
       "version_minor": 0
      },
      "text/plain": [
       "  0%|          | 0/150 [00:00<?, ?it/s]"
      ]
     },
     "metadata": {},
     "output_type": "display_data"
    },
    {
     "data": {
      "application/vnd.jupyter.widget-view+json": {
       "model_id": "35638ff5019841b18b1d0edbbb090e11",
       "version_major": 2,
       "version_minor": 0
      },
      "text/plain": [
       "  0%|          | 0/75 [00:00<?, ?it/s]"
      ]
     },
     "metadata": {},
     "output_type": "display_data"
    },
    {
     "data": {
      "application/vnd.jupyter.widget-view+json": {
       "model_id": "44044b4d757c4519807d2728b93b7c52",
       "version_major": 2,
       "version_minor": 0
      },
      "text/plain": [
       "  0%|          | 0/100 [00:00<?, ?it/s]"
      ]
     },
     "metadata": {},
     "output_type": "display_data"
    },
    {
     "data": {
      "application/vnd.jupyter.widget-view+json": {
       "model_id": "48c3ca1a30714a8cb83061c1cec2938f",
       "version_major": 2,
       "version_minor": 0
      },
      "text/plain": [
       "  0%|          | 0/150 [00:00<?, ?it/s]"
      ]
     },
     "metadata": {},
     "output_type": "display_data"
    },
    {
     "data": {
      "application/vnd.jupyter.widget-view+json": {
       "model_id": "a27f15a658a442479fb6415498e0f6c6",
       "version_major": 2,
       "version_minor": 0
      },
      "text/plain": [
       "  0%|          | 0/75 [00:00<?, ?it/s]"
      ]
     },
     "metadata": {},
     "output_type": "display_data"
    },
    {
     "data": {
      "application/vnd.jupyter.widget-view+json": {
       "model_id": "2b3914ae86f84d0898fc90591348e7ae",
       "version_major": 2,
       "version_minor": 0
      },
      "text/plain": [
       "  0%|          | 0/100 [00:00<?, ?it/s]"
      ]
     },
     "metadata": {},
     "output_type": "display_data"
    },
    {
     "data": {
      "application/vnd.jupyter.widget-view+json": {
       "model_id": "756fcc3dba0944ebba603fdd43901075",
       "version_major": 2,
       "version_minor": 0
      },
      "text/plain": [
       "  0%|          | 0/150 [00:00<?, ?it/s]"
      ]
     },
     "metadata": {},
     "output_type": "display_data"
    },
    {
     "name": "stdout",
     "output_type": "stream",
     "text": [
      "new_best_mrr: 0.1789653066392997\n"
     ]
    },
    {
     "data": {
      "application/vnd.jupyter.widget-view+json": {
       "model_id": "19eebe8e964d44b8891407af25b7b34c",
       "version_major": 2,
       "version_minor": 0
      },
      "text/plain": [
       "  0%|          | 0/75 [00:00<?, ?it/s]"
      ]
     },
     "metadata": {},
     "output_type": "display_data"
    },
    {
     "data": {
      "application/vnd.jupyter.widget-view+json": {
       "model_id": "5ed7bd4aac4e4ead858b21d6c407957f",
       "version_major": 2,
       "version_minor": 0
      },
      "text/plain": [
       "  0%|          | 0/100 [00:00<?, ?it/s]"
      ]
     },
     "metadata": {},
     "output_type": "display_data"
    },
    {
     "data": {
      "application/vnd.jupyter.widget-view+json": {
       "model_id": "c5f20395e2b247aaa973bd87c627115e",
       "version_major": 2,
       "version_minor": 0
      },
      "text/plain": [
       "  0%|          | 0/150 [00:00<?, ?it/s]"
      ]
     },
     "metadata": {},
     "output_type": "display_data"
    },
    {
     "data": {
      "application/vnd.jupyter.widget-view+json": {
       "model_id": "89daabe68f9e4a719750ccd5f56c8daa",
       "version_major": 2,
       "version_minor": 0
      },
      "text/plain": [
       "  0%|          | 0/75 [00:00<?, ?it/s]"
      ]
     },
     "metadata": {},
     "output_type": "display_data"
    },
    {
     "data": {
      "application/vnd.jupyter.widget-view+json": {
       "model_id": "bb7870daff0c45b48ba6965a06513c54",
       "version_major": 2,
       "version_minor": 0
      },
      "text/plain": [
       "  0%|          | 0/100 [00:00<?, ?it/s]"
      ]
     },
     "metadata": {},
     "output_type": "display_data"
    },
    {
     "data": {
      "application/vnd.jupyter.widget-view+json": {
       "model_id": "19f7c27b21024af295e0dca2753dca38",
       "version_major": 2,
       "version_minor": 0
      },
      "text/plain": [
       "  0%|          | 0/150 [00:00<?, ?it/s]"
      ]
     },
     "metadata": {},
     "output_type": "display_data"
    },
    {
     "data": {
      "application/vnd.jupyter.widget-view+json": {
       "model_id": "da4260499334450fa3876838dfaae649",
       "version_major": 2,
       "version_minor": 0
      },
      "text/plain": [
       "  0%|          | 0/75 [00:00<?, ?it/s]"
      ]
     },
     "metadata": {},
     "output_type": "display_data"
    },
    {
     "data": {
      "application/vnd.jupyter.widget-view+json": {
       "model_id": "15c6c58f34454266b83c2b04eaa02a24",
       "version_major": 2,
       "version_minor": 0
      },
      "text/plain": [
       "  0%|          | 0/100 [00:00<?, ?it/s]"
      ]
     },
     "metadata": {},
     "output_type": "display_data"
    },
    {
     "data": {
      "application/vnd.jupyter.widget-view+json": {
       "model_id": "ada6a0d5e0a449ed92c4cca48d25e5fc",
       "version_major": 2,
       "version_minor": 0
      },
      "text/plain": [
       "  0%|          | 0/150 [00:00<?, ?it/s]"
      ]
     },
     "metadata": {},
     "output_type": "display_data"
    },
    {
     "data": {
      "application/vnd.jupyter.widget-view+json": {
       "model_id": "fbbd95f074444b7cb094ea31411ca8b1",
       "version_major": 2,
       "version_minor": 0
      },
      "text/plain": [
       "  0%|          | 0/75 [00:00<?, ?it/s]"
      ]
     },
     "metadata": {},
     "output_type": "display_data"
    },
    {
     "data": {
      "application/vnd.jupyter.widget-view+json": {
       "model_id": "e504b7e5a3924aceaebe4b6d0b29699c",
       "version_major": 2,
       "version_minor": 0
      },
      "text/plain": [
       "  0%|          | 0/100 [00:00<?, ?it/s]"
      ]
     },
     "metadata": {},
     "output_type": "display_data"
    },
    {
     "data": {
      "application/vnd.jupyter.widget-view+json": {
       "model_id": "1619481b53ee402eaf0abce37bbb6cb4",
       "version_major": 2,
       "version_minor": 0
      },
      "text/plain": [
       "  0%|          | 0/150 [00:00<?, ?it/s]"
      ]
     },
     "metadata": {},
     "output_type": "display_data"
    },
    {
     "data": {
      "application/vnd.jupyter.widget-view+json": {
       "model_id": "7e5464c2c620468e931335e6aaeab38a",
       "version_major": 2,
       "version_minor": 0
      },
      "text/plain": [
       "  0%|          | 0/75 [00:00<?, ?it/s]"
      ]
     },
     "metadata": {},
     "output_type": "display_data"
    },
    {
     "data": {
      "application/vnd.jupyter.widget-view+json": {
       "model_id": "e60a01b6315042c8aa85c2c7404b6c7e",
       "version_major": 2,
       "version_minor": 0
      },
      "text/plain": [
       "  0%|          | 0/100 [00:00<?, ?it/s]"
      ]
     },
     "metadata": {},
     "output_type": "display_data"
    },
    {
     "data": {
      "application/vnd.jupyter.widget-view+json": {
       "model_id": "c08214eec9e34733b91aacc786dc1919",
       "version_major": 2,
       "version_minor": 0
      },
      "text/plain": [
       "  0%|          | 0/150 [00:00<?, ?it/s]"
      ]
     },
     "metadata": {},
     "output_type": "display_data"
    },
    {
     "data": {
      "application/vnd.jupyter.widget-view+json": {
       "model_id": "236edd1d75b541b0a4cac74d57fd8eb4",
       "version_major": 2,
       "version_minor": 0
      },
      "text/plain": [
       "  0%|          | 0/75 [00:00<?, ?it/s]"
      ]
     },
     "metadata": {},
     "output_type": "display_data"
    },
    {
     "data": {
      "application/vnd.jupyter.widget-view+json": {
       "model_id": "b0ed36bae35149b79d2fdb0839222fc3",
       "version_major": 2,
       "version_minor": 0
      },
      "text/plain": [
       "  0%|          | 0/100 [00:00<?, ?it/s]"
      ]
     },
     "metadata": {},
     "output_type": "display_data"
    },
    {
     "data": {
      "application/vnd.jupyter.widget-view+json": {
       "model_id": "34764805393c4388b17ce12906ee26bd",
       "version_major": 2,
       "version_minor": 0
      },
      "text/plain": [
       "  0%|          | 0/150 [00:00<?, ?it/s]"
      ]
     },
     "metadata": {},
     "output_type": "display_data"
    },
    {
     "data": {
      "application/vnd.jupyter.widget-view+json": {
       "model_id": "8bd202d1cfa14017982ea86175a30897",
       "version_major": 2,
       "version_minor": 0
      },
      "text/plain": [
       "  0%|          | 0/75 [00:00<?, ?it/s]"
      ]
     },
     "metadata": {},
     "output_type": "display_data"
    },
    {
     "data": {
      "application/vnd.jupyter.widget-view+json": {
       "model_id": "6c9ff50f5597407085676f6c63e0d5fe",
       "version_major": 2,
       "version_minor": 0
      },
      "text/plain": [
       "  0%|          | 0/100 [00:00<?, ?it/s]"
      ]
     },
     "metadata": {},
     "output_type": "display_data"
    },
    {
     "data": {
      "application/vnd.jupyter.widget-view+json": {
       "model_id": "9b7f302eb17146a48f87e71a71aaf0e8",
       "version_major": 2,
       "version_minor": 0
      },
      "text/plain": [
       "  0%|          | 0/150 [00:00<?, ?it/s]"
      ]
     },
     "metadata": {},
     "output_type": "display_data"
    },
    {
     "data": {
      "application/vnd.jupyter.widget-view+json": {
       "model_id": "eb33c09153e644419e978e923d943e9d",
       "version_major": 2,
       "version_minor": 0
      },
      "text/plain": [
       "  0%|          | 0/75 [00:00<?, ?it/s]"
      ]
     },
     "metadata": {},
     "output_type": "display_data"
    },
    {
     "data": {
      "application/vnd.jupyter.widget-view+json": {
       "model_id": "81f0aa2db971419eaaf9a8361a330cb8",
       "version_major": 2,
       "version_minor": 0
      },
      "text/plain": [
       "  0%|          | 0/100 [00:00<?, ?it/s]"
      ]
     },
     "metadata": {},
     "output_type": "display_data"
    },
    {
     "data": {
      "application/vnd.jupyter.widget-view+json": {
       "model_id": "c5d7f8276ec44c5888681e3f4954b5a0",
       "version_major": 2,
       "version_minor": 0
      },
      "text/plain": [
       "  0%|          | 0/150 [00:00<?, ?it/s]"
      ]
     },
     "metadata": {},
     "output_type": "display_data"
    },
    {
     "data": {
      "application/vnd.jupyter.widget-view+json": {
       "model_id": "6164612929804ecbbaf1fa5d423ec476",
       "version_major": 2,
       "version_minor": 0
      },
      "text/plain": [
       "  0%|          | 0/75 [00:00<?, ?it/s]"
      ]
     },
     "metadata": {},
     "output_type": "display_data"
    },
    {
     "data": {
      "application/vnd.jupyter.widget-view+json": {
       "model_id": "61e43266649d4e67a052c104af537999",
       "version_major": 2,
       "version_minor": 0
      },
      "text/plain": [
       "  0%|          | 0/100 [00:00<?, ?it/s]"
      ]
     },
     "metadata": {},
     "output_type": "display_data"
    },
    {
     "data": {
      "application/vnd.jupyter.widget-view+json": {
       "model_id": "9c22e0224ba74033968a703ff76f12dd",
       "version_major": 2,
       "version_minor": 0
      },
      "text/plain": [
       "  0%|          | 0/150 [00:00<?, ?it/s]"
      ]
     },
     "metadata": {},
     "output_type": "display_data"
    },
    {
     "data": {
      "application/vnd.jupyter.widget-view+json": {
       "model_id": "db4bf0188c134ccba11aa9f73e1cdf7f",
       "version_major": 2,
       "version_minor": 0
      },
      "text/plain": [
       "  0%|          | 0/75 [00:00<?, ?it/s]"
      ]
     },
     "metadata": {},
     "output_type": "display_data"
    },
    {
     "data": {
      "application/vnd.jupyter.widget-view+json": {
       "model_id": "603b5b147d764da98f260dc1ea570516",
       "version_major": 2,
       "version_minor": 0
      },
      "text/plain": [
       "  0%|          | 0/100 [00:00<?, ?it/s]"
      ]
     },
     "metadata": {},
     "output_type": "display_data"
    },
    {
     "data": {
      "application/vnd.jupyter.widget-view+json": {
       "model_id": "d31166465b3c4d1194a263d27137224a",
       "version_major": 2,
       "version_minor": 0
      },
      "text/plain": [
       "  0%|          | 0/150 [00:00<?, ?it/s]"
      ]
     },
     "metadata": {},
     "output_type": "display_data"
    },
    {
     "data": {
      "application/vnd.jupyter.widget-view+json": {
       "model_id": "e6a80f102d664b56b44006e9934728c3",
       "version_major": 2,
       "version_minor": 0
      },
      "text/plain": [
       "  0%|          | 0/75 [00:00<?, ?it/s]"
      ]
     },
     "metadata": {},
     "output_type": "display_data"
    },
    {
     "data": {
      "application/vnd.jupyter.widget-view+json": {
       "model_id": "645bf8d5a8d74ca8a69037ecf7dc36e4",
       "version_major": 2,
       "version_minor": 0
      },
      "text/plain": [
       "  0%|          | 0/100 [00:00<?, ?it/s]"
      ]
     },
     "metadata": {},
     "output_type": "display_data"
    },
    {
     "data": {
      "application/vnd.jupyter.widget-view+json": {
       "model_id": "cfd072e0f47a4f3ebaf3deb03f574054",
       "version_major": 2,
       "version_minor": 0
      },
      "text/plain": [
       "  0%|          | 0/150 [00:00<?, ?it/s]"
      ]
     },
     "metadata": {},
     "output_type": "display_data"
    },
    {
     "data": {
      "application/vnd.jupyter.widget-view+json": {
       "model_id": "c072ae72bba947469130beab0c0bb9dd",
       "version_major": 2,
       "version_minor": 0
      },
      "text/plain": [
       "  0%|          | 0/75 [00:00<?, ?it/s]"
      ]
     },
     "metadata": {},
     "output_type": "display_data"
    },
    {
     "name": "stdout",
     "output_type": "stream",
     "text": [
      "new_best_mrr: 0.17970115162145678\n"
     ]
    },
    {
     "data": {
      "application/vnd.jupyter.widget-view+json": {
       "model_id": "e63be4f1449849b3afa452f4b5478833",
       "version_major": 2,
       "version_minor": 0
      },
      "text/plain": [
       "  0%|          | 0/100 [00:00<?, ?it/s]"
      ]
     },
     "metadata": {},
     "output_type": "display_data"
    },
    {
     "data": {
      "application/vnd.jupyter.widget-view+json": {
       "model_id": "3bec24f04e324d42a1a296a51d771d88",
       "version_major": 2,
       "version_minor": 0
      },
      "text/plain": [
       "  0%|          | 0/150 [00:00<?, ?it/s]"
      ]
     },
     "metadata": {},
     "output_type": "display_data"
    },
    {
     "name": "stdout",
     "output_type": "stream",
     "text": [
      "new_best_mrr: 0.1894658941240745\n"
     ]
    },
    {
     "data": {
      "application/vnd.jupyter.widget-view+json": {
       "model_id": "6eab9007912a4fac8817c9716e6f9d60",
       "version_major": 2,
       "version_minor": 0
      },
      "text/plain": [
       "  0%|          | 0/75 [00:00<?, ?it/s]"
      ]
     },
     "metadata": {},
     "output_type": "display_data"
    },
    {
     "data": {
      "application/vnd.jupyter.widget-view+json": {
       "model_id": "dbbe4f71280940e7a63c2585bba35966",
       "version_major": 2,
       "version_minor": 0
      },
      "text/plain": [
       "  0%|          | 0/100 [00:00<?, ?it/s]"
      ]
     },
     "metadata": {},
     "output_type": "display_data"
    },
    {
     "data": {
      "application/vnd.jupyter.widget-view+json": {
       "model_id": "e7ce368b0e0b41ee9dbb68ccb18d0ca6",
       "version_major": 2,
       "version_minor": 0
      },
      "text/plain": [
       "  0%|          | 0/150 [00:00<?, ?it/s]"
      ]
     },
     "metadata": {},
     "output_type": "display_data"
    },
    {
     "data": {
      "application/vnd.jupyter.widget-view+json": {
       "model_id": "687357b6dd8844159b0fbccf6272c1f7",
       "version_major": 2,
       "version_minor": 0
      },
      "text/plain": [
       "  0%|          | 0/75 [00:00<?, ?it/s]"
      ]
     },
     "metadata": {},
     "output_type": "display_data"
    },
    {
     "data": {
      "application/vnd.jupyter.widget-view+json": {
       "model_id": "dcbca3189e5b4a039418e3961afc2b82",
       "version_major": 2,
       "version_minor": 0
      },
      "text/plain": [
       "  0%|          | 0/100 [00:00<?, ?it/s]"
      ]
     },
     "metadata": {},
     "output_type": "display_data"
    },
    {
     "data": {
      "application/vnd.jupyter.widget-view+json": {
       "model_id": "0e3569273aa7402199a7c2f09a528c38",
       "version_major": 2,
       "version_minor": 0
      },
      "text/plain": [
       "  0%|          | 0/150 [00:00<?, ?it/s]"
      ]
     },
     "metadata": {},
     "output_type": "display_data"
    },
    {
     "data": {
      "application/vnd.jupyter.widget-view+json": {
       "model_id": "7f5ff52560124d2e94f3e47858748468",
       "version_major": 2,
       "version_minor": 0
      },
      "text/plain": [
       "  0%|          | 0/75 [00:00<?, ?it/s]"
      ]
     },
     "metadata": {},
     "output_type": "display_data"
    },
    {
     "data": {
      "application/vnd.jupyter.widget-view+json": {
       "model_id": "825af29c58264a3bbc64a37ddde0c06b",
       "version_major": 2,
       "version_minor": 0
      },
      "text/plain": [
       "  0%|          | 0/100 [00:00<?, ?it/s]"
      ]
     },
     "metadata": {},
     "output_type": "display_data"
    },
    {
     "data": {
      "application/vnd.jupyter.widget-view+json": {
       "model_id": "33abb9412fad45af990142b70428d2dd",
       "version_major": 2,
       "version_minor": 0
      },
      "text/plain": [
       "  0%|          | 0/150 [00:00<?, ?it/s]"
      ]
     },
     "metadata": {},
     "output_type": "display_data"
    },
    {
     "data": {
      "application/vnd.jupyter.widget-view+json": {
       "model_id": "4c75c1bde83c43c8bc537983ec3d3d9e",
       "version_major": 2,
       "version_minor": 0
      },
      "text/plain": [
       "  0%|          | 0/75 [00:00<?, ?it/s]"
      ]
     },
     "metadata": {},
     "output_type": "display_data"
    },
    {
     "data": {
      "application/vnd.jupyter.widget-view+json": {
       "model_id": "8b6b9909317d44a9a89d6b92a491c64b",
       "version_major": 2,
       "version_minor": 0
      },
      "text/plain": [
       "  0%|          | 0/100 [00:00<?, ?it/s]"
      ]
     },
     "metadata": {},
     "output_type": "display_data"
    },
    {
     "data": {
      "application/vnd.jupyter.widget-view+json": {
       "model_id": "a1baa93a127d4c3ea0198abaab631034",
       "version_major": 2,
       "version_minor": 0
      },
      "text/plain": [
       "  0%|          | 0/150 [00:00<?, ?it/s]"
      ]
     },
     "metadata": {},
     "output_type": "display_data"
    },
    {
     "data": {
      "application/vnd.jupyter.widget-view+json": {
       "model_id": "da27a83b50554e4eb6f813fa64b3b67e",
       "version_major": 2,
       "version_minor": 0
      },
      "text/plain": [
       "  0%|          | 0/75 [00:00<?, ?it/s]"
      ]
     },
     "metadata": {},
     "output_type": "display_data"
    },
    {
     "data": {
      "application/vnd.jupyter.widget-view+json": {
       "model_id": "0e695c75021943eeaa14d84631a3be4b",
       "version_major": 2,
       "version_minor": 0
      },
      "text/plain": [
       "  0%|          | 0/100 [00:00<?, ?it/s]"
      ]
     },
     "metadata": {},
     "output_type": "display_data"
    },
    {
     "data": {
      "application/vnd.jupyter.widget-view+json": {
       "model_id": "eff054c40c354dfba0c0d38f886a044b",
       "version_major": 2,
       "version_minor": 0
      },
      "text/plain": [
       "  0%|          | 0/150 [00:00<?, ?it/s]"
      ]
     },
     "metadata": {},
     "output_type": "display_data"
    },
    {
     "data": {
      "application/vnd.jupyter.widget-view+json": {
       "model_id": "b53f8e58f0f04a2bb8c7a869b17c120e",
       "version_major": 2,
       "version_minor": 0
      },
      "text/plain": [
       "  0%|          | 0/75 [00:00<?, ?it/s]"
      ]
     },
     "metadata": {},
     "output_type": "display_data"
    },
    {
     "data": {
      "application/vnd.jupyter.widget-view+json": {
       "model_id": "e9f64bd933f14306b2bf723d8a1583d5",
       "version_major": 2,
       "version_minor": 0
      },
      "text/plain": [
       "  0%|          | 0/100 [00:00<?, ?it/s]"
      ]
     },
     "metadata": {},
     "output_type": "display_data"
    },
    {
     "data": {
      "application/vnd.jupyter.widget-view+json": {
       "model_id": "3671f55c0e0d4ef38f7f947ade6f271d",
       "version_major": 2,
       "version_minor": 0
      },
      "text/plain": [
       "  0%|          | 0/150 [00:00<?, ?it/s]"
      ]
     },
     "metadata": {},
     "output_type": "display_data"
    },
    {
     "data": {
      "application/vnd.jupyter.widget-view+json": {
       "model_id": "234be64d7d964f6ab3ea1cbd25fff819",
       "version_major": 2,
       "version_minor": 0
      },
      "text/plain": [
       "  0%|          | 0/75 [00:00<?, ?it/s]"
      ]
     },
     "metadata": {},
     "output_type": "display_data"
    },
    {
     "data": {
      "application/vnd.jupyter.widget-view+json": {
       "model_id": "3503f13886d842c1ac10a40c29366685",
       "version_major": 2,
       "version_minor": 0
      },
      "text/plain": [
       "  0%|          | 0/100 [00:00<?, ?it/s]"
      ]
     },
     "metadata": {},
     "output_type": "display_data"
    },
    {
     "data": {
      "application/vnd.jupyter.widget-view+json": {
       "model_id": "11a63132c26c42969bcf94168417dfca",
       "version_major": 2,
       "version_minor": 0
      },
      "text/plain": [
       "  0%|          | 0/150 [00:00<?, ?it/s]"
      ]
     },
     "metadata": {},
     "output_type": "display_data"
    },
    {
     "data": {
      "application/vnd.jupyter.widget-view+json": {
       "model_id": "1890e8b262de4242811a4ba8ba372a11",
       "version_major": 2,
       "version_minor": 0
      },
      "text/plain": [
       "  0%|          | 0/75 [00:00<?, ?it/s]"
      ]
     },
     "metadata": {},
     "output_type": "display_data"
    },
    {
     "data": {
      "application/vnd.jupyter.widget-view+json": {
       "model_id": "b89fb5a37c8549e18bbd834155568184",
       "version_major": 2,
       "version_minor": 0
      },
      "text/plain": [
       "  0%|          | 0/100 [00:00<?, ?it/s]"
      ]
     },
     "metadata": {},
     "output_type": "display_data"
    },
    {
     "data": {
      "application/vnd.jupyter.widget-view+json": {
       "model_id": "5cc462db364e4d58b30b31b9d5c8cc28",
       "version_major": 2,
       "version_minor": 0
      },
      "text/plain": [
       "  0%|          | 0/150 [00:00<?, ?it/s]"
      ]
     },
     "metadata": {},
     "output_type": "display_data"
    },
    {
     "data": {
      "application/vnd.jupyter.widget-view+json": {
       "model_id": "439c417779df4a92a76ea9b6321e2a96",
       "version_major": 2,
       "version_minor": 0
      },
      "text/plain": [
       "  0%|          | 0/75 [00:00<?, ?it/s]"
      ]
     },
     "metadata": {},
     "output_type": "display_data"
    },
    {
     "data": {
      "application/vnd.jupyter.widget-view+json": {
       "model_id": "7b8d6c1869f24b23a78bb8b82e479e83",
       "version_major": 2,
       "version_minor": 0
      },
      "text/plain": [
       "  0%|          | 0/100 [00:00<?, ?it/s]"
      ]
     },
     "metadata": {},
     "output_type": "display_data"
    },
    {
     "data": {
      "application/vnd.jupyter.widget-view+json": {
       "model_id": "8acfcdde6a0240e28dccf37038b9b349",
       "version_major": 2,
       "version_minor": 0
      },
      "text/plain": [
       "  0%|          | 0/150 [00:00<?, ?it/s]"
      ]
     },
     "metadata": {},
     "output_type": "display_data"
    },
    {
     "data": {
      "application/vnd.jupyter.widget-view+json": {
       "model_id": "d13c100a767144659636fa6f33a3dec6",
       "version_major": 2,
       "version_minor": 0
      },
      "text/plain": [
       "  0%|          | 0/75 [00:00<?, ?it/s]"
      ]
     },
     "metadata": {},
     "output_type": "display_data"
    },
    {
     "data": {
      "application/vnd.jupyter.widget-view+json": {
       "model_id": "fb5525181dca4df480149a6887e2d79e",
       "version_major": 2,
       "version_minor": 0
      },
      "text/plain": [
       "  0%|          | 0/100 [00:00<?, ?it/s]"
      ]
     },
     "metadata": {},
     "output_type": "display_data"
    },
    {
     "data": {
      "application/vnd.jupyter.widget-view+json": {
       "model_id": "da28b0427ae44faca455cf734c10e416",
       "version_major": 2,
       "version_minor": 0
      },
      "text/plain": [
       "  0%|          | 0/150 [00:00<?, ?it/s]"
      ]
     },
     "metadata": {},
     "output_type": "display_data"
    },
    {
     "data": {
      "application/vnd.jupyter.widget-view+json": {
       "model_id": "e5b43443fe1c467ca0fb3ae5bb5e7bad",
       "version_major": 2,
       "version_minor": 0
      },
      "text/plain": [
       "  0%|          | 0/75 [00:00<?, ?it/s]"
      ]
     },
     "metadata": {},
     "output_type": "display_data"
    },
    {
     "data": {
      "application/vnd.jupyter.widget-view+json": {
       "model_id": "499541aba2c24536a552933fdf21fa72",
       "version_major": 2,
       "version_minor": 0
      },
      "text/plain": [
       "  0%|          | 0/100 [00:00<?, ?it/s]"
      ]
     },
     "metadata": {},
     "output_type": "display_data"
    },
    {
     "data": {
      "application/vnd.jupyter.widget-view+json": {
       "model_id": "e461442f507c4052b255f530e934fa03",
       "version_major": 2,
       "version_minor": 0
      },
      "text/plain": [
       "  0%|          | 0/150 [00:00<?, ?it/s]"
      ]
     },
     "metadata": {},
     "output_type": "display_data"
    }
   ],
   "source": [
    "best_mrr = 0\n",
    "best_params = {}\n",
    "\n",
    "for param_set in get_params_combinations(params):\n",
    "    current_mrr = 0\n",
    "    model = BayesianPersonalizedRanking(factors=param_set['factors'], learning_rate=param_set['learning_rate'],\n",
    "                                        regularization=param_set['regularization'], iterations=param_set['iterations'])\n",
    "    model.fit(interaction_matrix)\n",
    "    current_mrr = mrr(val_sample['userID'].to_numpy(), val_items.to_numpy(), \n",
    "                      model=model, interaction_matrix=interaction_matrix)\n",
    "    if current_mrr > best_mrr:\n",
    "        print('new_best_mrr:', current_mrr)\n",
    "        best_mrr = current_mrr\n",
    "        best_params = param_set"
   ]
  },
  {
   "cell_type": "markdown",
   "id": "1118f5a3-db75-4cf4-881f-fbde48fa2e39",
   "metadata": {},
   "source": [
    "### Метрики"
   ]
  },
  {
   "cell_type": "code",
   "execution_count": 184,
   "id": "a8e15a70-0772-4de1-a023-93272d525d54",
   "metadata": {},
   "outputs": [
    {
     "data": {
      "text/plain": [
       "0.10596330993394913"
      ]
     },
     "execution_count": 184,
     "metadata": {},
     "output_type": "execute_result"
    }
   ],
   "source": [
    "mrr(test_row, test_col, \n",
    "                  model=model, interaction_matrix=interaction_matrix)"
   ]
  },
  {
   "cell_type": "code",
   "execution_count": 185,
   "id": "32b64be5-5490-405d-85a8-93367f016172",
   "metadata": {},
   "outputs": [
    {
     "data": {
      "application/vnd.jupyter.widget-view+json": {
       "model_id": "e149282a30d94ebca039843dc87b4310",
       "version_major": 2,
       "version_minor": 0
      },
      "text/plain": [
       "  0%|          | 0/117561 [00:00<?, ?it/s]"
      ]
     },
     "metadata": {},
     "output_type": "display_data"
    },
    {
     "data": {
      "text/plain": [
       "0.2454736370461747"
      ]
     },
     "execution_count": 185,
     "metadata": {},
     "output_type": "execute_result"
    }
   ],
   "source": [
    "ndcg_at_k(model, interaction_matrix, test_matrix, K=100)"
   ]
  },
  {
   "cell_type": "code",
   "execution_count": 186,
   "id": "7e08bd1d-4ae8-45db-92c3-3af0262e4088",
   "metadata": {},
   "outputs": [
    {
     "data": {
      "text/plain": [
       "0.6751388640790739"
      ]
     },
     "execution_count": 186,
     "metadata": {},
     "output_type": "execute_result"
    }
   ],
   "source": [
    "hit_rate_by_k(test_row, test_col, model=model, interaction_matrix=interaction_matrix, top_k=100)"
   ]
  },
  {
   "cell_type": "markdown",
   "id": "95ebebc7-c535-4c30-93bb-d97e20c39d56",
   "metadata": {},
   "source": [
    "# Учет порядка (sequence-based)"
   ]
  },
  {
   "cell_type": "markdown",
   "id": "f9451cc4-dfc9-4572-a1bd-dafd073c3290",
   "metadata": {},
   "source": [
    "Качество можно потенциально улучшить, если использовать RNN, LSTM или трансформеры. Но выходных значений может быть более 40к, и для точных предсказаний нужно гораздо больше обучающих данных. Можно, конечно, использовать скользящее окно контекста размером 3, тогда для последовательности длиной 50 можно получить 47 семплов, но такой маленький размер окна вряд ли даст хороший результат + для половины семплов в обучающей последовательности можно использовать только первый элемент."
   ]
  },
  {
   "cell_type": "code",
   "execution_count": null,
   "id": "ee1c257f-08a2-4e66-b90c-9b586f960bd5",
   "metadata": {},
   "outputs": [],
   "source": []
  }
 ],
 "metadata": {
  "kernelspec": {
   "display_name": "Python 3 (ipykernel)",
   "language": "python",
   "name": "python3"
  },
  "language_info": {
   "codemirror_mode": {
    "name": "ipython",
    "version": 3
   },
   "file_extension": ".py",
   "mimetype": "text/x-python",
   "name": "python",
   "nbconvert_exporter": "python",
   "pygments_lexer": "ipython3",
   "version": "3.11.7"
  }
 },
 "nbformat": 4,
 "nbformat_minor": 5
}
